{
 "cells": [
  {
   "cell_type": "markdown",
   "metadata": {},
   "source": [
    "# Character-Level LSTM in PyTorch\n",
    "\n",
    "In this notebook, I'll construct a character-level LSTM with PyTorch. The network will train character by character on some text, then generate new text character by character. As an example, I will train on Anna Karenina. **This model will be able to generate new text based on the text from the book!**\n",
    "\n",
    "This network is based off of Andrej Karpathy's [post on RNNs](http://karpathy.github.io/2015/05/21/rnn-effectiveness/) and [implementation in Torch](https://github.com/karpathy/char-rnn). Below is the general architecture of the character-wise RNN.\n",
    "\n",
    "<img src=\"assets/charseq.jpeg\" width=\"500\">"
   ]
  },
  {
   "cell_type": "markdown",
   "metadata": {},
   "source": [
    "First let's load in our required resources for data loading and model creation."
   ]
  },
  {
   "cell_type": "code",
   "execution_count": 2,
   "metadata": {
    "collapsed": true
   },
   "outputs": [],
   "source": [
    "import numpy as np\n",
    "import torch\n",
    "from torch import nn\n",
    "import torch.nn.functional as F"
   ]
  },
  {
   "cell_type": "markdown",
   "metadata": {},
   "source": [
    "## Load in Data\n",
    "\n",
    "Then, we'll load the Anna Karenina text file and convert it into integers for our network to use. "
   ]
  },
  {
   "cell_type": "code",
   "execution_count": 3,
   "metadata": {
    "collapsed": true
   },
   "outputs": [],
   "source": [
    "# open text file and read in data as `text`\n",
    "with open('data/anna.txt', 'r') as f:\n",
    "    text = f.read()"
   ]
  },
  {
   "cell_type": "markdown",
   "metadata": {},
   "source": [
    "Let's check out the first 100 characters, make sure everything is peachy. According to the [American Book Review](http://americanbookreview.org/100bestlines.asp), this is the 6th best first line of a book ever."
   ]
  },
  {
   "cell_type": "code",
   "execution_count": 4,
   "metadata": {},
   "outputs": [
    {
     "data": {
      "text/plain": [
       "'Chapter 1\\n\\n\\nHappy families are all alike; every unhappy family is unhappy in its own\\nway.\\n\\nEverythin'"
      ]
     },
     "execution_count": 4,
     "metadata": {},
     "output_type": "execute_result"
    }
   ],
   "source": [
    "text[:100]"
   ]
  },
  {
   "cell_type": "markdown",
   "metadata": {},
   "source": [
    "### Tokenization\n",
    "\n",
    "In the cells, below, I'm creating a couple **dictionaries** to convert the characters to and from integers. Encoding the characters as integers makes it easier to use as input in the network."
   ]
  },
  {
   "cell_type": "code",
   "execution_count": 5,
   "metadata": {
    "collapsed": true
   },
   "outputs": [],
   "source": [
    "# encode the text and map each character to an integer and vice versa\n",
    "\n",
    "# we create two dictionaries:\n",
    "# 1. int2char, which maps integers to characters\n",
    "# 2. char2int, which maps characters to unique integers\n",
    "chars = tuple(set(text))\n",
    "int2char = dict(enumerate(chars))\n",
    "char2int = {ch: ii for ii, ch in int2char.items()}\n",
    "\n",
    "# encode the text\n",
    "encoded = np.array([char2int[ch] for ch in text])"
   ]
  },
  {
   "cell_type": "markdown",
   "metadata": {},
   "source": [
    "And we can see those same characters from above, encoded as integers."
   ]
  },
  {
   "cell_type": "code",
   "execution_count": 6,
   "metadata": {},
   "outputs": [
    {
     "data": {
      "text/plain": [
       "array([72, 58, 27, 64,  0, 44, 73, 15,  3,  1,  1,  1, 62, 27, 64, 64, 28,\n",
       "       15, 80, 27, 48, 74, 53, 74, 44, 40, 15, 27, 73, 44, 15, 27, 53, 53,\n",
       "       15, 27, 53, 74, 29, 44, 23, 15, 44, 75, 44, 73, 28, 15, 67, 55, 58,\n",
       "       27, 64, 64, 28, 15, 80, 27, 48, 74, 53, 28, 15, 74, 40, 15, 67, 55,\n",
       "       58, 27, 64, 64, 28, 15, 74, 55, 15, 74,  0, 40, 15, 49, 38, 55,  1,\n",
       "       38, 27, 28, 25,  1,  1, 42, 75, 44, 73, 28,  0, 58, 74, 55])"
      ]
     },
     "execution_count": 6,
     "metadata": {},
     "output_type": "execute_result"
    }
   ],
   "source": [
    "encoded[:100]"
   ]
  },
  {
   "cell_type": "markdown",
   "metadata": {},
   "source": [
    "## Pre-processing the data\n",
    "\n",
    "As you can see in our char-RNN image above, our LSTM expects an input that is **one-hot encoded** meaning that each character is converted into an integer (via our created dictionary) and *then* converted into a column vector where only it's corresponding integer index will have the value of 1 and the rest of the vector will be filled with 0's. Since we're one-hot encoding the data, let's make a function to do that!\n"
   ]
  },
  {
   "cell_type": "code",
   "execution_count": 7,
   "metadata": {},
   "outputs": [
    {
     "name": "stdout",
     "output_type": "stream",
     "text": [
      "0.4.0\n"
     ]
    }
   ],
   "source": [
    "import torch\n",
    "print(torch.__version__)"
   ]
  },
  {
   "cell_type": "code",
   "execution_count": 8,
   "metadata": {
    "collapsed": true
   },
   "outputs": [],
   "source": [
    "def one_hot_encode(arr, n_labels):\n",
    "    \n",
    "    # Initialize the the encoded array\n",
    "    one_hot = np.zeros((np.multiply(*arr.shape), n_labels), dtype=np.float32)\n",
    "    \n",
    "    # Fill the appropriate elements with ones\n",
    "    one_hot[np.arange(one_hot.shape[0]), arr.flatten()] = 1.\n",
    "    \n",
    "    # Finally reshape it to get back to the original array\n",
    "    one_hot = one_hot.reshape((*arr.shape, n_labels))\n",
    "    \n",
    "    return one_hot"
   ]
  },
  {
   "cell_type": "code",
   "execution_count": 9,
   "metadata": {},
   "outputs": [
    {
     "name": "stdout",
     "output_type": "stream",
     "text": [
      "[[[ 0.  0.  0.  1.  0.  0.  0.  0.]\n",
      "  [ 0.  0.  0.  0.  0.  1.  0.  0.]\n",
      "  [ 0.  1.  0.  0.  0.  0.  0.  0.]]]\n"
     ]
    }
   ],
   "source": [
    "# check that the function works as expected\n",
    "test_seq = np.array([[3, 5, 1]])\n",
    "one_hot = one_hot_encode(test_seq, 8)\n",
    "\n",
    "print(one_hot)"
   ]
  },
  {
   "cell_type": "markdown",
   "metadata": {},
   "source": [
    "## Making training mini-batches\n",
    "\n",
    "\n",
    "To train on this data, we also want to create mini-batches for training. Remember that we want our batches to be multiple sequences of some desired number of sequence steps. Considering a simple example, our batches would look like this:\n",
    "\n",
    "<img src=\"assets/sequence_batching@1x.png\" width=500px>\n",
    "\n",
    "\n",
    "<br>\n",
    "\n",
    "In this example, we'll take the encoded characters (passed in as the `arr` parameter) and split them into multiple sequences, given by `batch_size`. Each of our sequences will be `seq_length` long.\n",
    "\n",
    "### Creating Batches\n",
    "\n",
    "**1. The first thing we need to do is discard some of the text so we only have completely full mini-batches. **\n",
    "\n",
    "Each batch contains $N \\times M$ characters, where $N$ is the batch size (the number of sequences in a batch) and $M$ is the seq_length or number of time steps in a sequence. Then, to get the total number of batches, $K$, that we can make from the array `arr`, you divide the length of `arr` by the number of characters per batch. Once you know the number of batches, you can get the total number of characters to keep from `arr`, $N * M * K$.\n",
    "\n",
    "**2. After that, we need to split `arr` into $N$ batches. ** \n",
    "\n",
    "You can do this using `arr.reshape(size)` where `size` is a tuple containing the dimensions sizes of the reshaped array. We know we want $N$ sequences in a batch, so let's make that the size of the first dimension. For the second dimension, you can use `-1` as a placeholder in the size, it'll fill up the array with the appropriate data for you. After this, you should have an array that is $N \\times (M * K)$.\n",
    "\n",
    "**3. Now that we have this array, we can iterate through it to get our mini-batches. **\n",
    "\n",
    "The idea is each batch is a $N \\times M$ window on the $N \\times (M * K)$ array. For each subsequent batch, the window moves over by `seq_length`. We also want to create both the input and target arrays. Remember that the targets are just the inputs shifted over by one character. The way I like to do this window is use `range` to take steps of size `n_steps` from $0$ to `arr.shape[1]`, the total number of tokens in each sequence. That way, the integers you get from `range` always point to the start of a batch, and each window is `seq_length` wide.\n",
    "\n",
    "> **TODO:** Write the code for creating batches in the function below. The exercises in this notebook _will not be easy_. I've provided a notebook with solutions alongside this notebook. If you get stuck, checkout the solutions. The most important thing is that you don't copy and paste the code into here, **type out the solution code yourself.**"
   ]
  },
  {
   "cell_type": "code",
   "execution_count": 10,
   "metadata": {
    "collapsed": true
   },
   "outputs": [],
   "source": [
    "def get_batches(arr, batch_size, seq_length):\n",
    "    '''Create a generator that returns batches of size\n",
    "       batch_size x seq_length from arr.\n",
    "       \n",
    "       Arguments\n",
    "       ---------\n",
    "       arr: Array you want to make batches from\n",
    "       batch_size: Batch size, the number of sequences per batch\n",
    "       seq_length: Number of encoded chars in a sequence\n",
    "    '''\n",
    "    \n",
    "    batch_size_total = batch_size * seq_length\n",
    "    # total number of batches we can make\n",
    "    n_batches = len(arr)//batch_size_total\n",
    "    \n",
    "    # Keep only enough characters to make full batches\n",
    "    arr = arr[:n_batches * batch_size_total]\n",
    "    # Reshape into batch_size rows\n",
    "    arr = arr.reshape((batch_size, -1))\n",
    "    \n",
    "    # iterate through the array, one sequence at a time\n",
    "    for n in range(0, arr.shape[1], seq_length):\n",
    "        # The features\n",
    "        x = arr[:, n:n+seq_length]\n",
    "        # The targets, shifted by one\n",
    "        y = np.zeros_like(x)\n",
    "        try:\n",
    "            y[:, :-1], y[:, -1] = x[:, 1:], arr[:, n+seq_length]\n",
    "        except IndexError:\n",
    "            y[:, :-1], y[:, -1] = x[:, 1:], arr[:, 0]\n",
    "        yield x, y"
   ]
  },
  {
   "cell_type": "markdown",
   "metadata": {},
   "source": [
    "### Test Your Implementation\n",
    "\n",
    "Now I'll make some data sets and we can check out what's going on as we batch data. Here, as an example, I'm going to use a batch size of 8 and 50 sequence steps."
   ]
  },
  {
   "cell_type": "code",
   "execution_count": 11,
   "metadata": {
    "collapsed": true
   },
   "outputs": [],
   "source": [
    "batches = get_batches(encoded, 8, 50)\n",
    "x, y = next(batches)"
   ]
  },
  {
   "cell_type": "code",
   "execution_count": 12,
   "metadata": {},
   "outputs": [
    {
     "name": "stdout",
     "output_type": "stream",
     "text": [
      "x\n",
      " [[72 58 27 64  0 44 73 15  3  1]\n",
      " [40 49 55 15  0 58 27  0 15 27]\n",
      " [44 55 60 15 49 73 15 27 15 80]\n",
      " [40 15  0 58 44 15  4 58 74 44]\n",
      " [15 40 27 38 15 58 44 73 15  0]\n",
      " [ 4 67 40 40 74 49 55 15 27 55]\n",
      " [15 20 55 55 27 15 58 27 60 15]\n",
      " [30 56 53 49 55 40 29 28 25 15]]\n",
      "\n",
      "y\n",
      " [[58 27 64  0 44 73 15  3  1  1]\n",
      " [49 55 15  0 58 27  0 15 27  0]\n",
      " [55 60 15 49 73 15 27 15 80 49]\n",
      " [15  0 58 44 15  4 58 74 44 80]\n",
      " [40 27 38 15 58 44 73 15  0 44]\n",
      " [67 40 40 74 49 55 15 27 55 60]\n",
      " [20 55 55 27 15 58 27 60 15 40]\n",
      " [56 53 49 55 40 29 28 25 15  7]]\n"
     ]
    }
   ],
   "source": [
    "# printing out the first 10 items in a sequence\n",
    "print('x\\n', x[:10, :10])\n",
    "print('\\ny\\n', y[:10, :10])"
   ]
  },
  {
   "cell_type": "markdown",
   "metadata": {},
   "source": [
    "If you implemented `get_batches` correctly, the above output should look something like \n",
    "```\n",
    "x\n",
    " [[25  8 60 11 45 27 28 73  1  2]\n",
    " [17  7 20 73 45  8 60 45 73 60]\n",
    " [27 20 80 73  7 28 73 60 73 65]\n",
    " [17 73 45  8 27 73 66  8 46 27]\n",
    " [73 17 60 12 73  8 27 28 73 45]\n",
    " [66 64 17 17 46  7 20 73 60 20]\n",
    " [73 76 20 20 60 73  8 60 80 73]\n",
    " [47 35 43  7 20 17 24 50 37 73]]\n",
    "\n",
    "y\n",
    " [[ 8 60 11 45 27 28 73  1  2  2]\n",
    " [ 7 20 73 45  8 60 45 73 60 45]\n",
    " [20 80 73  7 28 73 60 73 65  7]\n",
    " [73 45  8 27 73 66  8 46 27 65]\n",
    " [17 60 12 73  8 27 28 73 45 27]\n",
    " [64 17 17 46  7 20 73 60 20 80]\n",
    " [76 20 20 60 73  8 60 80 73 17]\n",
    " [35 43  7 20 17 24 50 37 73 36]]\n",
    " ```\n",
    " although the exact numbers may be different. Check to make sure the data is shifted over one step for `y`."
   ]
  },
  {
   "cell_type": "markdown",
   "metadata": {},
   "source": [
    "---\n",
    "## Defining the network with PyTorch\n",
    "\n",
    "Below is where you'll define the network.\n",
    "\n",
    "<img src=\"assets/charRNN.png\" width=500px>\n",
    "\n",
    "Next, you'll use PyTorch to define the architecture of the network. We start by defining the layers and operations we want. Then, define a method for the forward pass. You've also been given a method for predicting characters."
   ]
  },
  {
   "cell_type": "markdown",
   "metadata": {},
   "source": [
    "### Model Structure\n",
    "\n",
    "In `__init__` the suggested structure is as follows:\n",
    "* Create and store the necessary dictionaries (this has been done for you)\n",
    "* Define an LSTM layer that takes as params: an input size (the number of characters), a hidden layer size `n_hidden`, a number of layers `n_layers`, a dropout probability `drop_prob`, and a batch_first boolean (True, since we are batching)\n",
    "* Define a dropout layer with `dropout_prob`\n",
    "* Define a fully-connected layer with params: input size `n_hidden` and output size (the number of characters)\n",
    "* Finally, initialize the weights (again, this has been given)\n",
    "\n",
    "Note that some parameters have been named and given in the `__init__` function, and we use them and store them by doing something like `self.drop_prob = drop_prob`."
   ]
  },
  {
   "cell_type": "markdown",
   "metadata": {},
   "source": [
    "---\n",
    "### LSTM Inputs/Outputs\n",
    "\n",
    "You can create a basic [LSTM layer](https://pytorch.org/docs/stable/nn.html#lstm) as follows\n",
    "\n",
    "```python\n",
    "self.lstm = nn.LSTM(input_size, n_hidden, n_layers, \n",
    "                            dropout=drop_prob, batch_first=True)\n",
    "```\n",
    "\n",
    "where `input_size` is the number of characters this cell expects to see as sequential input, and `n_hidden` is the number of units in the hidden layers in the cell. And we can add dropout by adding a dropout parameter with a specified probability; this will automatically add dropout to the inputs or outputs. Finally, in the `forward` function, we can stack up the LSTM cells into layers using `.view`. With this, you pass in a list of cells and it will send the output of one cell into the next cell.\n",
    "\n",
    "We also need to create an initial hidden state of all zeros. This is done like so\n",
    "\n",
    "```python\n",
    "self.init_hidden()\n",
    "```"
   ]
  },
  {
   "cell_type": "code",
   "execution_count": 13,
   "metadata": {},
   "outputs": [
    {
     "name": "stdout",
     "output_type": "stream",
     "text": [
      "Training on GPU!\n"
     ]
    }
   ],
   "source": [
    "# check if GPU is available\n",
    "train_on_gpu = torch.cuda.is_available()\n",
    "if(train_on_gpu):\n",
    "    print('Training on GPU!')\n",
    "else: \n",
    "    print('No GPU available, training on CPU; consider making n_epochs very small.')"
   ]
  },
  {
   "cell_type": "code",
   "execution_count": 14,
   "metadata": {
    "collapsed": true
   },
   "outputs": [],
   "source": [
    "class CharRNN(nn.Module):\n",
    "    \n",
    "    def __init__(self, tokens, n_hidden=256, n_layers=2, drop_prob=0.5, lr=0.001):\n",
    "        super().__init__()\n",
    "        self.drop_prob = drop_prob\n",
    "        self.n_layers = n_layers\n",
    "        self.n_hidden = n_hidden\n",
    "        self.lr = lr\n",
    "        \n",
    "        # creating character dictionaries\n",
    "        self.chars = tokens\n",
    "        self.int2char = dict(enumerate(self.chars))\n",
    "        self.char2int = {ch: ii for ii, ch in self.int2char.items()}\n",
    "        \n",
    "        ## TODO: define the LSTM\n",
    "        self.lstm = nn.LSTM(len(self.chars), n_hidden, n_layers,dropout=drop_prob, batch_first=True)\n",
    "        \n",
    "        ## TODO: define a dropout layer\n",
    "        self.dropout = nn.Dropout(drop_prob)\n",
    "        \n",
    "        ## TODO: define the final, fully-connected output layer\n",
    "        self.fc = nn.Linear(n_hidden, len(self.chars))\n",
    "      \n",
    "    \n",
    "    def forward(self, x, hidden):\n",
    "        ''' Forward pass through the network. \n",
    "            These inputs are x, and the hidden/cell state `hidden`. '''\n",
    "                \n",
    "        ## TODO: Get the outputs and the new hidden state from the lstm\n",
    "        r_output, hidden = self.lstm(x, hidden)\n",
    "        \n",
    "        ## TODO: pass through a dropout layer\n",
    "        out = self.dropout(r_output)\n",
    "        \n",
    "        # Stack up LSTM outputs using view\n",
    "        # you may need to use contiguous to reshape the output\n",
    "        out = out.contiguous().view(-1, self.n_hidden)\n",
    "        \n",
    "        ## TODO: put x through the fully-connected layer\n",
    "        out = self.fc(out)\n",
    "        \n",
    "        # return the final output and the hidden state\n",
    "        return out, hidden\n",
    "    \n",
    "    \n",
    "    def init_hidden(self, batch_size):\n",
    "        ''' Initializes hidden state '''\n",
    "        # Create two new tensors with sizes n_layers x batch_size x n_hidden,\n",
    "        # initialized to zero, for hidden state and cell state of LSTM\n",
    "        weight = next(self.parameters()).data\n",
    "        \n",
    "        if (train_on_gpu):\n",
    "            hidden = (weight.new(self.n_layers, batch_size, self.n_hidden).zero_().cuda(),\n",
    "                  weight.new(self.n_layers, batch_size, self.n_hidden).zero_().cuda())\n",
    "        else:\n",
    "            hidden = (weight.new(self.n_layers, batch_size, self.n_hidden).zero_(),\n",
    "                      weight.new(self.n_layers, batch_size, self.n_hidden).zero_())\n",
    "        \n",
    "        return hidden"
   ]
  },
  {
   "cell_type": "markdown",
   "metadata": {},
   "source": [
    "## Time to train\n",
    "\n",
    "The train function gives us the ability to set the number of epochs, the learning rate, and other parameters.\n",
    "\n",
    "Below we're using an Adam optimizer and cross entropy loss since we are looking at character class scores as output. We calculate the loss and perform backpropagation, as usual!\n",
    "\n",
    "A couple of details about training: \n",
    ">* Within the batch loop, we detach the hidden state from its history; this time setting it equal to a new *tuple* variable because an LSTM has a hidden state that is a tuple of the hidden and cell states.\n",
    "* We use [`clip_grad_norm_`](https://pytorch.org/docs/stable/_modules/torch/nn/utils/clip_grad.html) to help prevent exploding gradients."
   ]
  },
  {
   "cell_type": "code",
   "execution_count": 15,
   "metadata": {
    "collapsed": true
   },
   "outputs": [],
   "source": [
    "def train(net, data, epochs=10, batch_size=10, seq_length=50, lr=0.001, clip=5, val_frac=0.1, print_every=10):\n",
    "    ''' Training a network \n",
    "    \n",
    "        Arguments\n",
    "        ---------\n",
    "        \n",
    "        net: CharRNN network\n",
    "        data: text data to train the network\n",
    "        epochs: Number of epochs to train\n",
    "        batch_size: Number of mini-sequences per mini-batch, aka batch size\n",
    "        seq_length: Number of character steps per mini-batch\n",
    "        lr: learning rate\n",
    "        clip: gradient clipping\n",
    "        val_frac: Fraction of data to hold out for validation\n",
    "        print_every: Number of steps for printing training and validation loss\n",
    "    \n",
    "    '''\n",
    "    net.train()\n",
    "    \n",
    "    opt = torch.optim.Adam(net.parameters(), lr=lr)\n",
    "    criterion = nn.CrossEntropyLoss()\n",
    "    \n",
    "    # create training and validation data\n",
    "    val_idx = int(len(data)*(1-val_frac))\n",
    "    data, val_data = data[:val_idx], data[val_idx:]\n",
    "    \n",
    "    if(train_on_gpu):\n",
    "        net.cuda()\n",
    "    \n",
    "    counter = 0\n",
    "    n_chars = len(net.chars)\n",
    "    for e in range(epochs):\n",
    "        # initialize hidden state\n",
    "        h = net.init_hidden(batch_size)\n",
    "        \n",
    "        for x, y in get_batches(data, batch_size, seq_length):\n",
    "            counter += 1\n",
    "            \n",
    "            # One-hot encode our data and make them Torch tensors\n",
    "            x = one_hot_encode(x, n_chars)\n",
    "            inputs, targets = torch.from_numpy(x), torch.from_numpy(y)\n",
    "            \n",
    "            if(train_on_gpu):\n",
    "                inputs, targets = inputs.cuda(), targets.cuda()\n",
    "\n",
    "            # Creating new variables for the hidden state, otherwise\n",
    "            # we'd backprop through the entire training history\n",
    "            h = tuple([each.data for each in h])\n",
    "\n",
    "            # zero accumulated gradients\n",
    "            net.zero_grad()\n",
    "            \n",
    "            # get the output from the model\n",
    "            output, h = net(inputs, h)\n",
    "            \n",
    "            # calculate the loss and perform backprop\n",
    "            loss = criterion(output, targets.view(batch_size*seq_length))\n",
    "            loss.backward()\n",
    "            # `clip_grad_norm` helps prevent the exploding gradient problem in RNNs / LSTMs.\n",
    "            nn.utils.clip_grad_norm_(net.parameters(), clip)\n",
    "            opt.step()\n",
    "            \n",
    "            # loss stats\n",
    "            if counter % print_every == 0:\n",
    "                # Get validation loss\n",
    "                val_h = net.init_hidden(batch_size)\n",
    "                val_losses = []\n",
    "                net.eval()\n",
    "                for x, y in get_batches(val_data, batch_size, seq_length):\n",
    "                    # One-hot encode our data and make them Torch tensors\n",
    "                    x = one_hot_encode(x, n_chars)\n",
    "                    x, y = torch.from_numpy(x), torch.from_numpy(y)\n",
    "                    \n",
    "                    # Creating new variables for the hidden state, otherwise\n",
    "                    # we'd backprop through the entire training history\n",
    "                    val_h = tuple([each.data for each in val_h])\n",
    "                    \n",
    "                    inputs, targets = x, y\n",
    "                    if(train_on_gpu):\n",
    "                        inputs, targets = inputs.cuda(), targets.cuda()\n",
    "\n",
    "                    output, val_h = net(inputs, val_h)\n",
    "                    val_loss = criterion(output, targets.view(batch_size*seq_length))\n",
    "                \n",
    "                    val_losses.append(val_loss.item())\n",
    "                \n",
    "                net.train() # reset to train mode after iterationg through validation data\n",
    "                \n",
    "                print(\"Epoch: {}/{}...\".format(e+1, epochs),\n",
    "                      \"Step: {}...\".format(counter),\n",
    "                      \"Loss: {:.4f}...\".format(loss.item()),\n",
    "                      \"Val Loss: {:.4f}\".format(np.mean(val_losses)))"
   ]
  },
  {
   "cell_type": "markdown",
   "metadata": {},
   "source": [
    "## Instantiating the model\n",
    "\n",
    "Now we can actually train the network. First we'll create the network itself, with some given hyperparameters. Then, define the mini-batches sizes, and start training!"
   ]
  },
  {
   "cell_type": "code",
   "execution_count": 16,
   "metadata": {},
   "outputs": [
    {
     "name": "stdout",
     "output_type": "stream",
     "text": [
      "CharRNN(\n",
      "  (lstm): LSTM(83, 512, num_layers=2, batch_first=True, dropout=0.5)\n",
      "  (dropout): Dropout(p=0.5)\n",
      "  (fc): Linear(in_features=512, out_features=83, bias=True)\n",
      ")\n"
     ]
    }
   ],
   "source": [
    "## TODO: set you model hyperparameters\n",
    "# define and print the net\n",
    "n_hidden=512\n",
    "n_layers=2\n",
    "\n",
    "net = CharRNN(chars, n_hidden, n_layers)\n",
    "print(net)"
   ]
  },
  {
   "cell_type": "markdown",
   "metadata": {},
   "source": [
    "### Set your training hyperparameters!"
   ]
  },
  {
   "cell_type": "code",
   "execution_count": 17,
   "metadata": {
    "scrolled": true
   },
   "outputs": [
    {
     "name": "stdout",
     "output_type": "stream",
     "text": [
      "Epoch: 1/20... Step: 10... Loss: 3.2527... Val Loss: 3.1667\n",
      "Epoch: 1/20... Step: 20... Loss: 3.1453... Val Loss: 3.1282\n",
      "Epoch: 1/20... Step: 30... Loss: 3.1354... Val Loss: 3.1211\n",
      "Epoch: 1/20... Step: 40... Loss: 3.1156... Val Loss: 3.1194\n",
      "Epoch: 1/20... Step: 50... Loss: 3.1382... Val Loss: 3.1169\n",
      "Epoch: 1/20... Step: 60... Loss: 3.1160... Val Loss: 3.1143\n",
      "Epoch: 1/20... Step: 70... Loss: 3.1051... Val Loss: 3.1111\n",
      "Epoch: 1/20... Step: 80... Loss: 3.1134... Val Loss: 3.1020\n",
      "Epoch: 1/20... Step: 90... Loss: 3.0994... Val Loss: 3.0820\n",
      "Epoch: 1/20... Step: 100... Loss: 3.0573... Val Loss: 3.0381\n",
      "Epoch: 1/20... Step: 110... Loss: 2.9648... Val Loss: 2.9676\n",
      "Epoch: 1/20... Step: 120... Loss: 2.9207... Val Loss: 2.9081\n",
      "Epoch: 1/20... Step: 130... Loss: 2.8108... Val Loss: 2.7722\n",
      "Epoch: 2/20... Step: 140... Loss: 2.7116... Val Loss: 2.6592\n",
      "Epoch: 2/20... Step: 150... Loss: 2.6300... Val Loss: 2.5724\n",
      "Epoch: 2/20... Step: 160... Loss: 2.5665... Val Loss: 2.5183\n",
      "Epoch: 2/20... Step: 170... Loss: 2.4875... Val Loss: 2.4739\n",
      "Epoch: 2/20... Step: 180... Loss: 2.4617... Val Loss: 2.4372\n",
      "Epoch: 2/20... Step: 190... Loss: 2.4155... Val Loss: 2.4118\n",
      "Epoch: 2/20... Step: 200... Loss: 2.4036... Val Loss: 2.3743\n",
      "Epoch: 2/20... Step: 210... Loss: 2.3806... Val Loss: 2.3469\n",
      "Epoch: 2/20... Step: 220... Loss: 2.3443... Val Loss: 2.3228\n",
      "Epoch: 2/20... Step: 230... Loss: 2.3317... Val Loss: 2.2960\n",
      "Epoch: 2/20... Step: 240... Loss: 2.3129... Val Loss: 2.2739\n",
      "Epoch: 2/20... Step: 250... Loss: 2.2470... Val Loss: 2.2498\n",
      "Epoch: 2/20... Step: 260... Loss: 2.2206... Val Loss: 2.2225\n",
      "Epoch: 2/20... Step: 270... Loss: 2.2300... Val Loss: 2.2036\n",
      "Epoch: 3/20... Step: 280... Loss: 2.2222... Val Loss: 2.1798\n",
      "Epoch: 3/20... Step: 290... Loss: 2.1965... Val Loss: 2.1549\n",
      "Epoch: 3/20... Step: 300... Loss: 2.1661... Val Loss: 2.1361\n",
      "Epoch: 3/20... Step: 310... Loss: 2.1417... Val Loss: 2.1185\n",
      "Epoch: 3/20... Step: 320... Loss: 2.1121... Val Loss: 2.0942\n",
      "Epoch: 3/20... Step: 330... Loss: 2.0801... Val Loss: 2.0878\n",
      "Epoch: 3/20... Step: 340... Loss: 2.1052... Val Loss: 2.0643\n",
      "Epoch: 3/20... Step: 350... Loss: 2.0853... Val Loss: 2.0412\n",
      "Epoch: 3/20... Step: 360... Loss: 2.0180... Val Loss: 2.0222\n",
      "Epoch: 3/20... Step: 370... Loss: 2.0472... Val Loss: 2.0049\n",
      "Epoch: 3/20... Step: 380... Loss: 2.0154... Val Loss: 1.9896\n",
      "Epoch: 3/20... Step: 390... Loss: 1.9989... Val Loss: 1.9791\n",
      "Epoch: 3/20... Step: 400... Loss: 1.9706... Val Loss: 1.9627\n",
      "Epoch: 3/20... Step: 410... Loss: 1.9818... Val Loss: 1.9476\n",
      "Epoch: 4/20... Step: 420... Loss: 1.9654... Val Loss: 1.9353\n",
      "Epoch: 4/20... Step: 430... Loss: 1.9484... Val Loss: 1.9155\n",
      "Epoch: 4/20... Step: 440... Loss: 1.9359... Val Loss: 1.9059\n",
      "Epoch: 4/20... Step: 450... Loss: 1.8781... Val Loss: 1.8887\n",
      "Epoch: 4/20... Step: 460... Loss: 1.8705... Val Loss: 1.8794\n",
      "Epoch: 4/20... Step: 470... Loss: 1.8975... Val Loss: 1.8770\n",
      "Epoch: 4/20... Step: 480... Loss: 1.8827... Val Loss: 1.8567\n",
      "Epoch: 4/20... Step: 490... Loss: 1.8731... Val Loss: 1.8428\n",
      "Epoch: 4/20... Step: 500... Loss: 1.8780... Val Loss: 1.8333\n",
      "Epoch: 4/20... Step: 510... Loss: 1.8579... Val Loss: 1.8226\n",
      "Epoch: 4/20... Step: 520... Loss: 1.8580... Val Loss: 1.8118\n",
      "Epoch: 4/20... Step: 530... Loss: 1.8228... Val Loss: 1.8053\n",
      "Epoch: 4/20... Step: 540... Loss: 1.7801... Val Loss: 1.7915\n",
      "Epoch: 4/20... Step: 550... Loss: 1.8315... Val Loss: 1.7811\n",
      "Epoch: 5/20... Step: 560... Loss: 1.8005... Val Loss: 1.7699\n",
      "Epoch: 5/20... Step: 570... Loss: 1.7782... Val Loss: 1.7624\n",
      "Epoch: 5/20... Step: 580... Loss: 1.7667... Val Loss: 1.7547\n",
      "Epoch: 5/20... Step: 590... Loss: 1.7539... Val Loss: 1.7452\n",
      "Epoch: 5/20... Step: 600... Loss: 1.7485... Val Loss: 1.7375\n",
      "Epoch: 5/20... Step: 610... Loss: 1.7260... Val Loss: 1.7305\n",
      "Epoch: 5/20... Step: 620... Loss: 1.7440... Val Loss: 1.7204\n",
      "Epoch: 5/20... Step: 630... Loss: 1.7521... Val Loss: 1.7146\n",
      "Epoch: 5/20... Step: 640... Loss: 1.7149... Val Loss: 1.7054\n",
      "Epoch: 5/20... Step: 650... Loss: 1.7054... Val Loss: 1.6961\n",
      "Epoch: 5/20... Step: 660... Loss: 1.6850... Val Loss: 1.6924\n",
      "Epoch: 5/20... Step: 670... Loss: 1.7079... Val Loss: 1.6849\n",
      "Epoch: 5/20... Step: 680... Loss: 1.7105... Val Loss: 1.6780\n",
      "Epoch: 5/20... Step: 690... Loss: 1.6820... Val Loss: 1.6702\n",
      "Epoch: 6/20... Step: 700... Loss: 1.6785... Val Loss: 1.6617\n",
      "Epoch: 6/20... Step: 710... Loss: 1.6735... Val Loss: 1.6564\n",
      "Epoch: 6/20... Step: 720... Loss: 1.6525... Val Loss: 1.6487\n",
      "Epoch: 6/20... Step: 730... Loss: 1.6721... Val Loss: 1.6434\n",
      "Epoch: 6/20... Step: 740... Loss: 1.6364... Val Loss: 1.6377\n",
      "Epoch: 6/20... Step: 750... Loss: 1.6154... Val Loss: 1.6338\n",
      "Epoch: 6/20... Step: 760... Loss: 1.6569... Val Loss: 1.6290\n",
      "Epoch: 6/20... Step: 770... Loss: 1.6490... Val Loss: 1.6212\n",
      "Epoch: 6/20... Step: 780... Loss: 1.6237... Val Loss: 1.6162\n",
      "Epoch: 6/20... Step: 790... Loss: 1.6030... Val Loss: 1.6098\n",
      "Epoch: 6/20... Step: 800... Loss: 1.6285... Val Loss: 1.6081\n",
      "Epoch: 6/20... Step: 810... Loss: 1.6218... Val Loss: 1.6010\n",
      "Epoch: 6/20... Step: 820... Loss: 1.5723... Val Loss: 1.5934\n",
      "Epoch: 6/20... Step: 830... Loss: 1.6221... Val Loss: 1.5891\n",
      "Epoch: 7/20... Step: 840... Loss: 1.5725... Val Loss: 1.5838\n",
      "Epoch: 7/20... Step: 850... Loss: 1.5825... Val Loss: 1.5826\n",
      "Epoch: 7/20... Step: 860... Loss: 1.5682... Val Loss: 1.5739\n",
      "Epoch: 7/20... Step: 870... Loss: 1.5866... Val Loss: 1.5738\n",
      "Epoch: 7/20... Step: 880... Loss: 1.5813... Val Loss: 1.5715\n",
      "Epoch: 7/20... Step: 890... Loss: 1.5856... Val Loss: 1.5678\n",
      "Epoch: 7/20... Step: 900... Loss: 1.5611... Val Loss: 1.5622\n",
      "Epoch: 7/20... Step: 910... Loss: 1.5325... Val Loss: 1.5566\n",
      "Epoch: 7/20... Step: 920... Loss: 1.5523... Val Loss: 1.5524\n",
      "Epoch: 7/20... Step: 930... Loss: 1.5383... Val Loss: 1.5462\n",
      "Epoch: 7/20... Step: 940... Loss: 1.5391... Val Loss: 1.5469\n",
      "Epoch: 7/20... Step: 950... Loss: 1.5615... Val Loss: 1.5364\n",
      "Epoch: 7/20... Step: 960... Loss: 1.5589... Val Loss: 1.5365\n",
      "Epoch: 7/20... Step: 970... Loss: 1.5597... Val Loss: 1.5330\n",
      "Epoch: 8/20... Step: 980... Loss: 1.5324... Val Loss: 1.5288\n",
      "Epoch: 8/20... Step: 990... Loss: 1.5231... Val Loss: 1.5260\n",
      "Epoch: 8/20... Step: 1000... Loss: 1.5191... Val Loss: 1.5203\n",
      "Epoch: 8/20... Step: 1010... Loss: 1.5591... Val Loss: 1.5187\n",
      "Epoch: 8/20... Step: 1020... Loss: 1.5274... Val Loss: 1.5148\n",
      "Epoch: 8/20... Step: 1030... Loss: 1.5172... Val Loss: 1.5133\n",
      "Epoch: 8/20... Step: 1040... Loss: 1.5240... Val Loss: 1.5079\n",
      "Epoch: 8/20... Step: 1050... Loss: 1.5004... Val Loss: 1.5095\n",
      "Epoch: 8/20... Step: 1060... Loss: 1.5061... Val Loss: 1.5043\n",
      "Epoch: 8/20... Step: 1070... Loss: 1.5075... Val Loss: 1.4983\n",
      "Epoch: 8/20... Step: 1080... Loss: 1.5019... Val Loss: 1.4979\n",
      "Epoch: 8/20... Step: 1090... Loss: 1.4960... Val Loss: 1.4932\n",
      "Epoch: 8/20... Step: 1100... Loss: 1.4749... Val Loss: 1.4936\n",
      "Epoch: 8/20... Step: 1110... Loss: 1.4833... Val Loss: 1.4884\n",
      "Epoch: 9/20... Step: 1120... Loss: 1.4980... Val Loss: 1.4903\n",
      "Epoch: 9/20... Step: 1130... Loss: 1.4866... Val Loss: 1.4816\n",
      "Epoch: 9/20... Step: 1140... Loss: 1.4880... Val Loss: 1.4758\n",
      "Epoch: 9/20... Step: 1150... Loss: 1.5073... Val Loss: 1.4787\n",
      "Epoch: 9/20... Step: 1160... Loss: 1.4564... Val Loss: 1.4785\n",
      "Epoch: 9/20... Step: 1170... Loss: 1.4674... Val Loss: 1.4731\n",
      "Epoch: 9/20... Step: 1180... Loss: 1.4657... Val Loss: 1.4735\n",
      "Epoch: 9/20... Step: 1190... Loss: 1.4946... Val Loss: 1.4657\n",
      "Epoch: 9/20... Step: 1200... Loss: 1.4424... Val Loss: 1.4608\n",
      "Epoch: 9/20... Step: 1210... Loss: 1.4521... Val Loss: 1.4592\n",
      "Epoch: 9/20... Step: 1220... Loss: 1.4579... Val Loss: 1.4625\n",
      "Epoch: 9/20... Step: 1230... Loss: 1.4344... Val Loss: 1.4570\n",
      "Epoch: 9/20... Step: 1240... Loss: 1.4430... Val Loss: 1.4529\n",
      "Epoch: 9/20... Step: 1250... Loss: 1.4475... Val Loss: 1.4480\n",
      "Epoch: 10/20... Step: 1260... Loss: 1.4490... Val Loss: 1.4435\n",
      "Epoch: 10/20... Step: 1270... Loss: 1.4469... Val Loss: 1.4467\n",
      "Epoch: 10/20... Step: 1280... Loss: 1.4604... Val Loss: 1.4401\n",
      "Epoch: 10/20... Step: 1290... Loss: 1.4421... Val Loss: 1.4427\n",
      "Epoch: 10/20... Step: 1300... Loss: 1.4310... Val Loss: 1.4407\n",
      "Epoch: 10/20... Step: 1310... Loss: 1.4477... Val Loss: 1.4334\n",
      "Epoch: 10/20... Step: 1320... Loss: 1.4059... Val Loss: 1.4385\n",
      "Epoch: 10/20... Step: 1330... Loss: 1.4159... Val Loss: 1.4341\n",
      "Epoch: 10/20... Step: 1340... Loss: 1.4023... Val Loss: 1.4265\n",
      "Epoch: 10/20... Step: 1350... Loss: 1.3923... Val Loss: 1.4266\n",
      "Epoch: 10/20... Step: 1360... Loss: 1.3977... Val Loss: 1.4266\n",
      "Epoch: 10/20... Step: 1370... Loss: 1.3913... Val Loss: 1.4223\n",
      "Epoch: 10/20... Step: 1380... Loss: 1.4268... Val Loss: 1.4176\n",
      "Epoch: 10/20... Step: 1390... Loss: 1.4428... Val Loss: 1.4184\n",
      "Epoch: 11/20... Step: 1400... Loss: 1.4431... Val Loss: 1.4164\n",
      "Epoch: 11/20... Step: 1410... Loss: 1.4431... Val Loss: 1.4129\n",
      "Epoch: 11/20... Step: 1420... Loss: 1.4323... Val Loss: 1.4091\n",
      "Epoch: 11/20... Step: 1430... Loss: 1.4010... Val Loss: 1.4117\n",
      "Epoch: 11/20... Step: 1440... Loss: 1.4360... Val Loss: 1.4070\n",
      "Epoch: 11/20... Step: 1450... Loss: 1.3562... Val Loss: 1.4041\n",
      "Epoch: 11/20... Step: 1460... Loss: 1.3829... Val Loss: 1.4044\n",
      "Epoch: 11/20... Step: 1470... Loss: 1.3717... Val Loss: 1.4075\n",
      "Epoch: 11/20... Step: 1480... Loss: 1.3879... Val Loss: 1.3949\n",
      "Epoch: 11/20... Step: 1490... Loss: 1.3811... Val Loss: 1.3918\n",
      "Epoch: 11/20... Step: 1500... Loss: 1.3632... Val Loss: 1.3930\n",
      "Epoch: 11/20... Step: 1510... Loss: 1.3461... Val Loss: 1.3901\n",
      "Epoch: 11/20... Step: 1520... Loss: 1.3799... Val Loss: 1.3868\n",
      "Epoch: 12/20... Step: 1530... Loss: 1.4523... Val Loss: 1.3875\n",
      "Epoch: 12/20... Step: 1540... Loss: 1.3892... Val Loss: 1.3790\n",
      "Epoch: 12/20... Step: 1550... Loss: 1.3903... Val Loss: 1.3798\n",
      "Epoch: 12/20... Step: 1560... Loss: 1.3996... Val Loss: 1.3736\n",
      "Epoch: 12/20... Step: 1570... Loss: 1.3497... Val Loss: 1.3760\n",
      "Epoch: 12/20... Step: 1580... Loss: 1.3246... Val Loss: 1.3794\n",
      "Epoch: 12/20... Step: 1590... Loss: 1.3215... Val Loss: 1.3731\n",
      "Epoch: 12/20... Step: 1600... Loss: 1.3469... Val Loss: 1.3757\n",
      "Epoch: 12/20... Step: 1610... Loss: 1.3399... Val Loss: 1.3724\n",
      "Epoch: 12/20... Step: 1620... Loss: 1.3378... Val Loss: 1.3663\n",
      "Epoch: 12/20... Step: 1630... Loss: 1.3692... Val Loss: 1.3656\n",
      "Epoch: 12/20... Step: 1640... Loss: 1.3409... Val Loss: 1.3668\n",
      "Epoch: 12/20... Step: 1650... Loss: 1.3071... Val Loss: 1.3689\n",
      "Epoch: 12/20... Step: 1660... Loss: 1.3715... Val Loss: 1.3618\n",
      "Epoch: 13/20... Step: 1670... Loss: 1.3441... Val Loss: 1.3704\n",
      "Epoch: 13/20... Step: 1680... Loss: 1.3509... Val Loss: 1.3605\n",
      "Epoch: 13/20... Step: 1690... Loss: 1.3328... Val Loss: 1.3568\n",
      "Epoch: 13/20... Step: 1700... Loss: 1.3261... Val Loss: 1.3574\n",
      "Epoch: 13/20... Step: 1710... Loss: 1.3065... Val Loss: 1.3597\n",
      "Epoch: 13/20... Step: 1720... Loss: 1.3247... Val Loss: 1.3565\n",
      "Epoch: 13/20... Step: 1730... Loss: 1.3543... Val Loss: 1.3558\n",
      "Epoch: 13/20... Step: 1740... Loss: 1.3230... Val Loss: 1.3555\n",
      "Epoch: 13/20... Step: 1750... Loss: 1.3026... Val Loss: 1.3569\n",
      "Epoch: 13/20... Step: 1760... Loss: 1.3254... Val Loss: 1.3505\n",
      "Epoch: 13/20... Step: 1770... Loss: 1.3446... Val Loss: 1.3518\n",
      "Epoch: 13/20... Step: 1780... Loss: 1.3158... Val Loss: 1.3503\n",
      "Epoch: 13/20... Step: 1790... Loss: 1.3061... Val Loss: 1.3472\n",
      "Epoch: 13/20... Step: 1800... Loss: 1.3266... Val Loss: 1.3436\n",
      "Epoch: 14/20... Step: 1810... Loss: 1.3272... Val Loss: 1.3462\n",
      "Epoch: 14/20... Step: 1820... Loss: 1.3120... Val Loss: 1.3414\n",
      "Epoch: 14/20... Step: 1830... Loss: 1.3301... Val Loss: 1.3421\n",
      "Epoch: 14/20... Step: 1840... Loss: 1.2797... Val Loss: 1.3445\n",
      "Epoch: 14/20... Step: 1850... Loss: 1.2601... Val Loss: 1.3393\n",
      "Epoch: 14/20... Step: 1860... Loss: 1.3178... Val Loss: 1.3396\n",
      "Epoch: 14/20... Step: 1870... Loss: 1.3221... Val Loss: 1.3372\n",
      "Epoch: 14/20... Step: 1880... Loss: 1.3173... Val Loss: 1.3431\n",
      "Epoch: 14/20... Step: 1890... Loss: 1.3382... Val Loss: 1.3420\n",
      "Epoch: 14/20... Step: 1900... Loss: 1.3205... Val Loss: 1.3345\n",
      "Epoch: 14/20... Step: 1910... Loss: 1.3098... Val Loss: 1.3351\n",
      "Epoch: 14/20... Step: 1920... Loss: 1.3021... Val Loss: 1.3373\n",
      "Epoch: 14/20... Step: 1930... Loss: 1.2677... Val Loss: 1.3338\n",
      "Epoch: 14/20... Step: 1940... Loss: 1.3267... Val Loss: 1.3336\n",
      "Epoch: 15/20... Step: 1950... Loss: 1.3084... Val Loss: 1.3403\n",
      "Epoch: 15/20... Step: 1960... Loss: 1.2989... Val Loss: 1.3300\n",
      "Epoch: 15/20... Step: 1970... Loss: 1.2976... Val Loss: 1.3270\n",
      "Epoch: 15/20... Step: 1980... Loss: 1.2896... Val Loss: 1.3279\n",
      "Epoch: 15/20... Step: 1990... Loss: 1.2824... Val Loss: 1.3269\n",
      "Epoch: 15/20... Step: 2000... Loss: 1.2613... Val Loss: 1.3273\n",
      "Epoch: 15/20... Step: 2010... Loss: 1.2932... Val Loss: 1.3232\n",
      "Epoch: 15/20... Step: 2020... Loss: 1.3025... Val Loss: 1.3251\n",
      "Epoch: 15/20... Step: 2030... Loss: 1.2739... Val Loss: 1.3250\n",
      "Epoch: 15/20... Step: 2040... Loss: 1.2908... Val Loss: 1.3215\n",
      "Epoch: 15/20... Step: 2050... Loss: 1.2737... Val Loss: 1.3197\n",
      "Epoch: 15/20... Step: 2060... Loss: 1.2844... Val Loss: 1.3226\n",
      "Epoch: 15/20... Step: 2070... Loss: 1.2908... Val Loss: 1.3185\n",
      "Epoch: 15/20... Step: 2080... Loss: 1.2850... Val Loss: 1.3204\n",
      "Epoch: 16/20... Step: 2090... Loss: 1.2970... Val Loss: 1.3182\n",
      "Epoch: 16/20... Step: 2100... Loss: 1.2741... Val Loss: 1.3179\n",
      "Epoch: 16/20... Step: 2110... Loss: 1.2700... Val Loss: 1.3177\n",
      "Epoch: 16/20... Step: 2120... Loss: 1.2726... Val Loss: 1.3155\n",
      "Epoch: 16/20... Step: 2130... Loss: 1.2530... Val Loss: 1.3155\n",
      "Epoch: 16/20... Step: 2140... Loss: 1.2642... Val Loss: 1.3120\n",
      "Epoch: 16/20... Step: 2150... Loss: 1.2830... Val Loss: 1.3110\n",
      "Epoch: 16/20... Step: 2160... Loss: 1.2623... Val Loss: 1.3130\n",
      "Epoch: 16/20... Step: 2170... Loss: 1.2668... Val Loss: 1.3140\n",
      "Epoch: 16/20... Step: 2180... Loss: 1.2534... Val Loss: 1.3113\n",
      "Epoch: 16/20... Step: 2190... Loss: 1.2810... Val Loss: 1.3096\n",
      "Epoch: 16/20... Step: 2200... Loss: 1.2588... Val Loss: 1.3106\n",
      "Epoch: 16/20... Step: 2210... Loss: 1.2236... Val Loss: 1.3092\n",
      "Epoch: 16/20... Step: 2220... Loss: 1.2770... Val Loss: 1.3114\n",
      "Epoch: 17/20... Step: 2230... Loss: 1.2527... Val Loss: 1.3141\n",
      "Epoch: 17/20... Step: 2240... Loss: 1.2619... Val Loss: 1.3084\n",
      "Epoch: 17/20... Step: 2250... Loss: 1.2507... Val Loss: 1.3134\n",
      "Epoch: 17/20... Step: 2260... Loss: 1.2486... Val Loss: 1.3122\n",
      "Epoch: 17/20... Step: 2270... Loss: 1.2639... Val Loss: 1.3115\n",
      "Epoch: 17/20... Step: 2280... Loss: 1.2684... Val Loss: 1.3046\n",
      "Epoch: 17/20... Step: 2290... Loss: 1.2708... Val Loss: 1.3020\n",
      "Epoch: 17/20... Step: 2300... Loss: 1.2257... Val Loss: 1.3046\n",
      "Epoch: 17/20... Step: 2310... Loss: 1.2468... Val Loss: 1.3022\n",
      "Epoch: 17/20... Step: 2320... Loss: 1.2359... Val Loss: 1.3016\n",
      "Epoch: 17/20... Step: 2330... Loss: 1.2400... Val Loss: 1.3006\n",
      "Epoch: 17/20... Step: 2340... Loss: 1.2628... Val Loss: 1.3020\n",
      "Epoch: 17/20... Step: 2350... Loss: 1.2602... Val Loss: 1.2982\n",
      "Epoch: 17/20... Step: 2360... Loss: 1.2748... Val Loss: 1.2990\n",
      "Epoch: 18/20... Step: 2370... Loss: 1.2404... Val Loss: 1.2966\n",
      "Epoch: 18/20... Step: 2380... Loss: 1.2468... Val Loss: 1.2984\n",
      "Epoch: 18/20... Step: 2390... Loss: 1.2430... Val Loss: 1.3022\n",
      "Epoch: 18/20... Step: 2400... Loss: 1.2725... Val Loss: 1.2977\n",
      "Epoch: 18/20... Step: 2410... Loss: 1.2631... Val Loss: 1.2986\n",
      "Epoch: 18/20... Step: 2420... Loss: 1.2363... Val Loss: 1.2992\n",
      "Epoch: 18/20... Step: 2430... Loss: 1.2538... Val Loss: 1.2950\n",
      "Epoch: 18/20... Step: 2440... Loss: 1.2349... Val Loss: 1.2949\n",
      "Epoch: 18/20... Step: 2450... Loss: 1.2338... Val Loss: 1.2929\n",
      "Epoch: 18/20... Step: 2460... Loss: 1.2438... Val Loss: 1.2943\n",
      "Epoch: 18/20... Step: 2470... Loss: 1.2363... Val Loss: 1.2928\n",
      "Epoch: 18/20... Step: 2480... Loss: 1.2355... Val Loss: 1.2948\n",
      "Epoch: 18/20... Step: 2490... Loss: 1.2224... Val Loss: 1.2906\n",
      "Epoch: 18/20... Step: 2500... Loss: 1.2288... Val Loss: 1.2929\n",
      "Epoch: 19/20... Step: 2510... Loss: 1.2391... Val Loss: 1.2888\n",
      "Epoch: 19/20... Step: 2520... Loss: 1.2385... Val Loss: 1.2880\n",
      "Epoch: 19/20... Step: 2530... Loss: 1.2458... Val Loss: 1.2908\n",
      "Epoch: 19/20... Step: 2540... Loss: 1.2534... Val Loss: 1.2904\n",
      "Epoch: 19/20... Step: 2550... Loss: 1.2256... Val Loss: 1.2877\n",
      "Epoch: 19/20... Step: 2560... Loss: 1.2326... Val Loss: 1.2852\n",
      "Epoch: 19/20... Step: 2570... Loss: 1.2172... Val Loss: 1.2923\n",
      "Epoch: 19/20... Step: 2580... Loss: 1.2467... Val Loss: 1.2898\n",
      "Epoch: 19/20... Step: 2590... Loss: 1.2176... Val Loss: 1.2901\n",
      "Epoch: 19/20... Step: 2600... Loss: 1.2071... Val Loss: 1.2848\n",
      "Epoch: 19/20... Step: 2610... Loss: 1.2286... Val Loss: 1.2875\n",
      "Epoch: 19/20... Step: 2620... Loss: 1.2025... Val Loss: 1.2856\n",
      "Epoch: 19/20... Step: 2630... Loss: 1.2142... Val Loss: 1.2836\n",
      "Epoch: 19/20... Step: 2640... Loss: 1.2299... Val Loss: 1.2854\n",
      "Epoch: 20/20... Step: 2650... Loss: 1.2400... Val Loss: 1.2861\n",
      "Epoch: 20/20... Step: 2660... Loss: 1.2332... Val Loss: 1.2834\n",
      "Epoch: 20/20... Step: 2670... Loss: 1.2349... Val Loss: 1.2836\n",
      "Epoch: 20/20... Step: 2680... Loss: 1.2257... Val Loss: 1.2812\n",
      "Epoch: 20/20... Step: 2690... Loss: 1.2092... Val Loss: 1.2831\n",
      "Epoch: 20/20... Step: 2700... Loss: 1.2254... Val Loss: 1.2804\n",
      "Epoch: 20/20... Step: 2710... Loss: 1.1942... Val Loss: 1.2853\n",
      "Epoch: 20/20... Step: 2720... Loss: 1.2068... Val Loss: 1.2841\n",
      "Epoch: 20/20... Step: 2730... Loss: 1.1938... Val Loss: 1.2818\n",
      "Epoch: 20/20... Step: 2740... Loss: 1.1934... Val Loss: 1.2790\n",
      "Epoch: 20/20... Step: 2750... Loss: 1.1950... Val Loss: 1.2820\n",
      "Epoch: 20/20... Step: 2760... Loss: 1.1931... Val Loss: 1.2800\n",
      "Epoch: 20/20... Step: 2770... Loss: 1.2259... Val Loss: 1.2761\n",
      "Epoch: 20/20... Step: 2780... Loss: 1.2614... Val Loss: 1.2758\n"
     ]
    }
   ],
   "source": [
    "batch_size = 128\n",
    "seq_length = 100\n",
    "n_epochs =  20# start small if you are just testing initial behavior\n",
    "\n",
    "# train the model\n",
    "train(net, encoded, epochs=n_epochs, batch_size=batch_size, seq_length=seq_length, lr=0.001, print_every=10)"
   ]
  },
  {
   "cell_type": "markdown",
   "metadata": {},
   "source": [
    "## Getting the best model\n",
    "\n",
    "To set your hyperparameters to get the best performance, you'll want to watch the training and validation losses. If your training loss is much lower than the validation loss, you're overfitting. Increase regularization (more dropout) or use a smaller network. If the training and validation losses are close, you're underfitting so you can increase the size of the network."
   ]
  },
  {
   "cell_type": "markdown",
   "metadata": {},
   "source": [
    "## Hyperparameters\n",
    "\n",
    "Here are the hyperparameters for the network.\n",
    "\n",
    "In defining the model:\n",
    "* `n_hidden` - The number of units in the hidden layers.\n",
    "* `n_layers` - Number of hidden LSTM layers to use.\n",
    "\n",
    "We assume that dropout probability and learning rate will be kept at the default, in this example.\n",
    "\n",
    "And in training:\n",
    "* `batch_size` - Number of sequences running through the network in one pass.\n",
    "* `seq_length` - Number of characters in the sequence the network is trained on. Larger is better typically, the network will learn more long range dependencies. But it takes longer to train. 100 is typically a good number here.\n",
    "* `lr` - Learning rate for training\n",
    "\n",
    "Here's some good advice from Andrej Karpathy on training the network. I'm going to copy it in here for your benefit, but also link to [where it originally came from](https://github.com/karpathy/char-rnn#tips-and-tricks).\n",
    "\n",
    "> ## Tips and Tricks\n",
    "\n",
    ">### Monitoring Validation Loss vs. Training Loss\n",
    ">If you're somewhat new to Machine Learning or Neural Networks it can take a bit of expertise to get good models. The most important quantity to keep track of is the difference between your training loss (printed during training) and the validation loss (printed once in a while when the RNN is run on the validation data (by default every 1000 iterations)). In particular:\n",
    "\n",
    "> - If your training loss is much lower than validation loss then this means the network might be **overfitting**. Solutions to this are to decrease your network size, or to increase dropout. For example you could try dropout of 0.5 and so on.\n",
    "> - If your training/validation loss are about equal then your model is **underfitting**. Increase the size of your model (either number of layers or the raw number of neurons per layer)\n",
    "\n",
    "> ### Approximate number of parameters\n",
    "\n",
    "> The two most important parameters that control the model are `n_hidden` and `n_layers`. I would advise that you always use `n_layers` of either 2/3. The `n_hidden` can be adjusted based on how much data you have. The two important quantities to keep track of here are:\n",
    "\n",
    "> - The number of parameters in your model. This is printed when you start training.\n",
    "> - The size of your dataset. 1MB file is approximately 1 million characters.\n",
    "\n",
    ">These two should be about the same order of magnitude. It's a little tricky to tell. Here are some examples:\n",
    "\n",
    "> - I have a 100MB dataset and I'm using the default parameter settings (which currently print 150K parameters). My data size is significantly larger (100 mil >> 0.15 mil), so I expect to heavily underfit. I am thinking I can comfortably afford to make `n_hidden` larger.\n",
    "> - I have a 10MB dataset and running a 10 million parameter model. I'm slightly nervous and I'm carefully monitoring my validation loss. If it's larger than my training loss then I may want to try to increase dropout a bit and see if that helps the validation loss.\n",
    "\n",
    "> ### Best models strategy\n",
    "\n",
    ">The winning strategy to obtaining very good models (if you have the compute time) is to always err on making the network larger (as large as you're willing to wait for it to compute) and then try different dropout values (between 0,1). Whatever model has the best validation performance (the loss, written in the checkpoint filename, low is good) is the one you should use in the end.\n",
    "\n",
    ">It is very common in deep learning to run many different models with many different hyperparameter settings, and in the end take whatever checkpoint gave the best validation performance.\n",
    "\n",
    ">By the way, the size of your training and validation splits are also parameters. Make sure you have a decent amount of data in your validation set or otherwise the validation performance will be noisy and not very informative."
   ]
  },
  {
   "cell_type": "markdown",
   "metadata": {},
   "source": [
    "## Checkpoint\n",
    "\n",
    "After training, we'll save the model so we can load it again later if we need too. Here I'm saving the parameters needed to create the same architecture, the hidden layer hyperparameters and the text characters."
   ]
  },
  {
   "cell_type": "code",
   "execution_count": 18,
   "metadata": {
    "collapsed": true
   },
   "outputs": [],
   "source": [
    "# change the name, for saving multiple files\n",
    "model_name = 'rnn_x_epoch.net'\n",
    "\n",
    "checkpoint = {'n_hidden': net.n_hidden,\n",
    "              'n_layers': net.n_layers,\n",
    "              'state_dict': net.state_dict(),\n",
    "              'tokens': net.chars}\n",
    "\n",
    "with open(model_name, 'wb') as f:\n",
    "    torch.save(checkpoint, f)"
   ]
  },
  {
   "cell_type": "markdown",
   "metadata": {},
   "source": [
    "---\n",
    "## Making Predictions\n",
    "\n",
    "Now that the model is trained, we'll want to sample from it and make predictions about next characters! To sample, we pass in a character and have the network predict the next character. Then we take that character, pass it back in, and get another predicted character. Just keep doing this and you'll generate a bunch of text!\n",
    "\n",
    "### A note on the `predict`  function\n",
    "\n",
    "The output of our RNN is from a fully-connected layer and it outputs a **distribution of next-character scores**.\n",
    "\n",
    "> To actually get the next character, we apply a softmax function, which gives us a *probability* distribution that we can then sample to predict the next character.\n",
    "\n",
    "### Top K sampling\n",
    "\n",
    "Our predictions come from a categorical probability distribution over all the possible characters. We can make the sample text and make it more reasonable to handle (with less variables) by only considering some $K$ most probable characters. This will prevent the network from giving us completely absurd characters while allowing it to introduce some noise and randomness into the sampled text. Read more about [topk, here](https://pytorch.org/docs/stable/torch.html#torch.topk).\n"
   ]
  },
  {
   "cell_type": "code",
   "execution_count": 19,
   "metadata": {
    "collapsed": true
   },
   "outputs": [],
   "source": [
    "def predict(net, char, h=None, top_k=None):\n",
    "        ''' Given a character, predict the next character.\n",
    "            Returns the predicted character and the hidden state.\n",
    "        '''\n",
    "        \n",
    "        # tensor inputs\n",
    "        x = np.array([[net.char2int[char]]])\n",
    "        x = one_hot_encode(x, len(net.chars))\n",
    "        inputs = torch.from_numpy(x)\n",
    "        \n",
    "        if(train_on_gpu):\n",
    "            inputs = inputs.cuda()\n",
    "        \n",
    "        # detach hidden state from history\n",
    "        h = tuple([each.data for each in h])\n",
    "        # get the output of the model\n",
    "        out, h = net(inputs, h)\n",
    "\n",
    "        # get the character probabilities\n",
    "        p = F.softmax(out, dim=1).data\n",
    "        if(train_on_gpu):\n",
    "            p = p.cpu() # move to cpu\n",
    "        \n",
    "        # get top characters\n",
    "        if top_k is None:\n",
    "            top_ch = np.arange(len(net.chars))\n",
    "        else:\n",
    "            p, top_ch = p.topk(top_k)\n",
    "            top_ch = top_ch.numpy().squeeze()\n",
    "        \n",
    "        # select the likely next character with some element of randomness\n",
    "        p = p.numpy().squeeze()\n",
    "        char = np.random.choice(top_ch, p=p/p.sum())\n",
    "        \n",
    "        # return the encoded value of the predicted char and the hidden state\n",
    "        return net.int2char[char], h"
   ]
  },
  {
   "cell_type": "markdown",
   "metadata": {},
   "source": [
    "### Priming and generating text \n",
    "\n",
    "Typically you'll want to prime the network so you can build up a hidden state. Otherwise the network will start out generating characters at random. In general the first bunch of characters will be a little rough since it hasn't built up a long history of characters to predict from."
   ]
  },
  {
   "cell_type": "code",
   "execution_count": 20,
   "metadata": {
    "collapsed": true
   },
   "outputs": [],
   "source": [
    "def sample(net, size, prime='The', top_k=None):\n",
    "        \n",
    "    if(train_on_gpu):\n",
    "        net.cuda()\n",
    "    else:\n",
    "        net.cpu()\n",
    "    \n",
    "    net.eval() # eval mode\n",
    "    \n",
    "    # First off, run through the prime characters\n",
    "    chars = [ch for ch in prime]\n",
    "    h = net.init_hidden(1)\n",
    "    for ch in prime:\n",
    "        char, h = predict(net, ch, h, top_k=top_k)\n",
    "\n",
    "    chars.append(char)\n",
    "    \n",
    "    # Now pass in the previous character and get a new one\n",
    "    for ii in range(size):\n",
    "        char, h = predict(net, chars[-1], h, top_k=top_k)\n",
    "        chars.append(char)\n",
    "\n",
    "    return ''.join(chars)"
   ]
  },
  {
   "cell_type": "code",
   "execution_count": 21,
   "metadata": {},
   "outputs": [
    {
     "name": "stdout",
     "output_type": "stream",
     "text": [
      "Anna, who had\n",
      "busined it out of another's saturit, and were sitting on the relations, but\n",
      "at that side of the first ploaghened was that to her, she was not\n",
      "assistant, and he she drinking into the crowd to the salaman and son\n",
      "sorrels a small, too, would not be docedres of his words to him,\n",
      "but he saw that his father would have said alone to get into the coar\n",
      "so to be thinging than ever.\n",
      "\n",
      "Station was supporting the same at the face to the same tires\n",
      "of his book, and he had all merely began to love and wanted. Those that\n",
      "had suncerded would have no simbles, but they were to say,\" and the old side.\n",
      "\n",
      "\"I have said to see. The change is a previous position of the\n",
      "same.\"\n",
      "\n",
      "\"No, I'm a long share, and to think about. I see how to see you and have the\n",
      "charming fon her to be simply to see the princess. But I can't listen\n",
      "to say to my, since it's so took, answered the points of all\n",
      "more than the sun tears to bliss, that he won't cale about the\n",
      "marshal.\"\n",
      "\n",
      "\"Yes, but I'm going, and we might have at all the \n"
     ]
    }
   ],
   "source": [
    "print(sample(net, 1000, prime='Anna', top_k=5))"
   ]
  },
  {
   "cell_type": "markdown",
   "metadata": {},
   "source": [
    "## Loading a checkpoint"
   ]
  },
  {
   "cell_type": "code",
   "execution_count": 22,
   "metadata": {
    "collapsed": true
   },
   "outputs": [],
   "source": [
    "# Here we have loaded in a model that trained over 20 epochs `rnn_20_epoch.net`\n",
    "with open('rnn_x_epoch.net', 'rb') as f:\n",
    "    checkpoint = torch.load(f)\n",
    "    \n",
    "loaded = CharRNN(checkpoint['tokens'], n_hidden=checkpoint['n_hidden'], n_layers=checkpoint['n_layers'])\n",
    "loaded.load_state_dict(checkpoint['state_dict'])"
   ]
  },
  {
   "cell_type": "code",
   "execution_count": 23,
   "metadata": {},
   "outputs": [
    {
     "name": "stdout",
     "output_type": "stream",
     "text": [
      "And Levin said\n",
      "that in spite of the moment of spattered of a sort of a silk and atticules of\n",
      "a moment. Sergey Ivanovitch almost a string of something thoughts with\n",
      "so shrill and sand of his son. His brother was such a country.\n",
      "\n",
      "Alexey Alexandrovitch and he saw all the prince, he had been and so\n",
      "merery one of the sight of her hands on sight of the musiched at the\n",
      "position, who came into a better, had so successful and someore and\n",
      "time with the same since she saw to his strength and the mere to bread\n",
      "on the matces and all of the people, she had said, and was strengthen that\n",
      "it was to say to him. Hot complete times, the pains the startions of the\n",
      "clever, and saw that something that with him.\n",
      "\n",
      "\"What was you saying all the sace of a little time, as it's not\n",
      "seen it. How did you say, I don't can for me,\" said Stepan\n",
      "Arkadyevitch.\n",
      "\n",
      "\"That dress, and that is it all a let her soul, and stood in somithing and may\n",
      "be so all to himself about a supper of the sour to me....\n",
      "I have taken a state of the companity. I'm not a carried,\"\n",
      "he said, asked himself. \"You're a long while. To suppost ones one's all and\n",
      "doward still, is the sick mide of his own and well-calmed contraroty,\n",
      "and we changed to her better?\" he said, and sering him that his breaking of\n",
      "the provence were so threatently with her, with which he was always\n",
      "struck all as to ask he had been fived out of a source and tortured his\n",
      "friendsticitues. She was touching him, she had to go of that, at the\n",
      "personal, and went out from the moments of her head, and said.\n",
      "\n",
      "\"Alexey Alexandrovitch shall make a peasants were and saying that it\n",
      "will get out.\n",
      "They was a parson, and there would not take independence.\"\n",
      "\n",
      "\"I have come, and I have not taken it. How does he, I've seen that anything and\n",
      "thought I desire it in that, and I should be doing in the part,\" said Levin's\n",
      "stread and standing and went the most repairing and dear to a subjuct\n",
      "of which he had a love that he wasness of happy, but at to a living to\n",
      "this might be seen that the peasant of his fo\n"
     ]
    }
   ],
   "source": [
    "# Sample using a loaded model\n",
    "print(sample(loaded, 2000, top_k=5, prime=\"And Levin said\"))"
   ]
  },
  {
   "cell_type": "code",
   "execution_count": null,
   "metadata": {
    "collapsed": true
   },
   "outputs": [],
   "source": []
  }
 ],
 "metadata": {
  "kernelspec": {
   "display_name": "Python 3",
   "language": "python",
   "name": "python3"
  },
  "language_info": {
   "codemirror_mode": {
    "name": "ipython",
    "version": 3
   },
   "file_extension": ".py",
   "mimetype": "text/x-python",
   "name": "python",
   "nbconvert_exporter": "python",
   "pygments_lexer": "ipython3",
   "version": "3.6.7"
  }
 },
 "nbformat": 4,
 "nbformat_minor": 2
}
