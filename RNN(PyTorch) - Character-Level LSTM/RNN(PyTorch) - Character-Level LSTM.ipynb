{
 "cells": [
  {
   "cell_type": "markdown",
   "metadata": {},
   "source": [
    "# RNN(PyTorch) - Character-Level LSTM\n",
    "* Project: To generate new text based on the text from the book\n",
    "* Data source: Anna Karenina (attached is the book)\n",
    "* Author: Shashi Kiran Chilukuri"
   ]
  },
  {
   "cell_type": "markdown",
   "metadata": {},
   "source": [
    "### Importing libraries"
   ]
  },
  {
   "cell_type": "code",
   "execution_count": 2,
   "metadata": {
    "collapsed": true
   },
   "outputs": [],
   "source": [
    "import numpy as np\n",
    "import torch\n",
    "from torch import nn\n",
    "import torch.nn.functional as F"
   ]
  },
  {
   "cell_type": "markdown",
   "metadata": {},
   "source": [
    "### Loading data"
   ]
  },
  {
   "cell_type": "code",
   "execution_count": 5,
   "metadata": {},
   "outputs": [
    {
     "data": {
      "text/plain": [
       "'Chapter 1\\n\\n\\nHappy families are all alike; every unhappy family is unhappy in its own\\nway.\\n\\nEverythin'"
      ]
     },
     "execution_count": 5,
     "metadata": {},
     "output_type": "execute_result"
    }
   ],
   "source": [
    "with open('data/anna.txt', 'r') as f:\n",
    "    text = f.read()\n",
    "# Lets print firt 100 characters of the text\n",
    "text[:100]"
   ]
  },
  {
   "cell_type": "markdown",
   "metadata": {},
   "source": [
    "### Tokenization"
   ]
  },
  {
   "cell_type": "code",
   "execution_count": 6,
   "metadata": {},
   "outputs": [
    {
     "data": {
      "text/plain": [
       "array([63, 80, 42, 81,  0, 62, 48, 53, 56, 55, 55, 55, 76, 42, 81, 81,  7,\n",
       "       53,  5, 42, 22,  8, 26,  8, 62, 13, 53, 42, 48, 62, 53, 42, 26, 26,\n",
       "       53, 42, 26,  8, 50, 62, 78, 53, 62, 38, 62, 48,  7, 53, 51, 58, 80,\n",
       "       42, 81, 81,  7, 53,  5, 42, 22,  8, 26,  7, 53,  8, 13, 53, 51, 58,\n",
       "       80, 42, 81, 81,  7, 53,  8, 58, 53,  8,  0, 13, 53, 25, 17, 58, 55,\n",
       "       17, 42,  7, 79, 55, 55, 24, 38, 62, 48,  7,  0, 80,  8, 58])"
      ]
     },
     "execution_count": 6,
     "metadata": {},
     "output_type": "execute_result"
    }
   ],
   "source": [
    "chars = tuple(set(text))                          # To create a tuple of unique characters from text\n",
    "int2char = dict(enumerate(chars))                 # Create dictionary of integer to chacter mapping\n",
    "char2int = {ch: ii for ii, ch in int2char.items()}# Create dictionary of chacter to integer mapping\n",
    "encoded = np.array([char2int[ch] for ch in text]) # Encode the text\n",
    "# Lets print first 100 values of the characters of the text\n",
    "encoded[:100]"
   ]
  },
  {
   "cell_type": "markdown",
   "metadata": {},
   "source": [
    "### One hot encoding"
   ]
  },
  {
   "cell_type": "code",
   "execution_count": 16,
   "metadata": {
    "collapsed": true
   },
   "outputs": [],
   "source": [
    "def one_hot_encode(arr, n_labels):\n",
    "    \n",
    "    # Initialize the the encoded array\n",
    "    one_hot = np.zeros((np.multiply(*arr.shape), n_labels), dtype=np.float32)\n",
    "    \n",
    "    # Fill the appropriate elements with ones\n",
    "    one_hot[np.arange(one_hot.shape[0]), arr.flatten()] = 1.\n",
    "    \n",
    "    # Finally reshape it to get back to the original array\n",
    "    one_hot = one_hot.reshape((*arr.shape, n_labels))\n",
    "    \n",
    "    return one_hot"
   ]
  },
  {
   "cell_type": "code",
   "execution_count": 28,
   "metadata": {},
   "outputs": [
    {
     "data": {
      "text/plain": [
       "array([[[ 0.,  0.,  0., ...,  0.,  0.,  0.]],\n",
       "\n",
       "       [[ 0.,  0.,  0., ...,  1.,  0.,  0.]],\n",
       "\n",
       "       [[ 0.,  0.,  0., ...,  0.,  0.,  0.]],\n",
       "\n",
       "       ..., \n",
       "       [[ 0.,  0.,  0., ...,  1.,  0.,  0.]],\n",
       "\n",
       "       [[ 0.,  0.,  0., ...,  0.,  0.,  0.]],\n",
       "\n",
       "       [[ 0.,  0.,  0., ...,  0.,  0.,  0.]]], dtype=float32)"
      ]
     },
     "execution_count": 28,
     "metadata": {},
     "output_type": "execute_result"
    }
   ],
   "source": [
    "# Lets check after applying one hot encoder\n",
    "one_hot_encode(encoded[:100].reshape(100,1), 83)"
   ]
  },
  {
   "cell_type": "markdown",
   "metadata": {},
   "source": [
    "### Creating mini batches\n",
    "* Starting sequence:\n",
    "    arr = [1,2,3,4,5,6,7,8,9,10,11,12,13,14,15,16]\n",
    "* Number of sequences in a Batch (`Batch_size`)(N) = 2\n",
    "    [1, 2, 3, 4, 5, 6, 7, 8]\n",
    "    [9, 10,11,12,13,14,15,16]\n",
    "* Sequence length(M) = 3\n",
    "    1, 2, 3   4, 5, 6   ...\n",
    "    7, 8, 9  10,11,12  ...  \n",
    "* So from above step each batch contains N * M characters\n",
    "* Total Number of batches(K) = len(arr)/(N * M)\n",
    "* then just keep the arry = arr[:Total batches, Number of sequences(N) * Seq Length(M)]\n",
    "* reshape that arry = arr.reshape(Number of sequences, -1)\n",
    "* iterate through the array, one sequence at a time"
   ]
  },
  {
   "cell_type": "code",
   "execution_count": 32,
   "metadata": {},
   "outputs": [],
   "source": [
    "def get_batches(arr, batch_size, seq_length):\n",
    "    '''Create a generator that returns batches of size\n",
    "       batch_size x seq_length from arr.\n",
    "       \n",
    "       Arguments\n",
    "       ---------\n",
    "       arr: Array you want to make batches from\n",
    "       batch_size: Batch size, the number of sequences per batch\n",
    "       seq_length: Number of encoded chars in a sequence\n",
    "    '''\n",
    "    # total number of batches we can make\n",
    "    n_batches = len(arr)//(batch_size * seq_length)\n",
    "    # Keep only enough characters to make full batches\n",
    "    arr = arr[:n_batches * (batch_size * seq_length)]\n",
    "    # Reshape into batch_size rows\n",
    "    arr = arr.reshape((batch_size, -1))\n",
    "    \n",
    "    # iterate through the array, one sequence at a time\n",
    "    for n in range(0, arr.shape[1], seq_length):\n",
    "        x = arr[:, n:n+seq_length] # The features\n",
    "        y = np.zeros_like(x)       # The targets, shifted by one\n",
    "        try:\n",
    "            y[:, :-1], y[:, -1] = x[:, 1:], arr[:, n+seq_length]\n",
    "        except IndexError:\n",
    "            y[:, :-1], y[:, -1] = x[:, 1:], arr[:, 0]\n",
    "        yield x, y"
   ]
  },
  {
   "cell_type": "markdown",
   "metadata": {},
   "source": [
    "### Testing get batches function"
   ]
  },
  {
   "cell_type": "code",
   "execution_count": 37,
   "metadata": {},
   "outputs": [
    {
     "name": "stdout",
     "output_type": "stream",
     "text": [
      "x\n",
      " [[63 80 42 81  0 62 48 53 56 55 55 55 76 42 81]\n",
      " [13 25 58 53  0 80 42  0 53 42  0  0 48 42  1]\n",
      " [62 58 68 53 25 48 53 42 53  5 25 62 33 53 80]\n",
      " [13 53  0 80 62 53  1 80  8 62  5 53  0 80 25]\n",
      " [53 13 42 17 53 80 62 48 53  0 62 42 48 66 13]\n",
      " [ 1 51 13 13  8 25 58 53 42 58 68 53 42 58 42]\n",
      " [53 70 58 58 42 53 80 42 68 53 13 42  8 68 53]\n",
      " [74 32 26 25 58 13 50  7 79 53 75 15 51  0 53]]\n",
      "y\n",
      " [[80 42 81  0 62 48 53 56 55 55 55 76 42 81 81]\n",
      " [25 58 53  0 80 42  0 53 42  0  0 48 42  1  0]\n",
      " [58 68 53 25 48 53 42 53  5 25 62 33 53 80 62]\n",
      " [53  0 80 62 53  1 80  8 62  5 53  0 80 25 51]\n",
      " [13 42 17 53 80 62 48 53  0 62 42 48 66 13  0]\n",
      " [51 13 13  8 25 58 53 42 58 68 53 42 58 42 26]\n",
      " [70 58 58 42 53 80 42 68 53 13 42  8 68 53  0]\n",
      " [32 26 25 58 13 50  7 79 53 75 15 51  0 53 45]]\n"
     ]
    }
   ],
   "source": [
    "batches = get_batches(encoded, 8, 50)\n",
    "x, y = next(batches)\n",
    "\n",
    "# printing\n",
    "print('x\\n',x[:15,:15])\n",
    "print('y\\n',y[:15,:15])"
   ]
  },
  {
   "cell_type": "markdown",
   "metadata": {},
   "source": [
    "### Defining LSTM\n",
    "\n",
    "self.lstm = nn.LSTM(input_size, n_hidden, n_layers, dropout=drop_prob, batch_first=True)\n",
    "\n",
    "LSTM parametes: \n",
    "* input_size (the number of characters), \n",
    "* n_hidden (number of units in the hidden layers in the cell), \n",
    "* n_layers (a number of layers), \n",
    "* drop_prob (a dropout probability), and \n",
    "* batch_first (boolean.True, since when batching)"
   ]
  },
  {
   "cell_type": "code",
   "execution_count": 36,
   "metadata": {},
   "outputs": [
    {
     "name": "stdout",
     "output_type": "stream",
     "text": [
      "No GPU available, training on CPU; consider making n_epochs very small.\n"
     ]
    }
   ],
   "source": [
    "# check if GPU is available\n",
    "train_on_gpu = torch.cuda.is_available()\n",
    "if(train_on_gpu):\n",
    "    print('Training on GPU!')\n",
    "else: \n",
    "    print('No GPU available, training on CPU; consider making n_epochs very small.')"
   ]
  },
  {
   "cell_type": "code",
   "execution_count": null,
   "metadata": {
    "collapsed": true
   },
   "outputs": [],
   "source": [
    "class CharRNN(nn.Module):\n",
    "    \n",
    "    def __init__(self, tokens, n_hidden=256, n_layers=2, drop_prob=0.5, lr=0.001):\n",
    "        super().__init__()\n",
    "        self.drop_prob = drop_prob\n",
    "        self.n_layers = n_layers\n",
    "        self.n_hidden = n_hidden\n",
    "        self.lr = lr\n",
    "        \n",
    "        # creating character dictionaries\n",
    "        self.chars = tokens\n",
    "        self.int2char = dict(enumerate(self.chars))\n",
    "        self.char2int = {ch: ii for ii, ch in self.int2char.items()}\n",
    "        \n",
    "        # Define the LSTM\n",
    "        self.lstm = nn.LSTM(len(self.chars), n_hidden, n_layers,dropout=drop_prob, batch_first=True)\n",
    "        \n",
    "        # Define a dropout layer\n",
    "        self.dropout = nn.Dropout(drop_prob)\n",
    "        \n",
    "        # Define the final, fully-connected output layer\n",
    "        self.fc = nn.Linear(n_hidden, len(self.chars))\n",
    "      \n",
    "    \n",
    "    def forward(self, x, hidden):\n",
    "        ''' Forward pass through the network. \n",
    "            These inputs are x, and the hidden/cell state `hidden`. '''\n",
    "                \n",
    "        ## TODO: Get the outputs and the new hidden state from the lstm\n",
    "        r_output, hidden = self.lstm(x, hidden)\n",
    "        \n",
    "        ## TODO: pass through a dropout layer\n",
    "        out = self.dropout(r_output)\n",
    "        \n",
    "        # Stack up LSTM outputs using view\n",
    "        # you may need to use contiguous to reshape the output\n",
    "        out = out.contiguous().view(-1, self.n_hidden)\n",
    "        \n",
    "        ## TODO: put x through the fully-connected layer\n",
    "        out = self.fc(out)\n",
    "        \n",
    "        # return the final output and the hidden state\n",
    "        return out, hidden\n",
    "    \n",
    "    \n",
    "    def init_hidden(self, batch_size):\n",
    "        ''' Initializes hidden state '''\n",
    "        # Create two new tensors with sizes n_layers x batch_size x n_hidden,\n",
    "        # initialized to zero, for hidden state and cell state of LSTM\n",
    "        weight = next(self.parameters()).data\n",
    "        \n",
    "        if (train_on_gpu):\n",
    "            hidden = (weight.new(self.n_layers, batch_size, self.n_hidden).zero_().cuda(),\n",
    "                  weight.new(self.n_layers, batch_size, self.n_hidden).zero_().cuda())\n",
    "        else:\n",
    "            hidden = (weight.new(self.n_layers, batch_size, self.n_hidden).zero_(),\n",
    "                      weight.new(self.n_layers, batch_size, self.n_hidden).zero_())\n",
    "        \n",
    "        return hidden\n",
    "        "
   ]
  },
  {
   "cell_type": "code",
   "execution_count": null,
   "metadata": {
    "collapsed": true
   },
   "outputs": [],
   "source": []
  },
  {
   "cell_type": "code",
   "execution_count": null,
   "metadata": {
    "collapsed": true
   },
   "outputs": [],
   "source": []
  }
 ],
 "metadata": {
  "kernelspec": {
   "display_name": "Python 3",
   "language": "python",
   "name": "python3"
  },
  "language_info": {
   "codemirror_mode": {
    "name": "ipython",
    "version": 3
   },
   "file_extension": ".py",
   "mimetype": "text/x-python",
   "name": "python",
   "nbconvert_exporter": "python",
   "pygments_lexer": "ipython3",
   "version": "3.6.7"
  }
 },
 "nbformat": 4,
 "nbformat_minor": 2
}
