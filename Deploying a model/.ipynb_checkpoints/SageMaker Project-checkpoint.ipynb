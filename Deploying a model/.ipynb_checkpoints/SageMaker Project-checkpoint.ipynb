{
 "cells": [
  {
   "cell_type": "markdown",
   "metadata": {},
   "source": [
    "# Creating a Sentiment Analysis Web App\n",
    "## Using PyTorch and SageMaker\n",
    "\n",
    "_Deep Learning Nanodegree Program | Deployment_\n",
    "\n",
    "---\n",
    "\n",
    "Now that we have a basic understanding of how SageMaker works we will try to use it to construct a complete project from end to end. Our goal will be to have a simple web page which a user can use to enter a movie review. The web page will then send the review off to our deployed model which will predict the sentiment of the entered review.\n",
    "\n",
    "## Instructions\n",
    "\n",
    "Some template code has already been provided for you, and you will need to implement additional functionality to successfully complete this notebook. You will not need to modify the included code beyond what is requested. Sections that begin with '**TODO**' in the header indicate that you need to complete or implement some portion within them. Instructions will be provided for each section and the specifics of the implementation are marked in the code block with a `# TODO: ...` comment. Please be sure to read the instructions carefully!\n",
    "\n",
    "In addition to implementing code, there will be questions for you to answer which relate to the task and your implementation. Each section where you will answer a question is preceded by a '**Question:**' header. Carefully read each question and provide your answer below the '**Answer:**' header by editing the Markdown cell.\n",
    "\n",
    "> **Note**: Code and Markdown cells can be executed using the **Shift+Enter** keyboard shortcut. In addition, a cell can be edited by typically clicking it (double-click for Markdown cells) or by pressing **Enter** while it is highlighted.\n",
    "\n",
    "## General Outline\n",
    "\n",
    "Recall the general outline for SageMaker projects using a notebook instance.\n",
    "\n",
    "1. Download or otherwise retrieve the data.\n",
    "2. Process / Prepare the data.\n",
    "3. Upload the processed data to S3.\n",
    "4. Train a chosen model.\n",
    "5. Test the trained model (typically using a batch transform job).\n",
    "6. Deploy the trained model.\n",
    "7. Use the deployed model.\n",
    "\n",
    "For this project, you will be following the steps in the general outline with some modifications. \n",
    "\n",
    "First, you will not be testing the model in its own step. You will still be testing the model, however, you will do it by deploying your model and then using the deployed model by sending the test data to it. One of the reasons for doing this is so that you can make sure that your deployed model is working correctly before moving forward.\n",
    "\n",
    "In addition, you will deploy and use your trained model a second time. In the second iteration you will customize the way that your trained model is deployed by including some of your own code. In addition, your newly deployed model will be used in the sentiment analysis web app."
   ]
  },
  {
   "cell_type": "markdown",
   "metadata": {},
   "source": [
    "## Step 1: Downloading the data\n",
    "\n",
    "As in the XGBoost in SageMaker notebook, we will be using the [IMDb dataset](http://ai.stanford.edu/~amaas/data/sentiment/)\n",
    "\n",
    "> Maas, Andrew L., et al. [Learning Word Vectors for Sentiment Analysis](http://ai.stanford.edu/~amaas/data/sentiment/). In _Proceedings of the 49th Annual Meeting of the Association for Computational Linguistics: Human Language Technologies_. Association for Computational Linguistics, 2011."
   ]
  },
  {
   "cell_type": "code",
   "execution_count": 1,
   "metadata": {},
   "outputs": [
    {
     "name": "stdout",
     "output_type": "stream",
     "text": [
      "--2019-01-28 23:20:04--  http://ai.stanford.edu/~amaas/data/sentiment/aclImdb_v1.tar.gz\n",
      "Resolving ai.stanford.edu (ai.stanford.edu)... 171.64.68.10\n",
      "Connecting to ai.stanford.edu (ai.stanford.edu)|171.64.68.10|:80... connected.\n",
      "HTTP request sent, awaiting response... 200 OK\n",
      "Length: 84125825 (80M) [application/x-gzip]\n",
      "Saving to: ‘../data/aclImdb_v1.tar.gz’\n",
      "\n",
      "../data/aclImdb_v1. 100%[===================>]  80.23M  24.6MB/s    in 3.8s    \n",
      "\n",
      "2019-01-28 23:20:08 (21.2 MB/s) - ‘../data/aclImdb_v1.tar.gz’ saved [84125825/84125825]\n",
      "\n"
     ]
    }
   ],
   "source": [
    "%mkdir ../data\n",
    "!wget -O ../data/aclImdb_v1.tar.gz http://ai.stanford.edu/~amaas/data/sentiment/aclImdb_v1.tar.gz\n",
    "!tar -zxf ../data/aclImdb_v1.tar.gz -C ../data"
   ]
  },
  {
   "cell_type": "markdown",
   "metadata": {},
   "source": [
    "## Step 2: Preparing and Processing the data\n",
    "\n",
    "Also, as in the XGBoost notebook, we will be doing some initial data processing. The first few steps are the same as in the XGBoost example. To begin with, we will read in each of the reviews and combine them into a single input structure. Then, we will split the dataset into a training set and a testing set."
   ]
  },
  {
   "cell_type": "code",
   "execution_count": 2,
   "metadata": {
    "collapsed": true
   },
   "outputs": [],
   "source": [
    "import os\n",
    "import glob\n",
    "\n",
    "def read_imdb_data(data_dir='../data/aclImdb'):\n",
    "    data = {}\n",
    "    labels = {}\n",
    "    \n",
    "    for data_type in ['train', 'test']:\n",
    "        data[data_type] = {}\n",
    "        labels[data_type] = {}\n",
    "        \n",
    "        for sentiment in ['pos', 'neg']:\n",
    "            data[data_type][sentiment] = []\n",
    "            labels[data_type][sentiment] = []\n",
    "            \n",
    "            path = os.path.join(data_dir, data_type, sentiment, '*.txt')\n",
    "            files = glob.glob(path)\n",
    "            \n",
    "            for f in files:\n",
    "                with open(f) as review:\n",
    "                    data[data_type][sentiment].append(review.read())\n",
    "                    # Here we represent a positive review by '1' and a negative review by '0'\n",
    "                    labels[data_type][sentiment].append(1 if sentiment == 'pos' else 0)\n",
    "                    \n",
    "            assert len(data[data_type][sentiment]) == len(labels[data_type][sentiment]), \\\n",
    "                    \"{}/{} data size does not match labels size\".format(data_type, sentiment)\n",
    "                \n",
    "    return data, labels"
   ]
  },
  {
   "cell_type": "code",
   "execution_count": 3,
   "metadata": {},
   "outputs": [
    {
     "name": "stdout",
     "output_type": "stream",
     "text": [
      "IMDB reviews: train = 12500 pos / 12500 neg, test = 12500 pos / 12500 neg\n"
     ]
    }
   ],
   "source": [
    "data, labels = read_imdb_data()\n",
    "print(\"IMDB reviews: train = {} pos / {} neg, test = {} pos / {} neg\".format(\n",
    "            len(data['train']['pos']), len(data['train']['neg']),\n",
    "            len(data['test']['pos']), len(data['test']['neg'])))"
   ]
  },
  {
   "cell_type": "markdown",
   "metadata": {},
   "source": [
    "Now that we've read the raw training and testing data from the downloaded dataset, we will combine the positive and negative reviews and shuffle the resulting records."
   ]
  },
  {
   "cell_type": "code",
   "execution_count": 4,
   "metadata": {
    "collapsed": true
   },
   "outputs": [],
   "source": [
    "from sklearn.utils import shuffle\n",
    "\n",
    "def prepare_imdb_data(data, labels):\n",
    "    \"\"\"Prepare training and test sets from IMDb movie reviews.\"\"\"\n",
    "    \n",
    "    #Combine positive and negative reviews and labels\n",
    "    data_train = data['train']['pos'] + data['train']['neg']\n",
    "    data_test = data['test']['pos'] + data['test']['neg']\n",
    "    labels_train = labels['train']['pos'] + labels['train']['neg']\n",
    "    labels_test = labels['test']['pos'] + labels['test']['neg']\n",
    "    \n",
    "    #Shuffle reviews and corresponding labels within training and test sets\n",
    "    data_train, labels_train = shuffle(data_train, labels_train)\n",
    "    data_test, labels_test = shuffle(data_test, labels_test)\n",
    "    \n",
    "    # Return a unified training data, test data, training labels, test labets\n",
    "    return data_train, data_test, labels_train, labels_test"
   ]
  },
  {
   "cell_type": "code",
   "execution_count": 5,
   "metadata": {},
   "outputs": [
    {
     "name": "stdout",
     "output_type": "stream",
     "text": [
      "IMDb reviews (combined): train = 25000, test = 25000\n"
     ]
    }
   ],
   "source": [
    "train_X, test_X, train_y, test_y = prepare_imdb_data(data, labels)\n",
    "print(\"IMDb reviews (combined): train = {}, test = {}\".format(len(train_X), len(test_X)))"
   ]
  },
  {
   "cell_type": "markdown",
   "metadata": {},
   "source": [
    "Now that we have our training and testing sets unified and prepared, we should do a quick check and see an example of the data our model will be trained on. This is generally a good idea as it allows you to see how each of the further processing steps affects the reviews and it also ensures that the data has been loaded correctly."
   ]
  },
  {
   "cell_type": "code",
   "execution_count": 6,
   "metadata": {},
   "outputs": [
    {
     "name": "stdout",
     "output_type": "stream",
     "text": [
      "In the beginning of this film, one of the commentators says that he was told that he has two strikes against him: he is black and male. But in addition to that, he has a third strike: he's gay. \"You're going to have to be stronger than you ever imagined,\" he is told. \"Paris is Burning\" is a documentary about gay black and Hispanic men who are tranvestites or transsexuals.<br /><br />The miracle of \"Paris is Burning\" is that director Jennie Livingston takes a subject that could have very easily become a freak show and allows the people in it their humanity. We learn their views of homosexuality, men, women, their hopes, their disappointments, their dreams. Some of these dreams are so unattainable it's tragic. Many of the people are seriously in denial;<br /><br />This is not a film for everyone. There are shots in this movie of nude transsexuals. If you have a problem with homosexuality, then this movie isn't for you. But if you do see this movie you'll realise \"Paris is Burning\" isn't really about men wearing women's clothes, it's about a group of people who are routinely marginalised and put down by society at large, and what they do to get a sense of community in their lives.<br /><br />I've watched this movie four times since it was released in 1991, because it says so many things: it's a commentary about materialism in our culture, about gender roles, about rich and poor people, about the media and what it celebrates, about fame and adulation. \"Paris is Burning\" is one of the most humane, and one of the saddest, movies I've ever seen.\n",
      "1\n"
     ]
    }
   ],
   "source": [
    "print(train_X[100])\n",
    "print(train_y[100])"
   ]
  },
  {
   "cell_type": "markdown",
   "metadata": {},
   "source": [
    "The first step in processing the reviews is to make sure that any html tags that appear should be removed. In addition we wish to tokenize our input, that way words such as *entertained* and *entertaining* are considered the same with regard to sentiment analysis."
   ]
  },
  {
   "cell_type": "code",
   "execution_count": 7,
   "metadata": {
    "collapsed": true
   },
   "outputs": [],
   "source": [
    "import nltk\n",
    "from nltk.corpus import stopwords\n",
    "from nltk.stem.porter import *\n",
    "\n",
    "import re\n",
    "from bs4 import BeautifulSoup\n",
    "\n",
    "def review_to_words(review):\n",
    "    nltk.download(\"stopwords\", quiet=True)\n",
    "    stemmer = PorterStemmer()\n",
    "    \n",
    "    text = BeautifulSoup(review, \"html.parser\").get_text() # Remove HTML tags\n",
    "    text = re.sub(r\"[^a-zA-Z0-9]\", \" \", text.lower()) # Convert to lower case\n",
    "    words = text.split() # Split string into words\n",
    "    words = [w for w in words if w not in stopwords.words(\"english\")] # Remove stopwords\n",
    "    words = [PorterStemmer().stem(w) for w in words] # stem\n",
    "    \n",
    "    return words"
   ]
  },
  {
   "cell_type": "markdown",
   "metadata": {},
   "source": [
    "The `review_to_words` method defined above uses `BeautifulSoup` to remove any html tags that appear and uses the `nltk` package to tokenize the reviews. As a check to ensure we know how everything is working, try applying `review_to_words` to one of the reviews in the training set."
   ]
  },
  {
   "cell_type": "code",
   "execution_count": 9,
   "metadata": {},
   "outputs": [
    {
     "data": {
      "text/plain": [
       "['although',\n",
       " 'see',\n",
       " 'potenti',\n",
       " 'redeem',\n",
       " 'qualiti',\n",
       " 'film',\n",
       " 'way',\n",
       " 'intrigu',\n",
       " 'certainli',\n",
       " 'thought',\n",
       " 'pain',\n",
       " 'long',\n",
       " 'natur',\n",
       " 'way',\n",
       " 'scene',\n",
       " 'structur',\n",
       " 'play',\n",
       " 'much',\n",
       " 'ask',\n",
       " 'viewer',\n",
       " 'enorm',\n",
       " 'hole',\n",
       " 'screenplay',\n",
       " 'never',\n",
       " 'explain',\n",
       " 'father',\n",
       " 'die',\n",
       " 'today',\n",
       " 'comment',\n",
       " 'mother',\n",
       " 'made',\n",
       " 'even',\n",
       " 'harder',\n",
       " 'tri',\n",
       " 'make',\n",
       " 'sens',\n",
       " 'charact',\n",
       " 'first',\n",
       " 'place',\n",
       " 'cann',\n",
       " '2001',\n",
       " 'shock',\n",
       " 'consid',\n",
       " 'perhap',\n",
       " 'french',\n",
       " 'starv',\n",
       " 'film',\n",
       " 'noir',\n",
       " 'year',\n",
       " 'desper',\n",
       " 'someth',\n",
       " 'sadist',\n",
       " 'film',\n",
       " 'understood',\n",
       " 'long',\n",
       " 'scene',\n",
       " 'devic',\n",
       " 'keep',\n",
       " 'viewer',\n",
       " 'uncomfort',\n",
       " 'possibl',\n",
       " 'match',\n",
       " 'inabl',\n",
       " 'relat',\n",
       " 'main',\n",
       " 'charact',\n",
       " 'went',\n",
       " 'far',\n",
       " 'kept',\n",
       " 'arm',\n",
       " 'distanc',\n",
       " 'stori',\n",
       " 'altogeth',\n",
       " 'film',\n",
       " 'dedic',\n",
       " 'fan',\n",
       " 'film',\n",
       " 'noir',\n",
       " 'one',\n",
       " 'expect',\n",
       " 'gratif',\n",
       " 'watch',\n",
       " 'film',\n",
       " 'love',\n",
       " 'movi',\n",
       " 'trainspot',\n",
       " 'requiem',\n",
       " 'dream',\n",
       " 'far',\n",
       " 'disturb',\n",
       " 'least',\n",
       " 'gave',\n",
       " 'viewer',\n",
       " 'someth',\n",
       " 'way',\n",
       " 'edit',\n",
       " 'pace',\n",
       " 'watch',\n",
       " 'teacher',\n",
       " 'slow',\n",
       " 'pain',\n",
       " 'silenc',\n",
       " 'scene',\n",
       " 'scene',\n",
       " 'becam',\n",
       " 'redund',\n",
       " 'found',\n",
       " 'tediou',\n",
       " 'realli',\n",
       " 'want',\n",
       " 'like',\n",
       " 'film',\n",
       " 'everi',\n",
       " 'turn']"
      ]
     },
     "execution_count": 9,
     "metadata": {},
     "output_type": "execute_result"
    }
   ],
   "source": [
    "# TODO: Apply review_to_words to a review (train_X[100] or any other review)\n",
    "review_to_words(train_X[0])"
   ]
  },
  {
   "cell_type": "markdown",
   "metadata": {},
   "source": [
    "**Question:** Above we mentioned that `review_to_words` method removes html formatting and allows us to tokenize the words found in a review, for example, converting *entertained* and *entertaining* into *entertain* so that they are treated as though they are the same word. What else, if anything, does this method do to the input?"
   ]
  },
  {
   "cell_type": "markdown",
   "metadata": {},
   "source": [
    "**Answer:**\n",
    "`review_to_words` method convert the string to lower case, then split will split it. Later it will remove stopwords and also remove morphological affixes from words"
   ]
  },
  {
   "cell_type": "markdown",
   "metadata": {},
   "source": [
    "The method below applies the `review_to_words` method to each of the reviews in the training and testing datasets. In addition it caches the results. This is because performing this processing step can take a long time. This way if you are unable to complete the notebook in the current session, you can come back without needing to process the data a second time."
   ]
  },
  {
   "cell_type": "code",
   "execution_count": 10,
   "metadata": {
    "collapsed": true
   },
   "outputs": [],
   "source": [
    "import pickle\n",
    "\n",
    "cache_dir = os.path.join(\"../cache\", \"sentiment_analysis\")  # where to store cache files\n",
    "os.makedirs(cache_dir, exist_ok=True)  # ensure cache directory exists\n",
    "\n",
    "def preprocess_data(data_train, data_test, labels_train, labels_test,\n",
    "                    cache_dir=cache_dir, cache_file=\"preprocessed_data.pkl\"):\n",
    "    \"\"\"Convert each review to words; read from cache if available.\"\"\"\n",
    "\n",
    "    # If cache_file is not None, try to read from it first\n",
    "    cache_data = None\n",
    "    if cache_file is not None:\n",
    "        try:\n",
    "            with open(os.path.join(cache_dir, cache_file), \"rb\") as f:\n",
    "                cache_data = pickle.load(f)\n",
    "            print(\"Read preprocessed data from cache file:\", cache_file)\n",
    "        except:\n",
    "            pass  # unable to read from cache, but that's okay\n",
    "    \n",
    "    # If cache is missing, then do the heavy lifting\n",
    "    if cache_data is None:\n",
    "        # Preprocess training and test data to obtain words for each review\n",
    "        #words_train = list(map(review_to_words, data_train))\n",
    "        #words_test = list(map(review_to_words, data_test))\n",
    "        words_train = [review_to_words(review) for review in data_train]\n",
    "        words_test = [review_to_words(review) for review in data_test]\n",
    "        \n",
    "        # Write to cache file for future runs\n",
    "        if cache_file is not None:\n",
    "            cache_data = dict(words_train=words_train, words_test=words_test,\n",
    "                              labels_train=labels_train, labels_test=labels_test)\n",
    "            with open(os.path.join(cache_dir, cache_file), \"wb\") as f:\n",
    "                pickle.dump(cache_data, f)\n",
    "            print(\"Wrote preprocessed data to cache file:\", cache_file)\n",
    "    else:\n",
    "        # Unpack data loaded from cache file\n",
    "        words_train, words_test, labels_train, labels_test = (cache_data['words_train'],\n",
    "                cache_data['words_test'], cache_data['labels_train'], cache_data['labels_test'])\n",
    "    \n",
    "    return words_train, words_test, labels_train, labels_test"
   ]
  },
  {
   "cell_type": "code",
   "execution_count": 11,
   "metadata": {},
   "outputs": [
    {
     "name": "stdout",
     "output_type": "stream",
     "text": [
      "Wrote preprocessed data to cache file: preprocessed_data.pkl\n"
     ]
    }
   ],
   "source": [
    "# Preprocess data\n",
    "train_X, test_X, train_y, test_y = preprocess_data(train_X, test_X, train_y, test_y)"
   ]
  },
  {
   "cell_type": "markdown",
   "metadata": {},
   "source": [
    "## Transform the data\n",
    "\n",
    "In the XGBoost notebook we transformed the data from its word representation to a bag-of-words feature representation. For the model we are going to construct in this notebook we will construct a feature representation which is very similar. To start, we will represent each word as an integer. Of course, some of the words that appear in the reviews occur very infrequently and so likely don't contain much information for the purposes of sentiment analysis. The way we will deal with this problem is that we will fix the size of our working vocabulary and we will only include the words that appear most frequently. We will then combine all of the infrequent words into a single category and, in our case, we will label it as `1`.\n",
    "\n",
    "Since we will be using a recurrent neural network, it will be convenient if the length of each review is the same. To do this, we will fix a size for our reviews and then pad short reviews with the category 'no word' (which we will label `0`) and truncate long reviews."
   ]
  },
  {
   "cell_type": "markdown",
   "metadata": {},
   "source": [
    "### (TODO) Create a word dictionary\n",
    "\n",
    "To begin with, we need to construct a way to map words that appear in the reviews to integers. Here we fix the size of our vocabulary (including the 'no word' and 'infrequent' categories) to be `5000` but you may wish to change this to see how it affects the model.\n",
    "\n",
    "> **TODO:** Complete the implementation for the `build_dict()` method below. Note that even though the vocab_size is set to `5000`, we only want to construct a mapping for the most frequently appearing `4998` words. This is because we want to reserve the special labels `0` for 'no word' and `1` for 'infrequent word'."
   ]
  },
  {
   "cell_type": "code",
   "execution_count": 12,
   "metadata": {
    "collapsed": true
   },
   "outputs": [],
   "source": [
    "import numpy as np\n",
    "from collections import Counter\n",
    "\n",
    "def build_dict(data, vocab_size = 5000):\n",
    "    \"\"\"Construct and return a dictionary mapping each of the most frequently appearing words to a unique integer.\"\"\"\n",
    "    \n",
    "    # TODO: Determine how often each word appears in `data`. Note that `data` is a list of sentences and that a\n",
    "    #       sentence is a list of words.\n",
    "    '''\n",
    "    for sublist in list:\n",
    "        for word in sublist:\n",
    "            flat_data.append(word)\n",
    "    '''\n",
    "\n",
    "    word_count = {} # A dict storing the words that appear in the reviews along with how often they occur\n",
    "    flatten_data = [word for review in data for word in review]\n",
    "    word_count = Counter(flatten_data) # counting the occurrence of each word\n",
    "        \n",
    "    # TODO: Sort the words found in `data` so that sorted_words[0] is the most frequently appearing word and\n",
    "    #       sorted_words[-1] is the least frequently appearing word.\n",
    "    \n",
    "    sorted_words = sorted(word_count, key=word_count.get, reverse=True)\n",
    "    \n",
    "    word_dict = {} # This is what we are building, a dictionary that translates words into integers\n",
    "    for idx, word in enumerate(sorted_words[:vocab_size - 2]): # The -2 is so that we save room for the 'no word'\n",
    "        word_dict[word] = idx + 2                              # 'infrequent' labels\n",
    "        \n",
    "    return word_dict"
   ]
  },
  {
   "cell_type": "code",
   "execution_count": 13,
   "metadata": {},
   "outputs": [
    {
     "name": "stdout",
     "output_type": "stream",
     "text": [
      "{'movi': 2, 'film': 3, 'one': 4, 'like': 5, 'time': 6, 'good': 7, 'make': 8, 'charact': 9, 'get': 10, 'see': 11, 'watch': 12, 'stori': 13, 'even': 14, 'would': 15, 'realli': 16, 'well': 17, 'scene': 18, 'look': 19, 'show': 20, 'much': 21, 'end': 22, 'peopl': 23, 'bad': 24, 'go': 25, 'great': 26, 'also': 27, 'first': 28, 'love': 29, 'think': 30, 'way': 31, 'act': 32, 'play': 33, 'made': 34, 'thing': 35, 'could': 36, 'know': 37, 'say': 38, 'seem': 39, 'work': 40, 'plot': 41, 'two': 42, 'actor': 43, 'year': 44, 'come': 45, 'mani': 46, 'seen': 47, 'take': 48, 'want': 49, 'life': 50, 'never': 51, 'littl': 52, 'best': 53, 'tri': 54, 'man': 55, 'ever': 56, 'give': 57, 'better': 58, 'still': 59, 'perform': 60, 'find': 61, 'feel': 62, 'part': 63, 'back': 64, 'use': 65, 'someth': 66, 'director': 67, 'actual': 68, 'interest': 69, 'lot': 70, 'real': 71, 'old': 72, 'cast': 73, 'though': 74, 'live': 75, 'star': 76, 'enjoy': 77, 'guy': 78, 'anoth': 79, 'new': 80, 'role': 81, 'noth': 82, '10': 83, 'funni': 84, 'music': 85, 'point': 86, 'start': 87, 'set': 88, 'girl': 89, 'origin': 90, 'day': 91, 'world': 92, 'everi': 93, 'believ': 94, 'turn': 95, 'quit': 96, 'us': 97, 'direct': 98, 'thought': 99, 'fact': 100, 'minut': 101, 'horror': 102, 'kill': 103, 'action': 104, 'comedi': 105, 'pretti': 106, 'young': 107, 'wonder': 108, 'happen': 109, 'around': 110, 'got': 111, 'effect': 112, 'right': 113, 'long': 114, 'howev': 115, 'big': 116, 'line': 117, 'famili': 118, 'enough': 119, 'seri': 120, 'may': 121, 'need': 122, 'fan': 123, 'bit': 124, 'script': 125, 'beauti': 126, 'person': 127, 'becom': 128, 'without': 129, 'must': 130, 'alway': 131, 'friend': 132, 'tell': 133, 'reason': 134, 'saw': 135, 'last': 136, 'final': 137, 'kid': 138, 'almost': 139, 'put': 140, 'least': 141, 'sure': 142, 'done': 143, 'whole': 144, 'place': 145, 'complet': 146, 'kind': 147, 'expect': 148, 'differ': 149, 'shot': 150, 'far': 151, 'mean': 152, 'anyth': 153, 'book': 154, 'laugh': 155, 'might': 156, 'name': 157, 'sinc': 158, 'begin': 159, '2': 160, 'probabl': 161, 'woman': 162, 'help': 163, 'entertain': 164, 'let': 165, 'screen': 166, 'call': 167, 'tv': 168, 'moment': 169, 'away': 170, 'read': 171, 'yet': 172, 'rather': 173, 'worst': 174, 'run': 175, 'fun': 176, 'lead': 177, 'hard': 178, 'audienc': 179, 'idea': 180, 'anyon': 181, 'episod': 182, 'american': 183, 'found': 184, 'appear': 185, 'bore': 186, 'especi': 187, 'although': 188, 'hope': 189, 'keep': 190, 'cours': 191, 'anim': 192, 'job': 193, 'goe': 194, 'move': 195, 'sens': 196, 'version': 197, 'dvd': 198, 'war': 199, 'money': 200, 'someon': 201, 'mind': 202, 'mayb': 203, 'problem': 204, 'true': 205, 'hous': 206, 'everyth': 207, 'nice': 208, 'second': 209, 'rate': 210, 'three': 211, 'night': 212, 'follow': 213, 'face': 214, 'recommend': 215, 'main': 216, 'product': 217, 'worth': 218, 'leav': 219, 'human': 220, 'special': 221, 'excel': 222, 'togeth': 223, 'wast': 224, 'everyon': 225, 'sound': 226, 'john': 227, 'hand': 228, '1': 229, 'father': 230, 'later': 231, 'eye': 232, 'said': 233, 'view': 234, 'instead': 235, 'review': 236, 'boy': 237, 'high': 238, 'hour': 239, 'miss': 240, 'talk': 241, 'classic': 242, 'wife': 243, 'understand': 244, 'left': 245, 'care': 246, 'black': 247, 'death': 248, 'open': 249, 'murder': 250, 'write': 251, 'half': 252, 'head': 253, 'rememb': 254, 'chang': 255, 'viewer': 256, 'fight': 257, 'gener': 258, 'surpris': 259, 'includ': 260, 'short': 261, 'die': 262, 'fall': 263, 'less': 264, 'els': 265, 'entir': 266, 'piec': 267, 'involv': 268, 'pictur': 269, 'simpli': 270, 'top': 271, 'power': 272, 'home': 273, 'total': 274, 'usual': 275, 'budget': 276, 'attempt': 277, 'suppos': 278, 'releas': 279, 'hollywood': 280, 'terribl': 281, 'song': 282, 'men': 283, 'possibl': 284, 'featur': 285, 'portray': 286, 'disappoint': 287, 'poor': 288, '3': 289, 'coupl': 290, 'camera': 291, 'stupid': 292, 'dead': 293, 'wrong': 294, 'produc': 295, 'low': 296, 'either': 297, 'video': 298, 'aw': 299, 'definit': 300, 'except': 301, 'rest': 302, 'given': 303, 'absolut': 304, 'women': 305, 'lack': 306, 'word': 307, 'writer': 308, 'titl': 309, 'talent': 310, 'decid': 311, 'full': 312, 'perfect': 313, 'along': 314, 'style': 315, 'close': 316, 'truli': 317, 'school': 318, 'save': 319, 'emot': 320, 'sex': 321, 'age': 322, 'next': 323, 'bring': 324, 'mr': 325, 'case': 326, 'killer': 327, 'heart': 328, 'comment': 329, 'sort': 330, 'creat': 331, 'perhap': 332, 'came': 333, 'brother': 334, 'sever': 335, 'joke': 336, 'art': 337, 'dialogu': 338, 'game': 339, 'small': 340, 'base': 341, 'flick': 342, 'written': 343, 'sequenc': 344, 'meet': 345, 'earli': 346, 'often': 347, 'other': 348, 'mother': 349, 'develop': 350, 'humor': 351, 'actress': 352, 'consid': 353, 'dark': 354, 'guess': 355, 'amaz': 356, 'unfortun': 357, 'light': 358, 'lost': 359, 'exampl': 360, 'cinema': 361, 'drama': 362, 'ye': 363, 'white': 364, 'experi': 365, 'imagin': 366, 'mention': 367, 'stop': 368, 'natur': 369, 'forc': 370, 'manag': 371, 'felt': 372, 'present': 373, 'cut': 374, 'children': 375, 'fail': 376, 'son': 377, 'qualiti': 378, 'car': 379, 'support': 380, 'ask': 381, 'hit': 382, 'side': 383, 'voic': 384, 'extrem': 385, 'impress': 386, 'wors': 387, 'evil': 388, 'went': 389, 'stand': 390, 'certainli': 391, 'basic': 392, 'oh': 393, 'overal': 394, 'favorit': 395, 'horribl': 396, 'mysteri': 397, 'number': 398, 'type': 399, 'danc': 400, 'wait': 401, 'hero': 402, 'alreadi': 403, '5': 404, 'learn': 405, 'matter': 406, '4': 407, 'michael': 408, 'genr': 409, 'fine': 410, 'despit': 411, 'throughout': 412, 'walk': 413, 'success': 414, 'histori': 415, 'question': 416, 'zombi': 417, 'town': 418, 'relationship': 419, 'realiz': 420, 'past': 421, 'child': 422, 'daughter': 423, 'late': 424, 'b': 425, 'wish': 426, 'hate': 427, 'credit': 428, 'event': 429, 'theme': 430, 'touch': 431, 'citi': 432, 'today': 433, 'sometim': 434, 'behind': 435, 'god': 436, 'twist': 437, 'sit': 438, 'stay': 439, 'annoy': 440, 'deal': 441, 'abl': 442, 'rent': 443, 'pleas': 444, 'edit': 445, 'blood': 446, 'deserv': 447, 'anyway': 448, 'comic': 449, 'appar': 450, 'soon': 451, 'gave': 452, 'etc': 453, 'level': 454, 'slow': 455, 'chanc': 456, 'score': 457, 'bodi': 458, 'brilliant': 459, 'incred': 460, 'figur': 461, 'situat': 462, 'self': 463, 'major': 464, 'stuff': 465, 'decent': 466, 'element': 467, 'dream': 468, 'return': 469, 'obvious': 470, 'order': 471, 'continu': 472, 'pace': 473, 'ridicul': 474, 'happi': 475, 'group': 476, 'highli': 477, 'add': 478, 'thank': 479, 'ladi': 480, 'novel': 481, 'pain': 482, 'speak': 483, 'career': 484, 'shoot': 485, 'strang': 486, 'heard': 487, 'sad': 488, 'husband': 489, 'polic': 490, 'import': 491, 'break': 492, 'took': 493, 'strong': 494, 'cannot': 495, 'predict': 496, 'robert': 497, 'violenc': 498, 'hilari': 499, 'recent': 500, 'countri': 501, 'known': 502, 'particularli': 503, 'pick': 504, 'documentari': 505, 'season': 506, 'critic': 507, 'jame': 508, 'compar': 509, 'obviou': 510, 'alon': 511, 'told': 512, 'state': 513, 'rock': 514, 'visual': 515, 'offer': 516, 'theater': 517, 'exist': 518, 'opinion': 519, 'gore': 520, 'crap': 521, 'hold': 522, 'result': 523, 'realiti': 524, 'hear': 525, 'room': 526, 'effort': 527, 'clich': 528, 'thriller': 529, 'caus': 530, 'explain': 531, 'serious': 532, 'sequel': 533, 'king': 534, 'local': 535, 'ago': 536, 'none': 537, 'hell': 538, 'note': 539, 'allow': 540, 'sister': 541, 'david': 542, 'simpl': 543, 'femal': 544, 'deliv': 545, 'ok': 546, 'class': 547, 'convinc': 548, 'check': 549, 'suspens': 550, 'win': 551, 'buy': 552, 'oscar': 553, 'huge': 554, 'valu': 555, 'sexual': 556, 'cool': 557, 'scari': 558, 'similar': 559, 'excit': 560, 'provid': 561, 'exactli': 562, 'apart': 563, 'shown': 564, 'avoid': 565, 'seriou': 566, 'english': 567, 'whose': 568, 'taken': 569, 'cinematographi': 570, 'shock': 571, 'polit': 572, 'spoiler': 573, 'offic': 574, 'across': 575, 'middl': 576, 'street': 577, 'pass': 578, 'messag': 579, 'somewhat': 580, 'charm': 581, 'silli': 582, 'modern': 583, 'confus': 584, 'filmmak': 585, 'form': 586, 'tale': 587, 'singl': 588, 'jack': 589, 'mostli': 590, 'carri': 591, 'attent': 592, 'william': 593, 'sing': 594, 'five': 595, 'subject': 596, 'prove': 597, 'richard': 598, 'stage': 599, 'team': 600, 'unlik': 601, 'cop': 602, 'georg': 603, 'televis': 604, 'monster': 605, 'earth': 606, 'villain': 607, 'cover': 608, 'pay': 609, 'marri': 610, 'toward': 611, 'build': 612, 'pull': 613, 'parent': 614, 'due': 615, 'fill': 616, 'respect': 617, 'four': 618, 'dialog': 619, 'remind': 620, 'futur': 621, 'weak': 622, 'typic': 623, '7': 624, 'cheap': 625, 'intellig': 626, 'atmospher': 627, 'british': 628, '80': 629, 'clearli': 630, 'dog': 631, 'paul': 632, 'non': 633, 'artist': 634, '8': 635, 'knew': 636, 'fast': 637, 'crime': 638, 'easili': 639, 'escap': 640, 'adult': 641, 'doubt': 642, 'detail': 643, 'date': 644, 'romant': 645, 'member': 646, 'fire': 647, 'drive': 648, 'gun': 649, 'straight': 650, 'beyond': 651, 'fit': 652, 'attack': 653, 'imag': 654, 'upon': 655, 'posit': 656, 'whether': 657, 'fantast': 658, 'peter': 659, 'aspect': 660, 'appreci': 661, 'captur': 662, 'ten': 663, 'plan': 664, 'discov': 665, 'remain': 666, 'period': 667, 'near': 668, 'realist': 669, 'air': 670, 'mark': 671, 'red': 672, 'dull': 673, 'adapt': 674, 'within': 675, 'spend': 676, 'lose': 677, 'materi': 678, 'color': 679, 'chase': 680, 'mari': 681, 'storylin': 682, 'forget': 683, 'bunch': 684, 'clear': 685, 'lee': 686, 'victim': 687, 'nearli': 688, 'box': 689, 'york': 690, 'match': 691, 'inspir': 692, 'mess': 693, 'finish': 694, 'standard': 695, 'easi': 696, 'truth': 697, 'busi': 698, 'suffer': 699, 'bill': 700, 'space': 701, 'dramat': 702, 'western': 703, 'e': 704, 'list': 705, 'battl': 706, 'notic': 707, 'de': 708, 'french': 709, 'ad': 710, '9': 711, 'tom': 712, 'larg': 713, 'among': 714, 'eventu': 715, 'accept': 716, 'train': 717, 'agre': 718, 'soundtrack': 719, 'spirit': 720, 'third': 721, 'teenag': 722, 'adventur': 723, 'soldier': 724, 'sorri': 725, 'famou': 726, 'suggest': 727, 'drug': 728, 'normal': 729, 'cri': 730, 'babi': 731, 'troubl': 732, 'ultim': 733, 'contain': 734, 'certain': 735, 'cultur': 736, 'romanc': 737, 'rare': 738, 'lame': 739, 'somehow': 740, 'disney': 741, 'mix': 742, 'gone': 743, 'cartoon': 744, 'student': 745, 'reveal': 746, 'fear': 747, 'kept': 748, 'suck': 749, 'attract': 750, 'appeal': 751, 'premis': 752, 'greatest': 753, 'design': 754, 'secret': 755, 'shame': 756, 'throw': 757, 'scare': 758, 'copi': 759, 'wit': 760, 'america': 761, 'admit': 762, 'relat': 763, 'particular': 764, 'brought': 765, 'screenplay': 766, 'whatev': 767, 'pure': 768, '70': 769, 'harri': 770, 'averag': 771, 'master': 772, 'describ': 773, 'treat': 774, 'male': 775, '20': 776, 'issu': 777, 'fantasi': 778, 'warn': 779, 'inde': 780, 'background': 781, 'forward': 782, 'free': 783, 'project': 784, 'japanes': 785, 'memor': 786, 'poorli': 787, 'award': 788, 'locat': 789, 'potenti': 790, 'amus': 791, 'struggl': 792, 'weird': 793, 'magic': 794, 'societi': 795, 'okay': 796, 'accent': 797, 'doctor': 798, 'imdb': 799, 'water': 800, 'hot': 801, '30': 802, 'alien': 803, 'express': 804, 'dr': 805, 'odd': 806, 'crazi': 807, 'choic': 808, 'fiction': 809, 'studio': 810, 'becam': 811, 'control': 812, 'masterpiec': 813, 'difficult': 814, 'fli': 815, 'joe': 816, 'scream': 817, 'costum': 818, 'lover': 819, 'refer': 820, 'uniqu': 821, 'remak': 822, 'vampir': 823, 'girlfriend': 824, 'prison': 825, 'execut': 826, 'wear': 827, 'jump': 828, 'unless': 829, 'wood': 830, 'creepi': 831, 'cheesi': 832, 'superb': 833, 'otherwis': 834, 'parti': 835, 'ghost': 836, 'roll': 837, 'public': 838, 'mad': 839, 'depict': 840, 'badli': 841, 'moral': 842, 'earlier': 843, 'week': 844, 'jane': 845, 'dumb': 846, 'fi': 847, 'grow': 848, 'flaw': 849, 'sci': 850, 'deep': 851, 'cat': 852, 'maker': 853, 'older': 854, 'connect': 855, 'footag': 856, 'plenti': 857, 'bother': 858, 'outsid': 859, 'stick': 860, 'gay': 861, 'catch': 862, 'plu': 863, 'co': 864, 'popular': 865, 'equal': 866, 'social': 867, 'disturb': 868, 'quickli': 869, 'perfectli': 870, 'dress': 871, '90': 872, 'era': 873, 'mistak': 874, 'lie': 875, 'previou': 876, 'ride': 877, 'combin': 878, 'concept': 879, 'band': 880, 'surviv': 881, 'answer': 882, 'rich': 883, 'front': 884, 'sweet': 885, 'christma': 886, 'insid': 887, 'bare': 888, 'eat': 889, 'concern': 890, 'beat': 891, 'listen': 892, 'ben': 893, 'c': 894, 'serv': 895, 'term': 896, 'la': 897, 'meant': 898, 'german': 899, 'hardli': 900, 'stereotyp': 901, 'innoc': 902, 'law': 903, 'desper': 904, 'memori': 905, 'promis': 906, 'intent': 907, 'cute': 908, 'steal': 909, 'inform': 910, 'variou': 911, 'brain': 912, 'post': 913, 'tone': 914, 'island': 915, 'amount': 916, 'track': 917, 'nuditi': 918, 'compani': 919, 'claim': 920, 'store': 921, '50': 922, 'hair': 923, 'flat': 924, 'land': 925, 'univers': 926, 'kick': 927, 'scott': 928, 'danger': 929, 'fairli': 930, 'player': 931, 'step': 932, 'crew': 933, 'plain': 934, 'toni': 935, 'share': 936, 'tast': 937, 'centuri': 938, 'achiev': 939, 'engag': 940, 'cold': 941, 'travel': 942, 'rip': 943, 'record': 944, 'suit': 945, 'sadli': 946, 'manner': 947, 'spot': 948, 'wrote': 949, 'tension': 950, 'intens': 951, 'fascin': 952, 'familiar': 953, 'depth': 954, 'burn': 955, 'remark': 956, 'destroy': 957, 'histor': 958, 'sleep': 959, 'purpos': 960, 'languag': 961, 'ignor': 962, 'ruin': 963, 'delight': 964, 'unbeliev': 965, 'italian': 966, 'abil': 967, 'soul': 968, 'collect': 969, 'clever': 970, 'detect': 971, 'violent': 972, 'rape': 973, 'reach': 974, 'door': 975, 'scienc': 976, 'liter': 977, 'trash': 978, 'caught': 979, 'reveng': 980, 'commun': 981, 'creatur': 982, 'trip': 983, 'approach': 984, 'intrigu': 985, 'fashion': 986, 'skill': 987, 'introduc': 988, 'paint': 989, 'channel': 990, 'complex': 991, 'camp': 992, 'christian': 993, 'hole': 994, 'extra': 995, 'immedi': 996, 'mental': 997, 'ann': 998, 'limit': 999, 'million': 1000, 'mere': 1001, 'slightli': 1002, '6': 1003, 'comput': 1004, 'conclus': 1005, 'slasher': 1006, 'suddenli': 1007, 'imposs': 1008, 'neither': 1009, 'crimin': 1010, 'teen': 1011, 'nation': 1012, 'physic': 1013, 'spent': 1014, 'respons': 1015, 'planet': 1016, 'receiv': 1017, 'fake': 1018, 'sick': 1019, 'blue': 1020, 'bizarr': 1021, 'embarrass': 1022, 'indian': 1023, 'ring': 1024, '15': 1025, 'drop': 1026, 'pop': 1027, 'drag': 1028, 'haunt': 1029, 'pointless': 1030, 'suspect': 1031, 'search': 1032, 'edg': 1033, 'handl': 1034, 'biggest': 1035, 'common': 1036, 'arriv': 1037, 'faith': 1038, 'hurt': 1039, 'technic': 1040, 'angel': 1041, 'genuin': 1042, 'dad': 1043, 'awesom': 1044, 'solid': 1045, 'f': 1046, 'focu': 1047, 'former': 1048, 'van': 1049, 'colleg': 1050, 'count': 1051, 'tear': 1052, 'heavi': 1053, 'rais': 1054, 'wall': 1055, 'visit': 1056, 'younger': 1057, 'laughabl': 1058, 'fair': 1059, 'excus': 1060, 'sign': 1061, 'cult': 1062, 'tough': 1063, 'motion': 1064, 'key': 1065, 'desir': 1066, 'super': 1067, 'stun': 1068, 'addit': 1069, 'exploit': 1070, 'cloth': 1071, 'smith': 1072, 'tortur': 1073, 'davi': 1074, 'race': 1075, 'cross': 1076, 'author': 1077, 'jim': 1078, 'consist': 1079, 'compel': 1080, 'focus': 1081, 'minor': 1082, 'pathet': 1083, 'chemistri': 1084, 'commit': 1085, 'park': 1086, 'obsess': 1087, 'frank': 1088, 'tradit': 1089, 'grade': 1090, 'asid': 1091, '60': 1092, 'brutal': 1093, 'steve': 1094, 'somewher': 1095, 'opportun': 1096, 'depress': 1097, 'u': 1098, 'explor': 1099, 'grant': 1100, 'rule': 1101, 'honest': 1102, 'besid': 1103, 'dub': 1104, 'anti': 1105, 'trailer': 1106, 'intend': 1107, 'bar': 1108, 'regard': 1109, 'longer': 1110, 'scientist': 1111, 'west': 1112, 'judg': 1113, 'decad': 1114, 'silent': 1115, 'armi': 1116, 'creativ': 1117, 'wild': 1118, 'g': 1119, 'stewart': 1120, 'south': 1121, 'draw': 1122, 'road': 1123, 'govern': 1124, 'ex': 1125, 'boss': 1126, 'practic': 1127, 'club': 1128, 'surprisingli': 1129, 'festiv': 1130, 'motiv': 1131, 'gang': 1132, 'redeem': 1133, 'page': 1134, 'london': 1135, 'green': 1136, 'aliv': 1137, 'display': 1138, 'militari': 1139, 'idiot': 1140, 'machin': 1141, 'repeat': 1142, 'thrill': 1143, 'folk': 1144, '100': 1145, 'yeah': 1146, 'nobodi': 1147, '40': 1148, 'garbag': 1149, 'journey': 1150, 'tire': 1151, 'ground': 1152, 'smile': 1153, 'mood': 1154, 'bought': 1155, 'cost': 1156, 'sam': 1157, 'stone': 1158, 'noir': 1159, 'mouth': 1160, 'agent': 1161, 'terrif': 1162, 'requir': 1163, 'utterli': 1164, 'area': 1165, 'honestli': 1166, 'sexi': 1167, 'report': 1168, 'geniu': 1169, 'investig': 1170, 'glad': 1171, 'humour': 1172, 'enter': 1173, 'serial': 1174, 'passion': 1175, 'narr': 1176, 'occasion': 1177, 'climax': 1178, 'marriag': 1179, 'industri': 1180, 'studi': 1181, 'center': 1182, 'ship': 1183, 'nowher': 1184, 'demon': 1185, 'charli': 1186, 'bear': 1187, 'hors': 1188, 'loos': 1189, 'wow': 1190, 'hang': 1191, 'graphic': 1192, 'admir': 1193, 'giant': 1194, 'send': 1195, 'damn': 1196, 'loud': 1197, 'subtl': 1198, 'profession': 1199, 'rel': 1200, 'nake': 1201, 'blow': 1202, 'bottom': 1203, 'batman': 1204, 'insult': 1205, 'boyfriend': 1206, 'r': 1207, 'doubl': 1208, 'kelli': 1209, 'initi': 1210, 'frame': 1211, 'opera': 1212, 'gem': 1213, 'affect': 1214, 'cinemat': 1215, 'drawn': 1216, 'church': 1217, 'challeng': 1218, 'l': 1219, 'evid': 1220, 'nightmar': 1221, 'fulli': 1222, 'j': 1223, 'seek': 1224, 'arm': 1225, 'conflict': 1226, 'essenti': 1227, 'grace': 1228, 'wind': 1229, 'henri': 1230, 'christoph': 1231, 'witch': 1232, 'narrat': 1233, 'assum': 1234, 'hunt': 1235, 'push': 1236, 'chri': 1237, 'wise': 1238, 'month': 1239, 'nomin': 1240, 'repres': 1241, 'affair': 1242, 'hide': 1243, 'avail': 1244, 'sceneri': 1245, 'smart': 1246, 'justic': 1247, 'bond': 1248, 'thu': 1249, 'outstand': 1250, 'interview': 1251, 'flashback': 1252, 'satisfi': 1253, 'constantli': 1254, 'presenc': 1255, 'bed': 1256, 'central': 1257, 'content': 1258, 'sell': 1259, 'iron': 1260, 'everybodi': 1261, 'gag': 1262, 'hotel': 1263, 'slowli': 1264, 'hire': 1265, 'system': 1266, 'hey': 1267, 'adam': 1268, 'individu': 1269, 'thrown': 1270, 'charl': 1271, 'jone': 1272, 'mediocr': 1273, 'allen': 1274, 'billi': 1275, 'lesson': 1276, 'ray': 1277, 'photographi': 1278, 'cameo': 1279, 'pari': 1280, 'fellow': 1281, 'strike': 1282, 'independ': 1283, 'brief': 1284, 'absurd': 1285, 'rise': 1286, 'neg': 1287, 'phone': 1288, 'impact': 1289, 'ill': 1290, 'model': 1291, 'born': 1292, 'spoil': 1293, 'fresh': 1294, 'angl': 1295, 'abus': 1296, 'likabl': 1297, 'hill': 1298, 'discuss': 1299, 'ahead': 1300, 'sight': 1301, 'sent': 1302, 'photograph': 1303, 'shine': 1304, 'blame': 1305, 'logic': 1306, 'occur': 1307, 'mainli': 1308, 'bruce': 1309, 'commerci': 1310, 'forev': 1311, 'skip': 1312, 'teacher': 1313, 'segment': 1314, 'surround': 1315, 'held': 1316, 'zero': 1317, 'blond': 1318, 'summer': 1319, 'trap': 1320, 'satir': 1321, 'resembl': 1322, 'fool': 1323, 'queen': 1324, 'ball': 1325, 'six': 1326, 'twice': 1327, 'sub': 1328, 'tragedi': 1329, 'pack': 1330, 'reaction': 1331, 'bomb': 1332, 'hospit': 1333, 'will': 1334, 'protagonist': 1335, 'sport': 1336, 'mile': 1337, 'vote': 1338, 'mom': 1339, 'trust': 1340, 'drink': 1341, 'jerri': 1342, 'encount': 1343, 'plane': 1344, 'current': 1345, 'al': 1346, 'program': 1347, 'station': 1348, 'choos': 1349, 'martin': 1350, 'celebr': 1351, 'join': 1352, 'tragic': 1353, 'lord': 1354, 'field': 1355, 'favourit': 1356, 'round': 1357, 'jean': 1358, 'robot': 1359, 'vision': 1360, 'tie': 1361, 'arthur': 1362, 'roger': 1363, 'fortun': 1364, 'random': 1365, 'dread': 1366, 'psycholog': 1367, 'intern': 1368, 'nonsens': 1369, 'epic': 1370, 'improv': 1371, 'prefer': 1372, 'pleasur': 1373, 'legend': 1374, 'highlight': 1375, 'formula': 1376, 'tape': 1377, 'dollar': 1378, '11': 1379, 'object': 1380, 'fox': 1381, 'thin': 1382, 'gorgeou': 1383, 'wide': 1384, 'porn': 1385, 'buddi': 1386, 'influenc': 1387, 'ugli': 1388, 'prepar': 1389, 'nasti': 1390, 'ii': 1391, 'progress': 1392, 'supposedli': 1393, 'warm': 1394, 'reflect': 1395, 'worthi': 1396, 'youth': 1397, 'latter': 1398, 'length': 1399, 'unusu': 1400, 'crash': 1401, 'childhood': 1402, 'shop': 1403, 'superior': 1404, 'seven': 1405, 'remot': 1406, 'theatr': 1407, 'paid': 1408, 'funniest': 1409, 'disgust': 1410, 'pilot': 1411, 'fell': 1412, 'trick': 1413, 'castl': 1414, 'convers': 1415, 'establish': 1416, 'rob': 1417, 'gangster': 1418, 'disast': 1419, 'heaven': 1420, 'disappear': 1421, 'mine': 1422, 'suicid': 1423, 'ident': 1424, 'tend': 1425, 'decis': 1426, 'heroin': 1427, 'forgotten': 1428, 'singer': 1429, 'mask': 1430, 'brian': 1431, 'partner': 1432, 'recogn': 1433, 'desert': 1434, 'alan': 1435, 'thoroughli': 1436, 'sky': 1437, 'stuck': 1438, 'ms': 1439, 'p': 1440, 'accur': 1441, 'replac': 1442, 'market': 1443, 'commentari': 1444, 'eddi': 1445, 'seemingli': 1446, 'danni': 1447, 'andi': 1448, 'uncl': 1449, 'clue': 1450, 'jackson': 1451, 'devil': 1452, 'pair': 1453, 'refus': 1454, 'that': 1455, 'therefor': 1456, 'accid': 1457, 'river': 1458, 'ed': 1459, 'fate': 1460, 'fault': 1461, 'unit': 1462, 'afraid': 1463, 'tune': 1464, 'hidden': 1465, 'stephen': 1466, 'russian': 1467, 'clean': 1468, 'convey': 1469, 'quick': 1470, 'test': 1471, 'irrit': 1472, 'captain': 1473, 'instanc': 1474, 'readi': 1475, 'european': 1476, 'insan': 1477, 'daniel': 1478, 'frustrat': 1479, 'food': 1480, '1950': 1481, 'wed': 1482, 'chines': 1483, 'rescu': 1484, 'angri': 1485, 'lock': 1486, 'dirti': 1487, 'joy': 1488, 'steven': 1489, 'price': 1490, 'cage': 1491, 'bland': 1492, 'anymor': 1493, 'rang': 1494, 'wooden': 1495, 'n': 1496, 'rush': 1497, 'jason': 1498, 'news': 1499, 'board': 1500, '12': 1501, 'worri': 1502, 'led': 1503, 'twenti': 1504, 'martial': 1505, 'hunter': 1506, 'transform': 1507, 'symbol': 1508, 'cgi': 1509, 'onto': 1510, 'johnni': 1511, 'sentiment': 1512, 'invent': 1513, 'x': 1514, 'piti': 1515, 'explan': 1516, 'attitud': 1517, 'process': 1518, 'owner': 1519, 'awar': 1520, 'aim': 1521, 'floor': 1522, 'necessari': 1523, 'energi': 1524, 'target': 1525, 'favor': 1526, 'religi': 1527, 'opposit': 1528, 'chick': 1529, 'blind': 1530, 'window': 1531, 'insight': 1532, 'movement': 1533, 'mountain': 1534, 'deepli': 1535, 'research': 1536, 'comparison': 1537, 'possess': 1538, 'rain': 1539, 'grand': 1540, 'comed': 1541, 'whatsoev': 1542, 'shadow': 1543, 'mid': 1544, 'began': 1545, 'bank': 1546, 'princ': 1547, 'parodi': 1548, 'pre': 1549, 'taylor': 1550, 'credibl': 1551, 'friendship': 1552, 'weapon': 1553, 'teach': 1554, 'dougla': 1555, 'flesh': 1556, 'terror': 1557, 'protect': 1558, 'hint': 1559, 'bloodi': 1560, 'marvel': 1561, 'leader': 1562, 'accord': 1563, 'watchabl': 1564, 'load': 1565, 'drunk': 1566, 'superman': 1567, 'anybodi': 1568, 'brown': 1569, 'freddi': 1570, 'seat': 1571, 'tim': 1572, 'hitler': 1573, 'appropri': 1574, 'jeff': 1575, 'unknown': 1576, 'charg': 1577, 'villag': 1578, 'knock': 1579, 'keaton': 1580, 'enemi': 1581, 'empti': 1582, 'unnecessari': 1583, 'media': 1584, 'england': 1585, 'utter': 1586, 'craft': 1587, 'strength': 1588, 'buck': 1589, 'dare': 1590, 'wave': 1591, 'perspect': 1592, 'kiss': 1593, 'correct': 1594, 'nativ': 1595, 'ford': 1596, 'contrast': 1597, 'knowledg': 1598, 'chill': 1599, 'soap': 1600, 'distract': 1601, 'anywher': 1602, 'magnific': 1603, 'nazi': 1604, 'speed': 1605, 'breath': 1606, 'ice': 1607, 'fred': 1608, 'mission': 1609, '1980': 1610, 'jr': 1611, 'crowd': 1612, 'joan': 1613, 'moon': 1614, 'frighten': 1615, 'kate': 1616, 'soft': 1617, '000': 1618, 'hundr': 1619, 'nick': 1620, 'dan': 1621, 'dick': 1622, 'simon': 1623, 'radio': 1624, 'somebodi': 1625, 'dozen': 1626, 'academi': 1627, 'loss': 1628, 'andrew': 1629, 'thousand': 1630, 'shakespear': 1631, 'account': 1632, 'vehicl': 1633, 'root': 1634, 'sum': 1635, 'quot': 1636, '1970': 1637, 'convent': 1638, 'leg': 1639, 'behavior': 1640, 'gold': 1641, 'regular': 1642, 'compet': 1643, 'worker': 1644, 'demand': 1645, 'pretenti': 1646, 'explos': 1647, 'interpret': 1648, 'privat': 1649, 'stretch': 1650, 'japan': 1651, 'notabl': 1652, 'lynch': 1653, 'candi': 1654, 'constant': 1655, 'debut': 1656, 'tarzan': 1657, 'spi': 1658, 'sea': 1659, 'translat': 1660, 'prais': 1661, 'revolv': 1662, 'ass': 1663, 'franc': 1664, 'threaten': 1665, 'failur': 1666, 'sat': 1667, 'jesu': 1668, 'technolog': 1669, 'quiet': 1670, 'met': 1671, 'kevin': 1672, 'higher': 1673, 'punch': 1674, 'aid': 1675, 'toy': 1676, 'abandon': 1677, 'interact': 1678, 'vh': 1679, 'mike': 1680, 'confront': 1681, 'separ': 1682, 'command': 1683, 'bet': 1684, 'recal': 1685, 'techniqu': 1686, 'site': 1687, 'belong': 1688, 'gotten': 1689, 'stunt': 1690, 'servic': 1691, 'freak': 1692, 'cabl': 1693, 'foot': 1694, 'bug': 1695, 'capabl': 1696, 'jimmi': 1697, 'african': 1698, 'fu': 1699, 'bright': 1700, 'fat': 1701, 'stock': 1702, 'succeed': 1703, 'clark': 1704, 'presid': 1705, 'boat': 1706, 'structur': 1707, 'gene': 1708, 'spanish': 1709, 'kidnap': 1710, 'paper': 1711, 'whilst': 1712, 'factor': 1713, 'belief': 1714, 'bob': 1715, 'realis': 1716, 'complic': 1717, 'realism': 1718, 'educ': 1719, 'tree': 1720, 'attend': 1721, 'witti': 1722, 'assist': 1723, 'broken': 1724, 'finest': 1725, 'santa': 1726, 'smoke': 1727, 'up': 1728, 'observ': 1729, 'depart': 1730, 'determin': 1731, 'v': 1732, 'lewi': 1733, 'domin': 1734, 'fame': 1735, 'oper': 1736, 'routin': 1737, 'hat': 1738, 'rubbish': 1739, 'foreign': 1740, 'hook': 1741, 'advanc': 1742, 'lone': 1743, 'morgan': 1744, 'kinda': 1745, 'safe': 1746, 'rank': 1747, 'numer': 1748, 'shape': 1749, 'shallow': 1750, 'washington': 1751, 'civil': 1752, 'vs': 1753, 'werewolf': 1754, 'rose': 1755, 'morn': 1756, 'gari': 1757, 'accomplish': 1758, 'kong': 1759, 'winner': 1760, 'ordinari': 1761, 'grab': 1762, 'whenev': 1763, 'virtual': 1764, 'peac': 1765, 'luck': 1766, 'h': 1767, 'offens': 1768, 'complain': 1769, 'patient': 1770, 'bigger': 1771, 'activ': 1772, 'contriv': 1773, 'unfunni': 1774, 'welcom': 1775, 'trek': 1776, 'con': 1777, 'pretend': 1778, 'dimension': 1779, 'eric': 1780, 'lesbian': 1781, 'code': 1782, 'wake': 1783, 'cain': 1784, 'dri': 1785, 'flash': 1786, 'guard': 1787, 'dancer': 1788, 'statu': 1789, 'manipul': 1790, 'albert': 1791, 'corrupt': 1792, 'sourc': 1793, 'signific': 1794, 'awkward': 1795, 'gain': 1796, 'speech': 1797, 'context': 1798, '13': 1799, 'clip': 1800, 'anthoni': 1801, 'psycho': 1802, 'sean': 1803, 'corni': 1804, 'religion': 1805, 'theatric': 1806, 'priest': 1807, 'w': 1808, 'advic': 1809, 'curiou': 1810, 'reli': 1811, 'flow': 1812, 'addict': 1813, 'secur': 1814, 'howard': 1815, 'specif': 1816, 'jennif': 1817, 'skin': 1818, 'asian': 1819, 'comfort': 1820, 'promot': 1821, 'core': 1822, 'golden': 1823, 'organ': 1824, 'luke': 1825, 'cheat': 1826, 'cash': 1827, 'lucki': 1828, 'dislik': 1829, 'lower': 1830, 'associ': 1831, 'devic': 1832, 'spell': 1833, 'frankli': 1834, 'contribut': 1835, 'frequent': 1836, 'degre': 1837, 'regret': 1838, 'wing': 1839, 'balanc': 1840, 'sake': 1841, 'print': 1842, 'forgiv': 1843, 'lake': 1844, 'betti': 1845, 'thoma': 1846, 'mass': 1847, 'unexpect': 1848, 'crack': 1849, 'gordon': 1850, 'amateur': 1851, 'depend': 1852, 'construct': 1853, 'grown': 1854, 'unfold': 1855, 'invit': 1856, 'categori': 1857, 'intellectu': 1858, 'matur': 1859, 'grew': 1860, 'condit': 1861, 'walter': 1862, 'honor': 1863, 'anna': 1864, 'veteran': 1865, 'sole': 1866, 'spectacular': 1867, 'mirror': 1868, 'sudden': 1869, 'experienc': 1870, 'grip': 1871, 'gift': 1872, 'card': 1873, 'meanwhil': 1874, 'freedom': 1875, 'demonstr': 1876, 'overli': 1877, 'liner': 1878, 'robin': 1879, 'drew': 1880, 'crappi': 1881, 'subtitl': 1882, 'circumst': 1883, 'theori': 1884, 'unabl': 1885, 'sheriff': 1886, 'colour': 1887, 'brilliantli': 1888, 'oliv': 1889, 'section': 1890, 'parker': 1891, 'cook': 1892, 'path': 1893, 'pile': 1894, 'matt': 1895, 'sheer': 1896, 'altern': 1897, 'laughter': 1898, 'hall': 1899, 'defin': 1900, 'lawyer': 1901, 'wander': 1902, 'accident': 1903, 'relief': 1904, 'treatment': 1905, 'sinatra': 1906, 'captiv': 1907, 'dragon': 1908, 'hank': 1909, 'gratuit': 1910, 'moor': 1911, 'halloween': 1912, 'barbara': 1913, 'broadway': 1914, 'wound': 1915, 'kung': 1916, 'jacki': 1917, 'k': 1918, 'unintent': 1919, 'wayn': 1920, 'cowboy': 1921, 'canadian': 1922, 'surreal': 1923, 'winter': 1924, 'statement': 1925, 'spoof': 1926, 'treasur': 1927, 'compos': 1928, 'fish': 1929, 'gonna': 1930, 'fare': 1931, 'cheer': 1932, 'victor': 1933, 'emerg': 1934, 'unrealist': 1935, 'woodi': 1936, 'sensit': 1937, 'ran': 1938, 'driven': 1939, 'sympathet': 1940, 'neighbor': 1941, 'glass': 1942, 'expos': 1943, 'authent': 1944, 'overlook': 1945, 'topic': 1946, 'menac': 1947, 'handsom': 1948, 'gross': 1949, 'chief': 1950, 'michel': 1951, 'ancient': 1952, 'cinderella': 1953, 'network': 1954, 'feet': 1955, 'stranger': 1956, 'comedian': 1957, 'built': 1958, 'pleasant': 1959, 'nevertheless': 1960, 'contemporari': 1961, 'russel': 1962, 'earn': 1963, 'blockbust': 1964, 'miser': 1965, 'underr': 1966, 'letter': 1967, 'gori': 1968, 'consider': 1969, 'endless': 1970, 'switch': 1971, 'brook': 1972, 'solv': 1973, 'bullet': 1974, 'victoria': 1975, 'virgin': 1976, 'convict': 1977, 'edward': 1978, 'joseph': 1979, 'scenario': 1980, 'chosen': 1981, 'scale': 1982, '0': 1983, 'cynic': 1984, 'alex': 1985, 'com': 1986, 'curs': 1987, 'outrag': 1988, 'gut': 1989, 'sword': 1990, 'wrap': 1991, 'uk': 1992, 'proper': 1993, 'driver': 1994, 'screenwrit': 1995, 'monkey': 1996, 'juli': 1997, 'substanc': 1998, 'bird': 1999, 'remov': 2000, 'indic': 2001, 'par': 2002, 'court': 2003, 'naiv': 2004, 'grave': 2005, 'inevit': 2006, 'advertis': 2007, 'rental': 2008, 'consequ': 2009, 'nanci': 2010, 'roy': 2011, 'loser': 2012, 'le': 2013, 'bridg': 2014, 'germani': 2015, 'fatal': 2016, 'brave': 2017, 'slap': 2018, 'invis': 2019, 'ador': 2020, 'loui': 2021, 'anger': 2022, 'provok': 2023, 'footbal': 2024, 'alcohol': 2025, 'chan': 2026, 'anderson': 2027, 'stumbl': 2028, 'willi': 2029, 'ryan': 2030, 'professor': 2031, 'sharp': 2032, '1930': 2033, 'bat': 2034, 'assassin': 2035, 'patrick': 2036, 'australian': 2037, 'saturday': 2038, 'liber': 2039, 'cell': 2040, 'heck': 2041, 'deni': 2042, 'refresh': 2043, 'lousi': 2044, 'eight': 2045, 'trilog': 2046, 'amateurish': 2047, 'strongli': 2048, 'ape': 2049, 'sin': 2050, 'resid': 2051, 'justifi': 2052, 'vagu': 2053, 'san': 2054, 'terrifi': 2055, 'creator': 2056, 'defeat': 2057, 'mini': 2058, 'sympathi': 2059, 'reput': 2060, 'indi': 2061, 'tediou': 2062, 'endur': 2063, 'tabl': 2064, 'task': 2065, 'prevent': 2066, 'expert': 2067, 'che': 2068, 'trial': 2069, 'employ': 2070, 'imit': 2071, 'offend': 2072, 'rival': 2073, 'basebal': 2074, 'pitch': 2075, 'complaint': 2076, 'dig': 2077, 'weekend': 2078, 'fairi': 2079, 'max': 2080, 'beach': 2081, 'europ': 2082, 'murphi': 2083, 'format': 2084, 'risk': 2085, 'purchas': 2086, 'hype': 2087, 'glimps': 2088, 'tini': 2089, 'bite': 2090, 'harsh': 2091, 'reminisc': 2092, 'nois': 2093, 'titan': 2094, 'powel': 2095, 'north': 2096, '14': 2097, 'asleep': 2098, 'fals': 2099, 'till': 2100, 'prime': 2101, 'strip': 2102, 'descript': 2103, 'texa': 2104, 'revel': 2105, 'africa': 2106, 'destruct': 2107, 'sitcom': 2108, 'inner': 2109, 'semi': 2110, 'arrest': 2111, 'uninterest': 2112, 'surfac': 2113, 'spin': 2114, 'excess': 2115, 'controversi': 2116, 'maintain': 2117, 'massiv': 2118, 'hitchcock': 2119, 'dinosaur': 2120, 'makeup': 2121, 'twin': 2122, 'argu': 2123, 'reject': 2124, 'ludicr': 2125, 'stare': 2126, 'melodrama': 2127, 'insist': 2128, 'kim': 2129, 'expens': 2130, 'ideal': 2131, 'atroci': 2132, 'ala': 2133, 'host': 2134, 'supernatur': 2135, 'erot': 2136, 'columbo': 2137, 'press': 2138, 'subplot': 2139, 'nail': 2140, 'forest': 2141, 'ga': 2142, 'dude': 2143, 'identifi': 2144, 'notch': 2145, 'cant': 2146, 'presum': 2147, 'method': 2148, 'closer': 2149, 'character': 2150, 'forgett': 2151, 'crude': 2152, 'plagu': 2153, 'guest': 2154, 'beast': 2155, 'foster': 2156, 'ear': 2157, 'lion': 2158, 'border': 2159, 'landscap': 2160, 'princess': 2161, 'pacino': 2162, 'storytel': 2163, 'jungl': 2164, 'damag': 2165, 'aunt': 2166, 'birth': 2167, 'previous': 2168, 'accus': 2169, 'bound': 2170, 'urban': 2171, 'doll': 2172, 'chose': 2173, 'propaganda': 2174, 'nude': 2175, 'guid': 2176, 'jess': 2177, 'emma': 2178, 'thirti': 2179, '25': 2180, 'pet': 2181, 'mainstream': 2182, 'whoever': 2183, 'warrior': 2184, 'mate': 2185, 'upset': 2186, 'deadli': 2187, 'merit': 2188, 'gritti': 2189, 'cooper': 2190, 'exact': 2191, 'poster': 2192, 'friday': 2193, 'size': 2194, 'latest': 2195, 'sun': 2196, 'buff': 2197, 'warner': 2198, 'blend': 2199, 'contact': 2200, 'ton': 2201, 'citizen': 2202, 'rough': 2203, 'corps': 2204, 'popul': 2205, 'settl': 2206, '1990': 2207, 'contest': 2208, 'wilson': 2209, 'environ': 2210, 'select': 2211, 'metal': 2212, 'mgm': 2213, 'pitt': 2214, 'overcom': 2215, 'rat': 2216, 'alic': 2217, 'widow': 2218, 'bu': 2219, 'guilti': 2220, 'ted': 2221, 'lift': 2222, 'particip': 2223, 'revolut': 2224, 'link': 2225, 'exagger': 2226, '1960': 2227, 'matrix': 2228, 'prostitut': 2229, 'johnson': 2230, 'corpor': 2231, 'accompani': 2232, 'afternoon': 2233, 'moron': 2234, 'corner': 2235, 'clair': 2236, 'holm': 2237, 'multipl': 2238, 'doom': 2239, 'leagu': 2240, 'sincer': 2241, 'friendli': 2242, 'instal': 2243, 'hood': 2244, 'advis': 2245, 'junk': 2246, 'examin': 2247, 'irish': 2248, 'defend': 2249, 'grim': 2250, 'lugosi': 2251, 'aka': 2252, 'hip': 2253, 'string': 2254, 'sunday': 2255, 'blah': 2256, 'campi': 2257, 'rachel': 2258, 'icon': 2259, 'pro': 2260, 'varieti': 2261, 'shut': 2262, 'shake': 2263, 'confid': 2264, 'tight': 2265, 'denni': 2266, 'directli': 2267, 'jaw': 2268, 'medic': 2269, 'sullivan': 2270, 'goal': 2271, 'mexican': 2272, 'attach': 2273, 'legendari': 2274, 'truck': 2275, 'terrorist': 2276, 'bourn': 2277, 'courag': 2278, 'sentenc': 2279, 'duke': 2280, 'sarah': 2281, 'breast': 2282, 'vietnam': 2283, 'prior': 2284, 'dean': 2285, 'proceed': 2286, 'entri': 2287, 'hong': 2288, 'behav': 2289, 'nose': 2290, 'un': 2291, 'donald': 2292, 'split': 2293, 'yell': 2294, 'everywher': 2295, 'lifetim': 2296, 'buri': 2297, 'jerk': 2298, 'swim': 2299, 'borrow': 2300, 'forth': 2301, 'confess': 2302, 'unconvinc': 2303, 'gather': 2304, 'stolen': 2305, 'concentr': 2306, 'crush': 2307, 'deliveri': 2308, 'lip': 2309, 'spite': 2310, 'pan': 2311, 'california': 2312, 'turkey': 2313, 'julia': 2314, 'reward': 2315, 'downright': 2316, 'china': 2317, 'offici': 2318, 'proud': 2319, 'quest': 2320, 'flight': 2321, 'freeman': 2322, 'hoffman': 2323, 'jon': 2324, 'notori': 2325, 'lazi': 2326, 'jail': 2327, 'inept': 2328, 'sink': 2329, 'betray': 2330, 'fade': 2331, 'encourag': 2332, 'worthwhil': 2333, 'sir': 2334, 'fabul': 2335, 'shower': 2336, 'lisa': 2337, 'cousin': 2338, 'susan': 2339, 'teeth': 2340, 'bell': 2341, 'storm': 2342, 'imageri': 2343, 'relev': 2344, 'bag': 2345, 'survivor': 2346, 'retard': 2347, 'branagh': 2348, 'trade': 2349, 'shark': 2350, 'facial': 2351, 'tremend': 2352, 'stab': 2353, 'finger': 2354, 'alright': 2355, 'summari': 2356, 'toler': 2357, 'hugh': 2358, 'mexico': 2359, 'quirki': 2360, 'bride': 2361, 'pose': 2362, 'bitter': 2363, 'blown': 2364, 'hyster': 2365, 'ha': 2366, 'von': 2367, 'ned': 2368, 'bone': 2369, 'address': 2370, 'ron': 2371, 'larri': 2372, 'cruel': 2373, 'christ': 2374, 'scheme': 2375, 'afterward': 2376, 'thumb': 2377, 'screw': 2378, 'tour': 2379, 'feed': 2380, 'distinct': 2381, 'beg': 2382, 'swear': 2383, 'pursu': 2384, 'traci': 2385, 'snake': 2386, 'mechan': 2387, 'photo': 2388, 'raw': 2389, 'stomach': 2390, 'occas': 2391, 'obscur': 2392, 'chair': 2393, 'southern': 2394, 'resist': 2395, 'necessarili': 2396, 'holiday': 2397, 'hardi': 2398, 'heavili': 2399, 'cabin': 2400, 'sidney': 2401, 'argument': 2402, 'gruesom': 2403, 'chain': 2404, 'render': 2405, 'understood': 2406, 'india': 2407, 'satan': 2408, 'philip': 2409, 'indulg': 2410, 'racist': 2411, 'midnight': 2412, 'stalk': 2413, 'outfit': 2414, 'pregnant': 2415, 'integr': 2416, 'fourth': 2417, 'obnoxi': 2418, 'tongu': 2419, 'forgot': 2420, 'belov': 2421, 'lay': 2422, 'deeper': 2423, 'garden': 2424, 'inhabit': 2425, '17': 2426, 'carol': 2427, 'slapstick': 2428, 'ticket': 2429, 'restor': 2430, 'magazin': 2431, 'incid': 2432, 'brad': 2433, 'devot': 2434, 'shoe': 2435, 'lincoln': 2436, 'lili': 2437, 'underground': 2438, 'benefit': 2439, 'divorc': 2440, 'anticip': 2441, 'sandler': 2442, 'disbelief': 2443, 'maria': 2444, 'elizabeth': 2445, 'guarante': 2446, 'greater': 2447, 'bbc': 2448, 'explod': 2449, 'capit': 2450, 'princip': 2451, 'creation': 2452, 'mildli': 2453, 'cring': 2454, 'slave': 2455, 'amazingli': 2456, 'lesli': 2457, 'extraordinari': 2458, 'introduct': 2459, 'funnier': 2460, 'halfway': 2461, 'advantag': 2462, 'enhanc': 2463, 'punish': 2464, 'transfer': 2465, 'text': 2466, 'wreck': 2467, 'tap': 2468, 'overwhelm': 2469, 'extent': 2470, 'jessica': 2471, 'deliber': 2472, 'lo': 2473, 'error': 2474, 'dynam': 2475, 'horrif': 2476, 'east': 2477, 'preview': 2478, 'plant': 2479, 'lane': 2480, 'miller': 2481, 'appli': 2482, '2000': 2483, 'ensu': 2484, 'homosexu': 2485, 'basi': 2486, 'vacat': 2487, 'sophist': 2488, 'miscast': 2489, 'vincent': 2490, 'uncomfort': 2491, 'spoken': 2492, 'via': 2493, 'steel': 2494, 'reed': 2495, 'extend': 2496, 'sleazi': 2497, 'bollywood': 2498, 'measur': 2499, 'elev': 2500, 'mansion': 2501, 'fix': 2502, 'mous': 2503, 'alter': 2504, 'blair': 2505, 'conceiv': 2506, 'assign': 2507, 'cathol': 2508, 'savag': 2509, 'melt': 2510, 'stanley': 2511, 'overact': 2512, 'daili': 2513, 'hippi': 2514, 'breathtak': 2515, 'goofi': 2516, 'dentist': 2517, 'beer': 2518, 'burt': 2519, 'oppos': 2520, 'everyday': 2521, 'inspector': 2522, 'properli': 2523, 'nowaday': 2524, 'carpent': 2525, 'succe': 2526, 'subsequ': 2527, 'sacrific': 2528, 'neck': 2529, 'massacr': 2530, 'circl': 2531, 'laura': 2532, 'block': 2533, 'grey': 2534, 'mob': 2535, 'access': 2536, 'christi': 2537, 'lesser': 2538, 'portrait': 2539, 'fay': 2540, 'fallen': 2541, 'concert': 2542, 'pool': 2543, 'seagal': 2544, 'competit': 2545, 'usa': 2546, 'sinist': 2547, 'jewish': 2548, 'isol': 2549, 'chees': 2550, 'react': 2551, 'jake': 2552, 'relax': 2553, 'nine': 2554, 'nonetheless': 2555, 'appal': 2556, 'chop': 2557, 'creep': 2558, 'spiritu': 2559, 'suitabl': 2560, 'lyric': 2561, 'stink': 2562, 'ironi': 2563, 'immens': 2564, '2006': 2565, 'showcas': 2566, 'nut': 2567, 'needless': 2568, 'reduc': 2569, 'luci': 2570, 'adopt': 2571, 'retir': 2572, 'franchis': 2573, 'user': 2574, 'rage': 2575, 'sold': 2576, 'shirt': 2577, 'navi': 2578, 'spring': 2579, 'jay': 2580, 'digit': 2581, 'zone': 2582, 'per': 2583, 'bulli': 2584, 'uninspir': 2585, 'asham': 2586, 'nurs': 2587, 'stanwyck': 2588, 'bath': 2589, '2001': 2590, 'broadcast': 2591, 'upper': 2592, 'laid': 2593, 'sutherland': 2594, 'amongst': 2595, '1940': 2596, 'oddli': 2597, 'illustr': 2598, 'throat': 2599, 'aspir': 2600, 'disguis': 2601, 'stylish': 2602, 'fulfil': 2603, 'baker': 2604, 'brando': 2605, 'wanna': 2606, '18': 2607, 'neighborhood': 2608, 'pride': 2609, 'em': 2610, 'thief': 2611, 'impli': 2612, 'wwii': 2613, 'endear': 2614, 'nobl': 2615, 'pound': 2616, 'albeit': 2617, 'shoulder': 2618, '16': 2619, 'tens': 2620, 'cinematograph': 2621, 'bett': 2622, 'diseas': 2623, 'prop': 2624, 'distribut': 2625, 'rochest': 2626, 'coher': 2627, 'dawn': 2628, 'dinner': 2629, 'bo': 2630, 'shift': 2631, 'silenc': 2632, 'rebel': 2633, 'knife': 2634, 'snow': 2635, 'forti': 2636, 'function': 2637, 'contract': 2638, 'matthau': 2639, 'wash': 2640, 'poignant': 2641, 'surf': 2642, 'shout': 2643, 'heat': 2644, 'chuck': 2645, 'mindless': 2646, 'horrend': 2647, 'internet': 2648, 'silver': 2649, 'proof': 2650, 'instinct': 2651, 'eeri': 2652, 'height': 2653, 'duti': 2654, 'elvira': 2655, 'cannib': 2656, 'derek': 2657, 'cancel': 2658, 'widmark': 2659, 'henc': 2660, 'reunion': 2661, 'alik': 2662, 'incoher': 2663, 'greatli': 2664, 'mill': 2665, 'glori': 2666, 'etern': 2667, 'innov': 2668, 'repetit': 2669, 'torn': 2670, 'neat': 2671, 'absorb': 2672, 'pie': 2673, 'premier': 2674, 'musician': 2675, 'spielberg': 2676, 'elvi': 2677, 'infam': 2678, 'precis': 2679, 'diamond': 2680, 'redempt': 2681, 'racism': 2682, 'wealthi': 2683, 'announc': 2684, 'nelson': 2685, 'lovabl': 2686, 'itali': 2687, 'crisi': 2688, 'britain': 2689, 'trite': 2690, 'horrifi': 2691, 'blank': 2692, 'fbi': 2693, 'homag': 2694, 'bang': 2695, 'burton': 2696, 'dedic': 2697, 'parallel': 2698, 'wilder': 2699, 'hammer': 2700, 'resolut': 2701, 'happili': 2702, 'helen': 2703, 'streisand': 2704, 'chaplin': 2705, 'ensembl': 2706, 'flop': 2707, 'pat': 2708, 'triumph': 2709, 'conclud': 2710, 'factori': 2711, 'disagre': 2712, 'oil': 2713, 'plastic': 2714, 'carter': 2715, 'cube': 2716, 'mar': 2717, 'broke': 2718, 'st': 2719, 'chuckl': 2720, 'weight': 2721, 'bush': 2722, 'rocket': 2723, 'own': 2724, 'climb': 2725, 'march': 2726, 'row': 2727, 'vega': 2728, 'fighter': 2729, 'enorm': 2730, 'dump': 2731, 'spare': 2732, 'sensibl': 2733, 'boot': 2734, 'kurt': 2735, 'thug': 2736, 'lust': 2737, 'dane': 2738, 'luca': 2739, 'wherea': 2740, 'mst3k': 2741, 'unforgett': 2742, 'meaning': 2743, 'brand': 2744, 'engin': 2745, 'butt': 2746, 'karloff': 2747, 'difficulti': 2748, 'caricatur': 2749, 'rap': 2750, 'dear': 2751, 'bobbi': 2752, 'threat': 2753, 'stress': 2754, 'arnold': 2755, 'adequ': 2756, 'fifti': 2757, 'fest': 2758, 'polish': 2759, 'arrog': 2760, 'barri': 2761, 'elabor': 2762, 'swing': 2763, 'secretari': 2764, 'ego': 2765, 'journalist': 2766, 'ralph': 2767, 'flynn': 2768, 'hamlet': 2769, 'homeless': 2770, 'tool': 2771, 'grate': 2772, 'simpson': 2773, 'spike': 2774, 'conspiraci': 2775, 'resort': 2776, 'unbear': 2777, 'induc': 2778, 'fanci': 2779, 'float': 2780, 'puppet': 2781, 'arrang': 2782, 'guilt': 2783, 'tribut': 2784, 'phillip': 2785, 'choreograph': 2786, 'boll': 2787, 'muppet': 2788, 'cruis': 2789, 'exercis': 2790, 'pig': 2791, 'basement': 2792, 'puzzl': 2793, 'babe': 2794, 'ward': 2795, 'item': 2796, 'toilet': 2797, 'document': 2798, 'slip': 2799, 'fianc': 2800, 'tower': 2801, 'korean': 2802, 'stan': 2803, 'ham': 2804, 'file': 2805, 'layer': 2806, 'medium': 2807, '24': 2808, 'editor': 2809, 'scarecrow': 2810, 'superfici': 2811, 'denzel': 2812, 'territori': 2813, 'librari': 2814, 'spark': 2815, 'glover': 2816, 'slaughter': 2817, 'transit': 2818, 'catherin': 2819, 'persona': 2820, 'larger': 2821, 'inexplic': 2822, 'assur': 2823, 'doc': 2824, 'minim': 2825, 'portion': 2826, 'orient': 2827, 'philosoph': 2828, 'pg': 2829, 'jeremi': 2830, 'jet': 2831, 'shi': 2832, 'curti': 2833, 'dorothi': 2834, 'financi': 2835, 'boredom': 2836, 'wolf': 2837, 'sneak': 2838, 'ban': 2839, 'walken': 2840, 'owe': 2841, 'cusack': 2842, 'profound': 2843, 'ambigu': 2844, 'backdrop': 2845, 'eleph': 2846, 'metaphor': 2847, 'whale': 2848, 'multi': 2849, 'hudson': 2850, '2005': 2851, 'notion': 2852, 'elsewher': 2853, 'hack': 2854, 'rave': 2855, 'stiff': 2856, 'viru': 2857, 'ultra': 2858, 'birthday': 2859, 'implaus': 2860, 'union': 2861, 'gadget': 2862, 'distanc': 2863, 'hawk': 2864, '1st': 2865, 'squar': 2866, 'newspap': 2867, 'eastwood': 2868, 'deriv': 2869, 'bibl': 2870, 'canada': 2871, 'urg': 2872, 'pad': 2873, 'poison': 2874, 'lloyd': 2875, 'eva': 2876, 'slight': 2877, 'reader': 2878, 'afford': 2879, 'disc': 2880, 'superhero': 2881, 'sadist': 2882, 'health': 2883, 'drown': 2884, 'cure': 2885, 'button': 2886, 'montag': 2887, 'charisma': 2888, 'heston': 2889, 'huh': 2890, 'skit': 2891, 'restaur': 2892, 'spread': 2893, 'essenc': 2894, 'muslim': 2895, 'dealt': 2896, 'lab': 2897, 'companion': 2898, 'peak': 2899, 'godfath': 2900, 'gradual': 2901, 'invest': 2902, 'estat': 2903, 'fetch': 2904, 'scoobi': 2905, 'maniac': 2906, 'gothic': 2907, 'servant': 2908, 'subtleti': 2909, 'countless': 2910, 'cup': 2911, 'tea': 2912, 'ritter': 2913, 'kane': 2914, 'miik': 2915, 'alli': 2916, 'charismat': 2917, 'salli': 2918, 'electr': 2919, 'heroic': 2920, 'briefli': 2921, 'elect': 2922, 'iii': 2923, 'admittedli': 2924, 'tender': 2925, 'toss': 2926, 'neil': 2927, 'nuanc': 2928, 'bud': 2929, 'reel': 2930, 'grandmoth': 2931, 'wannab': 2932, 'resourc': 2933, 'ingredi': 2934, 'cole': 2935, 'gate': 2936, 'kubrick': 2937, 'shall': 2938, 'carrey': 2939, 'stood': 2940, 'stronger': 2941, 'pauli': 2942, 'label': 2943, 'pit': 2944, 'punk': 2945, 'mild': 2946, 'poverti': 2947, 'reev': 2948, 'dawson': 2949, 'mafia': 2950, 'cox': 2951, 'updat': 2952, 'cardboard': 2953, 'tag': 2954, 'outcom': 2955, 'assault': 2956, 'ian': 2957, 'bakshi': 2958, 'useless': 2959, 'astair': 2960, 'easier': 2961, 'fond': 2962, 'burst': 2963, 'smash': 2964, 'terri': 2965, 'smooth': 2966, 'divers': 2967, 'fist': 2968, 'vari': 2969, 'increasingli': 2970, 'vulner': 2971, 'melodramat': 2972, 'coincid': 2973, 'resolv': 2974, 'sketch': 2975, 'exchang': 2976, 'qualifi': 2977, 'rex': 2978, '2002': 2979, 'samurai': 2980, 'brillianc': 2981, 'be': 2982, 'tame': 2983, 'scratch': 2984, 'suspend': 2985, 'insert': 2986, 'luckili': 2987, 'blast': 2988, 'templ': 2989, 'conveni': 2990, 'reynold': 2991, 'pin': 2992, 'ambiti': 2993, 'strictli': 2994, 'seventi': 2995, 'jami': 2996, 'soprano': 2997, 'gotta': 2998, 'meat': 2999, 'farm': 3000, 'hamilton': 3001, 'coach': 3002, 'matthew': 3003, 'nuclear': 3004, 'walker': 3005, 'fisher': 3006, 'revers': 3007, 'convolut': 3008, 'struck': 3009, 'discoveri': 3010, 'grasp': 3011, 'butcher': 3012, 'spooki': 3013, 'cave': 3014, 'instantli': 3015, 'recreat': 3016, 'closet': 3017, 'worthless': 3018, 'kudo': 3019, 'ninja': 3020, 'monk': 3021, 'clock': 3022, 'eccentr': 3023, 'joey': 3024, 'brosnan': 3025, 'timeless': 3026, 'empir': 3027, 'cliff': 3028, 'clown': 3029, 'fifteen': 3030, 'wipe': 3031, 'sidekick': 3032, 'miracl': 3033, 'eighti': 3034, 'inconsist': 3035, 'importantli': 3036, 'bleak': 3037, 'partli': 3038, 'seller': 3039, 'mitchel': 3040, 'selfish': 3041, 'communist': 3042, 'gray': 3043, 'sloppi': 3044, 'evok': 3045, 'pal': 3046, 'norman': 3047, 'declar': 3048, 'debat': 3049, 'enthusiast': 3050, 'stoog': 3051, 'destin': 3052, 'piano': 3053, '45': 3054, 'psychiatrist': 3055, 'farc': 3056, 'cheek': 3057, 'flawless': 3058, 'websit': 3059, 'aforement': 3060, 'ho': 3061, 'superbl': 3062, 'lifestyl': 3063, 'australia': 3064, 'seed': 3065, 'chew': 3066, 'wrestl': 3067, 'bash': 3068, 'directori': 3069, 'dire': 3070, 'kitchen': 3071, 'wick': 3072, 'splatter': 3073, 'anni': 3074, 'pressur': 3075, 'abc': 3076, 'slice': 3077, 'emili': 3078, 'drivel': 3079, 'dash': 3080, 'incompet': 3081, 'soviet': 3082, 'regardless': 3083, 'akshay': 3084, 'beaten': 3085, 'artifici': 3086, 'cia': 3087, 'helicopt': 3088, 'judi': 3089, 'lou': 3090, 'suppli': 3091, 'duo': 3092, 'seduc': 3093, 'distant': 3094, 'pleasantli': 3095, 'glow': 3096, 'boil': 3097, 'cameron': 3098, 'jar': 3099, 'recov': 3100, 'flower': 3101, 'prize': 3102, 'curios': 3103, 'increas': 3104, 'cagney': 3105, 'doo': 3106, 'ken': 3107, 'chapter': 3108, 'dave': 3109, 'blob': 3110, 'mann': 3111, 'turner': 3112, 'craven': 3113, 'hop': 3114, 'favour': 3115, 'splendid': 3116, 'ranger': 3117, 'eleg': 3118, 'psychot': 3119, 'combat': 3120, 'web': 3121, 'panic': 3122, 'francisco': 3123, 'drunken': 3124, 'goldberg': 3125, 'laurel': 3126, 'craig': 3127, 'glenn': 3128, 'perri': 3129, 'ellen': 3130, 'graduat': 3131, 'flip': 3132, 'wizard': 3133, 'slightest': 3134, 'shortli': 3135, '20th': 3136, 'fx': 3137, 'plausibl': 3138, 'gentl': 3139, 'alexand': 3140, 'min': 3141, 'rid': 3142, 'philosophi': 3143, 'modesti': 3144, 'falk': 3145, 'hatr': 3146, 'greek': 3147, 'gandhi': 3148, 'ruth': 3149, 'holi': 3150, 'we': 3151, 'lend': 3152, 'harm': 3153, 'unpleas': 3154, 'tall': 3155, 'ocean': 3156, 'dracula': 3157, 'manhattan': 3158, 'legal': 3159, 'felix': 3160, 'fund': 3161, 'preciou': 3162, 'futurist': 3163, 'jealou': 3164, 'knight': 3165, 'reviv': 3166, 'bless': 3167, 'mock': 3168, 'explicit': 3169, 'thread': 3170, 'forbidden': 3171, 'nod': 3172, 'tank': 3173, 'scientif': 3174, 'digniti': 3175, 'giallo': 3176, 'overdon': 3177, 'childish': 3178, 'ami': 3179, 'torment': 3180, 'thick': 3181, '99': 3182, 'repeatedli': 3183, 'elderli': 3184, 'nerv': 3185, 'margaret': 3186, 'broad': 3187, 'awe': 3188, 'mel': 3189, 'eve': 3190, 'fever': 3191, '2004': 3192, 'pirat': 3193, 'unwatch': 3194, 'verhoeven': 3195, 'awaken': 3196, 'yesterday': 3197, 'acclaim': 3198, 'politician': 3199, 'ah': 3200, 'absenc': 3201, 'rivet': 3202, 'eas': 3203, 'custom': 3204, 'kay': 3205, 'bin': 3206, 'royal': 3207, 'automat': 3208, 'timothi': 3209, 'roman': 3210, 'romero': 3211, 'lean': 3212, 'launch': 3213, 'ambit': 3214, 'publish': 3215, 'griffith': 3216, 'uniform': 3217, 'stiller': 3218, 'bathroom': 3219, 'pulp': 3220, 'phrase': 3221, 'transport': 3222, 'purpl': 3223, 'darker': 3224, 'foul': 3225, 'warren': 3226, 'gabriel': 3227, 'crook': 3228, 'tomato': 3229, 'antic': 3230, 'sunshin': 3231, 'termin': 3232, 'homicid': 3233, 'wallac': 3234, 'stinker': 3235, 'pierc': 3236, 'revolutionari': 3237, 'contrari': 3238, 'marin': 3239, 'rambo': 3240, 'ought': 3241, 'album': 3242, '2003': 3243, 'pray': 3244, 'evolv': 3245, 'eyr': 3246, 'saint': 3247, 'li': 3248, 'viciou': 3249, 'horrid': 3250, 'awak': 3251, 'sixti': 3252, 'brazil': 3253, 'prom': 3254, 'donna': 3255, 'karen': 3256, 'juvenil': 3257, 'q': 3258, 'packag': 3259, 'choreographi': 3260, 'kenneth': 3261, 'coloni': 3262, 'hollow': 3263, 'beatti': 3264, 'twelv': 3265, 'defi': 3266, 'option': 3267, 'candid': 3268, 'mildr': 3269, 'ireland': 3270, 'dose': 3271, 'kapoor': 3272, 'overr': 3273, 'boast': 3274, 'nerd': 3275, 'ramon': 3276, 'blade': 3277, 'mummi': 3278, 'stole': 3279, 'conserv': 3280, 'jazz': 3281, 'confirm': 3282, 'kirk': 3283, 'astonish': 3284, 'global': 3285, 'protest': 3286, 'trio': 3287, 'collabor': 3288, 'funer': 3289, 'natali': 3290, 'fulci': 3291, 'flame': 3292, 'altman': 3293, 'detract': 3294, 'nicholson': 3295, 'leap': 3296, 'shade': 3297, 'mystic': 3298, 'whip': 3299, 'enterpris': 3300, 'racial': 3301, 'destini': 3302, 'delici': 3303, 'spit': 3304, 'bottl': 3305, 'audio': 3306, 'blake': 3307, 'tommi': 3308, 'bull': 3309, 'yellow': 3310, 'harder': 3311, 'altogeth': 3312, 'neo': 3313, 'bedroom': 3314, 'pseudo': 3315, 'threw': 3316, 'adolesc': 3317, 'merci': 3318, 'vivid': 3319, 'visibl': 3320, 'popcorn': 3321, 'fonda': 3322, 'inherit': 3323, 'enchant': 3324, 'swedish': 3325, 'todd': 3326, 'meaningless': 3327, 'reunit': 3328, 'staff': 3329, 'voight': 3330, 'reserv': 3331, 'exhibit': 3332, 'moodi': 3333, 'jew': 3334, 'await': 3335, 'lawrenc': 3336, 'befriend': 3337, 'tip': 3338, 'roommat': 3339, 'lemmon': 3340, 'suspici': 3341, 'fanat': 3342, 'kennedi': 3343, 'respond': 3344, 'leonard': 3345, 'uneven': 3346, 'madonna': 3347, 'edi': 3348, 'decor': 3349, 'synopsi': 3350, 'atlanti': 3351, 'crocodil': 3352, 'ruthless': 3353, 'wire': 3354, 'bust': 3355, 'abysm': 3356, 'audit': 3357, 'dimens': 3358, 'holli': 3359, 'centr': 3360, '2007': 3361, 'clint': 3362, 'bargain': 3363, 'incident': 3364, 'palma': 3365, 'rural': 3366, 'garner': 3367, 'chao': 3368, 'voyag': 3369, 'bold': 3370, 'bradi': 3371, 'carl': 3372, 'clumsi': 3373, 'ventur': 3374, 'unsettl': 3375, 'cd': 3376, '2nd': 3377, 'cuba': 3378, 'versu': 3379, 'wealth': 3380, 'imperson': 3381, 'characterist': 3382, 'daddi': 3383, 'elimin': 3384, 'tiger': 3385, 'trail': 3386, 'immigr': 3387, 'nearbi': 3388, 'humili': 3389, 'timon': 3390, 'acknowledg': 3391, 'mall': 3392, 'lit': 3393, 'neglect': 3394, 'hart': 3395, 'troop': 3396, 'ant': 3397, 'cari': 3398, 'poetic': 3399, 'echo': 3400, 'mistaken': 3401, 'pun': 3402, 'saga': 3403, 'solo': 3404, 'domest': 3405, 'prejudic': 3406, 'mickey': 3407, 'celluloid': 3408, 'infect': 3409, 'collaps': 3410, 'paus': 3411, 'repuls': 3412, 'marshal': 3413, 'homer': 3414, 'jeffrey': 3415, 'undoubtedli': 3416, 'equip': 3417, 'promin': 3418, 'inappropri': 3419, 'leon': 3420, 'ginger': 3421, 'cake': 3422, 'assembl': 3423, 'tribe': 3424, 'interrupt': 3425, 'apolog': 3426, 'inan': 3427, 'coffe': 3428, 'pant': 3429, 'hbo': 3430, 'olivi': 3431, 'harvey': 3432, 'chest': 3433, 'milk': 3434, 'coat': 3435, '1996': 3436, 'gear': 3437, 'sore': 3438, 'pot': 3439, 'vulgar': 3440, 'highest': 3441, 'jenni': 3442, 'consum': 3443, 'retain': 3444, 'devast': 3445, 'solut': 3446, 'trace': 3447, 'primari': 3448, 'furthermor': 3449, 'embrac': 3450, 'colleagu': 3451, 'brooklyn': 3452, 'aveng': 3453, 'florida': 3454, 'humbl': 3455, 'exot': 3456, 'institut': 3457, 'colonel': 3458, 'maggi': 3459, 'polanski': 3460, 'airplan': 3461, 'instant': 3462, 'pen': 3463, 'rick': 3464, 'linda': 3465, '3rd': 3466, 'strain': 3467, 'sale': 3468, 'wive': 3469, 'descend': 3470, 'smaller': 3471, 'illog': 3472, 'gender': 3473, 'principl': 3474, 'outer': 3475, 'cope': 3476, 'bowl': 3477, 'ya': 3478, '1999': 3479, 'poke': 3480, 'disabl': 3481, 'dian': 3482, 'godzilla': 3483, 'dutch': 3484, 'seduct': 3485, 'scope': 3486, 'glamor': 3487, 'beneath': 3488, 'devoid': 3489, 'blatant': 3490, 'secondli': 3491, 'dud': 3492, 'rabbit': 3493, 'primarili': 3494, 'vast': 3495, 'mixtur': 3496, 'gloriou': 3497, 'predecessor': 3498, 'bubbl': 3499, 'hal': 3500, 'gundam': 3501, 'dive': 3502, 'inferior': 3503, 'yard': 3504, 'cue': 3505, 'lol': 3506, 'museum': 3507, 'domino': 3508, 'grinch': 3509, 'disjoint': 3510, 'alfr': 3511, 'z': 3512, 'breed': 3513, 'et': 3514, 'arab': 3515, 'talki': 3516, 'april': 3517, 'trademark': 3518, 'countrysid': 3519, 'myer': 3520, 'senseless': 3521, 'alert': 3522, 'shirley': 3523, 'streep': 3524, 'casual': 3525, 'hideou': 3526, 'simplist': 3527, 'invas': 3528, 'shelf': 3529, 'garbo': 3530, 'pearl': 3531, 'aggress': 3532, 'mayor': 3533, 'stellar': 3534, 'uwe': 3535, 'slide': 3536, 'stack': 3537, 'hardcor': 3538, 'obtain': 3539, 'loyal': 3540, 'illeg': 3541, 'mail': 3542, 'stir': 3543, 'applaud': 3544, 'disgrac': 3545, 'robberi': 3546, 'boom': 3547, 'khan': 3548, 'robinson': 3549, 'oz': 3550, 'vanish': 3551, 'rendit': 3552, 'acid': 3553, 'maci': 3554, 'unhappi': 3555, 'hopeless': 3556, 'sh': 3557, 'defens': 3558, 'experiment': 3559, 'rifl': 3560, 'craze': 3561, 'tenant': 3562, 'emphasi': 3563, 'spider': 3564, 'amanda': 3565, 'counter': 3566, 'berlin': 3567, 'span': 3568, 'grandfath': 3569, 'incomprehens': 3570, 'dismiss': 3571, 'dicken': 3572, 'tempt': 3573, 'declin': 3574, 'blew': 3575, 'topless': 3576, 'psychic': 3577, 'recruit': 3578, 'wont': 3579, 'diana': 3580, 'hartley': 3581, 'fri': 3582, 'soccer': 3583, 'scroog': 3584, 'justin': 3585, 'ration': 3586, 'intim': 3587, 'sympath': 3588, 'resurrect': 3589, 'goer': 3590, 'revolt': 3591, 'bitch': 3592, 'woo': 3593, 'sibl': 3594, 'wet': 3595, 'parad': 3596, 'niro': 3597, 'faster': 3598, 'riot': 3599, 'shed': 3600, 'shaw': 3601, 'lumet': 3602, 'porno': 3603, 'ethnic': 3604, 'trashi': 3605, 'hopper': 3606, 'biographi': 3607, 'choru': 3608, 'mario': 3609, 'unreal': 3610, 'wheel': 3611, 'region': 3612, 'jonathan': 3613, 'feminist': 3614, 'nephew': 3615, 'rider': 3616, 'eager': 3617, 'ballet': 3618, 'immort': 3619, 'dealer': 3620, 'slick': 3621, 'partial': 3622, 'commend': 3623, 'hesit': 3624, 'enlighten': 3625, 'worm': 3626, 'ensur': 3627, 'weakest': 3628, 'steam': 3629, 'andr': 3630, '00': 3631, 'patriot': 3632, 'farmer': 3633, 'gap': 3634, 'wendi': 3635, 'honesti': 3636, 'lena': 3637, 'composit': 3638, 'sandra': 3639, 'kingdom': 3640, 'victori': 3641, 'snap': 3642, 'mutant': 3643, 'morri': 3644, 'confin': 3645, 'blunt': 3646, 'nostalg': 3647, 'psychopath': 3648, 'vice': 3649, 'properti': 3650, 'franco': 3651, 'prequel': 3652, 'sappi': 3653, 'charlott': 3654, 'util': 3655, 'skull': 3656, 'hung': 3657, 'repress': 3658, 'macarthur': 3659, 'safeti': 3660, 'leo': 3661, 'owen': 3662, 'wore': 3663, 'similarli': 3664, 'hyde': 3665, 'bow': 3666, 'drum': 3667, 'snl': 3668, 'tail': 3669, 'rope': 3670, 'heartbreak': 3671, 'deed': 3672, 'acquir': 3673, 'dalton': 3674, 'rambl': 3675, 'farrel': 3676, 'exit': 3677, 'valuabl': 3678, 'pattern': 3679, 'miseri': 3680, 'compens': 3681, 'kyle': 3682, 'drain': 3683, 'bergman': 3684, 'rocki': 3685, 'nervou': 3686, 'compass': 3687, 'latin': 3688, 'despair': 3689, 'repli': 3690, 'bumbl': 3691, 'tad': 3692, 'del': 3693, 'dust': 3694, 'montana': 3695, 'thru': 3696, 'bonu': 3697, 'recycl': 3698, 'campbel': 3699, 'cg': 3700, 'whoopi': 3701, '1972': 3702, 'emperor': 3703, 'strand': 3704, 'speci': 3705, 'da': 3706, 'rapist': 3707, 'airport': 3708, 'wacki': 3709, 'downhil': 3710, 'slug': 3711, 'chess': 3712, 'gimmick': 3713, 'radic': 3714, 'pour': 3715, '35': 3716, 'percept': 3717, 'rotten': 3718, 'gal': 3719, 'oppress': 3720, 'romp': 3721, 'contempl': 3722, 'carradin': 3723, 'roth': 3724, 'mistress': 3725, 'bleed': 3726, 'martian': 3727, 'tonight': 3728, 'orson': 3729, 'olli': 3730, 'heal': 3731, 'preach': 3732, 'taught': 3733, 'stilt': 3734, 'champion': 3735, '1983': 3736, 'tackl': 3737, 'edgar': 3738, 'unpredict': 3739, 'attorney': 3740, 'pervert': 3741, 'shelley': 3742, 'dazzl': 3743, 'programm': 3744, 'arguabl': 3745, 'melodi': 3746, 'belt': 3747, 'banal': 3748, 'slash': 3749, 'pervers': 3750, 'tooth': 3751, 'arc': 3752, 'mislead': 3753, 'pursuit': 3754, 'paltrow': 3755, 'plight': 3756, 'vengeanc': 3757, 'raymond': 3758, 'duval': 3759, 'cleverli': 3760, 'tiresom': 3761, 'franki': 3762, 'uplift': 3763, 'conneri': 3764, 'closest': 3765, 'vocal': 3766, 'employe': 3767, 'maid': 3768, 'virginia': 3769, 'gambl': 3770, 'rubi': 3771, 'mesmer': 3772, 'chicken': 3773, 'poem': 3774, 'passeng': 3775, 'sensat': 3776, 'graham': 3777, 'orang': 3778, 'bela': 3779, 'marti': 3780, 'dixon': 3781, 'whine': 3782, 'quarter': 3783, 'convincingli': 3784, 'swallow': 3785, 'profan': 3786, 'secretli': 3787, 'tube': 3788, 'monologu': 3789, 'yawn': 3790, 'mute': 3791, 'climact': 3792, 'bay': 3793, 'engross': 3794, 'pokemon': 3795, 'iran': 3796, 'calm': 3797, 'amitabh': 3798, 'habit': 3799, 'numb': 3800, 'paranoia': 3801, 'volum': 3802, 'inject': 3803, 'scottish': 3804, 'lundgren': 3805, 'extens': 3806, 'outing': 3807, 'crystal': 3808, 'suffic': 3809, '1968': 3810, 'abraham': 3811, 'gerard': 3812, 'clone': 3813, 'giggl': 3814, 'sirk': 3815, 'nichola': 3816, 'spock': 3817, 'trend': 3818, 'abort': 3819, 'plod': 3820, 'frankenstein': 3821, 'fed': 3822, 'lowest': 3823, 'linger': 3824, 'underst': 3825, 'bend': 3826, 'poetri': 3827, 'dispos': 3828, 'expand': 3829, 'surpass': 3830, 'grotesqu': 3831, 'austen': 3832, 'im': 3833, 'chicago': 3834, 'earl': 3835, 'richardson': 3836, 'junior': 3837, 'septemb': 3838, 'backward': 3839, 'taxi': 3840, 'profess': 3841, 'ethan': 3842, 'franci': 3843, 'meander': 3844, 'compliment': 3845, 'literatur': 3846, 'eugen': 3847, 'waitress': 3848, 'descent': 3849, 'lure': 3850, 'econom': 3851, 'dysfunct': 3852, 'der': 3853, 'myth': 3854, 'catchi': 3855, 'greedi': 3856, 'muddl': 3857, 'tourist': 3858, 'mundan': 3859, 'nostalgia': 3860, 'instrument': 3861, 'stallon': 3862, 'rubber': 3863, 'rant': 3864, 'spoke': 3865, 'sue': 3866, 'simplic': 3867, 'cannon': 3868, 'household': 3869, 'hum': 3870, 'lang': 3871, 'hello': 3872, 'phantom': 3873, 'june': 3874, 'stale': 3875, 'occupi': 3876, 'louis': 3877, 'mortal': 3878, 'flee': 3879, 'furi': 3880, 'damon': 3881, 'firstli': 3882, 'recognis': 3883, 'eaten': 3884, 'equival': 3885, 'dement': 3886, 'irrelev': 3887, 'insur': 3888, 'phoni': 3889, 'crucial': 3890, 'coast': 3891, 'deaf': 3892, 'sissi': 3893, 'cent': 3894, 'map': 3895, 'carel': 3896, 'omen': 3897, 'dictat': 3898, 'mankind': 3899, 'recognit': 3900, 'alongsid': 3901, 'molli': 3902, 'duck': 3903, 'randi': 3904, 'bacal': 3905, 'rude': 3906, 'newli': 3907, 'antwon': 3908, 'loyalti': 3909, 'drake': 3910, 'likewis': 3911, 'rooney': 3912, '1973': 3913, 'freez': 3914, 'damm': 3915, 'blackmail': 3916, 'distinguish': 3917, 'wisdom': 3918, 'labor': 3919, 'ashley': 3920, 'dreari': 3921, 'heel': 3922, 'bump': 3923, 'lengthi': 3924, 'twilight': 3925, 'bike': 3926, 'buffalo': 3927, 'onlin': 3928, 'daisi': 3929, 'biko': 3930, 'reign': 3931, 'grayson': 3932, 'cyborg': 3933, 'exposur': 3934, 'boxer': 3935, 'emphas': 3936, 'ridden': 3937, 'analysi': 3938, 'pink': 3939, 'barrymor': 3940, 'proce': 3941, 'prey': 3942, 'provoc': 3943, 'butler': 3944, 'chronicl': 3945, 'approv': 3946, 'startl': 3947, 'nineti': 3948, 'worn': 3949, 'attribut': 3950, 'sailor': 3951, 'inher': 3952, 'unorigin': 3953, 'incorpor': 3954, 'baddi': 3955, 'vein': 3956, 'basketbal': 3957, 'tunnel': 3958, 'interior': 3959, 'keith': 3960, 'walsh': 3961, 'condemn': 3962, 'millionair': 3963, 'improvis': 3964, 'undeni': 3965, 'simmon': 3966, 'predat': 3967, 'mighti': 3968, 'meyer': 3969, 'meg': 3970, 'underli': 3971, 'substitut': 3972, 'unrel': 3973, 'belushi': 3974, 'degrad': 3975, 'fleet': 3976, 'er': 3977, 'drift': 3978, 'indiffer': 3979, 'hypnot': 3980, 'elm': 3981, 'othello': 3982, 'bunni': 3983, 'nicol': 3984, 'julian': 3985, 'barrel': 3986, 'mormon': 3987, 'robbin': 3988, 'carla': 3989, 'stalker': 3990, 'edgi': 3991, 'greed': 3992, '3d': 3993, 'agenda': 3994, 'errol': 3995, 'firm': 3996, 'palac': 3997, 'novak': 3998, 'mtv': 3999, 'priceless': 4000, 'warmth': 4001, 'rukh': 4002, 'roof': 4003, 'disord': 4004, 'exquisit': 4005, 'nyc': 4006, 'shove': 4007, 'watson': 4008, 'hay': 4009, 'marion': 4010, 'dolph': 4011, 'lampoon': 4012, 'alarm': 4013, 'vital': 4014, 'reid': 4015, 'unawar': 4016, 'enthusiasm': 4017, 'alison': 4018, 'session': 4019, 'iraq': 4020, 'israel': 4021, 'peck': 4022, 'glanc': 4023, 'preserv': 4024, 'testament': 4025, 'profit': 4026, 'coup': 4027, 'what': 4028, '1933': 4029, 'championship': 4030, '13th': 4031, 'campaign': 4032, 'distort': 4033, 'eastern': 4034, 'zizek': 4035, 'sergeant': 4036, 'peril': 4037, 'orlean': 4038, 'cassidi': 4039, 'ponder': 4040, 'crown': 4041, 'nun': 4042, 'gestur': 4043, 'pamela': 4044, 'spain': 4045, 'drip': 4046, 'simultan': 4047, 'minimum': 4048, 'showdown': 4049, 'randomli': 4050, 'thompson': 4051, 'beatl': 4052, 'petti': 4053, 'angela': 4054, 'unleash': 4055, 'valentin': 4056, 'reson': 4057, 'wig': 4058, 'perpetu': 4059, 'climat': 4060, 'cream': 4061, 'exposit': 4062, 'bro': 4063, 'gentleman': 4064, 'stake': 4065, 'travesti': 4066, 'unimagin': 4067, 'represent': 4068, 'crawl': 4069, 'rout': 4070, 'calib': 4071, 'contradict': 4072, 'brenda': 4073, 'mon': 4074, 'din': 4075, 'regist': 4076, 'han': 4077, 'quinn': 4078, 'scotland': 4079, 'restrain': 4080, 'cooki': 4081, 'jan': 4082, 'buster': 4083, 'valley': 4084, 'shootout': 4085, 'sabrina': 4086, 'crow': 4087, 'stroke': 4088, 'realm': 4089, 'kurosawa': 4090, 'miyazaki': 4091, 'empathi': 4092, '1984': 4093, 'fido': 4094, 'unsatisfi': 4095, 'censor': 4096, 'distress': 4097, 'josh': 4098, 'absent': 4099, 'femm': 4100, 'cloud': 4101, 'soderbergh': 4102, 'compromis': 4103, 'pole': 4104, 'passabl': 4105, 'painter': 4106, 'demis': 4107, 'shaki': 4108, 'sammi': 4109, 'mclaglen': 4110, 'abomin': 4111, 'monoton': 4112, 'businessman': 4113, 'dana': 4114, 'stargat': 4115, 'fuller': 4116, 'pretens': 4117, 'crawford': 4118, 'delic': 4119, 'warrant': 4120, 'sucker': 4121, 'wax': 4122, 'traumat': 4123, 'shoddi': 4124, 'ross': 4125, '1987': 4126, 'unseen': 4127, 'meryl': 4128, '1997': 4129, 'greg': 4130, 'ustinov': 4131, 'perceiv': 4132, 'geek': 4133, 'tacki': 4134, 'derang': 4135, 'spacey': 4136, 'baldwin': 4137, 'darren': 4138, 'austin': 4139, 'reluct': 4140, 'clash': 4141, 'fog': 4142, 'nathan': 4143, 'deceas': 4144, 'furiou': 4145, 'seal': 4146, 'dee': 4147, 'correctli': 4148, 'valid': 4149, 'sid': 4150, 'verbal': 4151, 'wholli': 4152, 'accuraci': 4153, 'fenc': 4154, 'judgment': 4155, 'uncov': 4156, 'unravel': 4157, 'click': 4158, 'tech': 4159, 'deniro': 4160, '1993': 4161, 'primit': 4162, 'exclus': 4163, 'antonioni': 4164, 'jewel': 4165, 'norm': 4166, 'kumar': 4167, 'tarantino': 4168, 'anchor': 4169, 'expedit': 4170, 'polici': 4171, 'trait': 4172, 'fart': 4173, 'hallucin': 4174, 'sustain': 4175, 'mode': 4176, 'logan': 4177, 'crippl': 4178, 'bake': 4179, 'joel': 4180, '2008': 4181, 'slam': 4182, 'behold': 4183, 'clerk': 4184, 'debt': 4185, 'malon': 4186, 'sunni': 4187, '1971': 4188, 'tax': 4189, 'temper': 4190, 'seldom': 4191, 'enforc': 4192, '1995': 4193, 'fabric': 4194, 'sheet': 4195, 'nicola': 4196, 'darn': 4197, 'patienc': 4198, 'roller': 4199, 'sand': 4200, 'vanc': 4201, 'pocket': 4202, '3000': 4203, 'wretch': 4204, 'dreck': 4205, 'murray': 4206, 'wang': 4207, 'alec': 4208, 'unfair': 4209, 'conduct': 4210, 'ritual': 4211, 'fought': 4212, 'shanghai': 4213, 'phil': 4214, 'technicolor': 4215, 'canyon': 4216, 'tactic': 4217, 'pete': 4218, 'penni': 4219, 'scriptwrit': 4220, 'fundament': 4221, 'exhaust': 4222, 'critiqu': 4223, 'robber': 4224, 'despis': 4225, 'schedul': 4226, 'rita': 4227, 'divid': 4228, 'guitar': 4229, 'runner': 4230, 'bias': 4231, 'stark': 4232, 'helpless': 4233, 'preston': 4234, 'outlin': 4235, 'shell': 4236, 'bridget': 4237, 'clau': 4238, 'stuart': 4239, 'soup': 4240, 'legaci': 4241, 'conscious': 4242, 'squad': 4243, 'isabel': 4244, 'sweep': 4245, 'grief': 4246, 'preposter': 4247, 'inabl': 4248, 'boyl': 4249, 'culmin': 4250, 'sniper': 4251, 'drove': 4252, 'gregori': 4253, 'alley': 4254, 'russia': 4255, 'restrict': 4256, 'kansa': 4257, 'sugar': 4258, 'passag': 4259, 'invad': 4260, 'vomit': 4261, 'flair': 4262, 'rear': 4263, 'liberti': 4264, 'cigarett': 4265, 'lacklust': 4266, 'implic': 4267, 'propos': 4268, 'bloom': 4269, 'jacket': 4270, 'marc': 4271, 'delv': 4272, 'agenc': 4273, 'connor': 4274, 'unexpectedli': 4275, 'palanc': 4276, 'rehash': 4277, 'consciou': 4278, 'downey': 4279, 'jodi': 4280, 'sentinel': 4281, 'alicia': 4282, 'newman': 4283, 'arrow': 4284, 'mccoy': 4285, 'rod': 4286, 'tripe': 4287, 'wrench': 4288, 'delet': 4289, 'awhil': 4290, 'tendenc': 4291, 'horn': 4292, 'feat': 4293, 'sharon': 4294, 'lush': 4295, 'improb': 4296, '22': 4297, '1936': 4298, 'aesthet': 4299, 'asylum': 4300, 'foxx': 4301, 'ladder': 4302, 'karl': 4303, 'pale': 4304, 'chainsaw': 4305, 'rampag': 4306, 'cap': 4307, 'yeti': 4308, 'behaviour': 4309, 'bacon': 4310, 'vet': 4311, 'rehears': 4312, 'kolchak': 4313, 'el': 4314, 'suffici': 4315, '19th': 4316, 'newcom': 4317, 'hackney': 4318, 'lurk': 4319, 'wildli': 4320, 'scoop': 4321, 'paradis': 4322, 'stream': 4323, 'financ': 4324, 'minu': 4325, 'weav': 4326, '1920': 4327, '1988': 4328, 'suspicion': 4329, 'amazon': 4330, 'filler': 4331, 'fright': 4332, 'globe': 4333, 'underneath': 4334, 'hungri': 4335, 'spice': 4336, 'basing': 4337, 'wagner': 4338, 'hulk': 4339, 'elit': 4340, 'coaster': 4341, 'visitor': 4342, 'shortcom': 4343, 'thunderbird': 4344, 'tomorrow': 4345, 'loneli': 4346, 'aristocrat': 4347, 'tasteless': 4348, 'paramount': 4349, 'rhythm': 4350, 'sung': 4351, 'conscienc': 4352, '1978': 4353, 'prank': 4354, 'rumor': 4355, 'posey': 4356, 'abrupt': 4357, 'standout': 4358, 'choppi': 4359, 'paxton': 4360, '1939': 4361, 'brit': 4362, 'dirt': 4363, 'leigh': 4364, 'recogniz': 4365, 'grudg': 4366, 'atroc': 4367, 'couch': 4368, 'chavez': 4369, 'curli': 4370, 'ram': 4371, 'ingeni': 4372, 'naughti': 4373, 'rub': 4374, 'straightforward': 4375, 'en': 4376, 'hopkin': 4377, 'literari': 4378, '75': 4379, 'smell': 4380, 'beverli': 4381, 'cancer': 4382, 'teas': 4383, 'wwe': 4384, 'counterpart': 4385, 'iv': 4386, 'impos': 4387, 'inmat': 4388, 'heist': 4389, 'immers': 4390, 'quietli': 4391, '1989': 4392, 'lectur': 4393, 'springer': 4394, 'entranc': 4395, 'minist': 4396, 'chamberlain': 4397, 'bread': 4398, 'worship': 4399, 'secondari': 4400, 'penn': 4401, 'tierney': 4402, 'convert': 4403, 'quaid': 4404, 'attenborough': 4405, 'injuri': 4406, 'lindsay': 4407, 'bernard': 4408, 'yearn': 4409, 'watcher': 4410, 'heartfelt': 4411, 'entitl': 4412, 'policeman': 4413, 'skeptic': 4414, 'net': 4415, 'missil': 4416, 'moreov': 4417, 'sublim': 4418, 'nemesi': 4419, 'esther': 4420, 'transcend': 4421, 'misguid': 4422, '1986': 4423, 'clan': 4424, 'duel': 4425, 'morbid': 4426, 'variat': 4427, 'enthral': 4428, 'ace': 4429, 'sassi': 4430, 'cattl': 4431, 'nolan': 4432, 'laurenc': 4433, 'ratso': 4434, 'geni': 4435, 'brood': 4436, 'hopelessli': 4437, 'spiral': 4438, 'poe': 4439, '1979': 4440, 'cruelti': 4441, 'characteris': 4442, 'egg': 4443, 'graini': 4444, 'mytholog': 4445, 'uncut': 4446, 'kitti': 4447, 'unexplain': 4448, 'out': 4449, 'steadi': 4450, 'facil': 4451, 'moder': 4452, 'reliabl': 4453, 'grin': 4454, 'puppi': 4455, 'tyler': 4456, 'diari': 4457, 'kidman': 4458, 'artsi': 4459, 'setup': 4460, 'carlito': 4461, 'bean': 4462, 'buzz': 4463, 'hk': 4464, 'rosemari': 4465, 'bye': 4466, 'obstacl': 4467, 'enabl': 4468, 'dont': 4469, 'youngest': 4470, 'vader': 4471, 'narrow': 4472, 'heap': 4473, 'despic': 4474, 'baffl': 4475, 'spontan': 4476, 'decept': 4477, 'acquaint': 4478, 'kline': 4479, 'gillian': 4480, 'underworld': 4481, 'christin': 4482, 'hain': 4483, 'martha': 4484, 'athlet': 4485, 'patricia': 4486, 'bewar': 4487, 'bronson': 4488, 'disastr': 4489, 'hammi': 4490, 'effici': 4491, 'exterior': 4492, 'oblig': 4493, 'brendan': 4494, 'clueless': 4495, '1969': 4496, 'weather': 4497, 'sweat': 4498, 'bounc': 4499, 'gina': 4500, 'fuel': 4501, 'niec': 4502, 'preming': 4503, 'analyz': 4504, '19': 4505, 'preachi': 4506, 'harmless': 4507, 'circu': 4508, 'housewif': 4509, 'uh': 4510, 'shatter': 4511, 'sooner': 4512, 'virtu': 4513, 'outlaw': 4514, 'loi': 4515, 'enlist': 4516, 'angst': 4517, 'scar': 4518, '73': 4519, 'astound': 4520, 'viewpoint': 4521, 'fontain': 4522, 'suprem': 4523, 'insipid': 4524, 'tick': 4525, 'dandi': 4526, 'biker': 4527, 'goof': 4528, 'hepburn': 4529, 'injur': 4530, 'trigger': 4531, 'headach': 4532, 'loath': 4533, 'lester': 4534, 'mermaid': 4535, 'sleepwalk': 4536, 'mayhem': 4537, 'rome': 4538, 'taboo': 4539, 'candl': 4540, 'dilemma': 4541, 'renaiss': 4542, 'redund': 4543, 'macho': 4544, 'ebert': 4545, 'intric': 4546, 'overlong': 4547, 'hokey': 4548, 'dismal': 4549, 'oldest': 4550, 'camcord': 4551, 'claustrophob': 4552, 'stair': 4553, 'hostag': 4554, 'salt': 4555, 'contempt': 4556, 'surgeri': 4557, 'glorifi': 4558, 'corbett': 4559, 'amor': 4560, 'immatur': 4561, 'tripl': 4562, 'boston': 4563, 'sox': 4564, 'phenomenon': 4565, 'hooker': 4566, 'zoom': 4567, 'fluff': 4568, 'guin': 4569, 'ariel': 4570, 'gere': 4571, 'cassavet': 4572, 'spade': 4573, 'stimul': 4574, 'whore': 4575, 'scorses': 4576, 'foolish': 4577, 'idol': 4578, 'dish': 4579, 'filth': 4580, 'steer': 4581, 'bent': 4582, 'slimi': 4583, '1981': 4584, 'strongest': 4585, 'flashi': 4586, 'messi': 4587, 'schlock': 4588, 'zane': 4589, 'faint': 4590, 'corman': 4591, 'mount': 4592, 'widescreen': 4593, 'keen': 4594, 'trivia': 4595, 'shield': 4596, 'margin': 4597, 'preced': 4598, 'dwarf': 4599, 'proport': 4600, 'transplant': 4601, 'assert': 4602, 'muscl': 4603, 'shred': 4604, 'cow': 4605, '1976': 4606, 'naschi': 4607, 'mutual': 4608, 'gabl': 4609, 'perman': 4610, 'astronaut': 4611, 'down': 4612, 'alvin': 4613, 'radiat': 4614, 'fascist': 4615, 'flag': 4616, 'flirt': 4617, 'gasp': 4618, 'nolt': 4619, 'antagonist': 4620, 'spinal': 4621, 'rhyme': 4622, 'beard': 4623, 'remad': 4624, 'obligatori': 4625, 'harold': 4626, 'conquer': 4627, 'cohen': 4628, 'spree': 4629, 'cush': 4630, 'frantic': 4631, 'joker': 4632, 'mol': 4633, 'carey': 4634, 'departur': 4635, 'boob': 4636, 'archiv': 4637, 'instruct': 4638, 'discern': 4639, 'someday': 4640, '1945': 4641, 'wield': 4642, 'brush': 4643, '95': 4644, 'vaniti': 4645, 'strive': 4646, 'danish': 4647, 'barn': 4648, 'deer': 4649, 'repris': 4650, '28': 4651, 'inflict': 4652, 'claud': 4653, 'raj': 4654, 'neurot': 4655, 'info': 4656, 'persuad': 4657, 'sensual': 4658, 'mobil': 4659, 'triangl': 4660, 'flock': 4661, 'interestingli': 4662, 'scandal': 4663, 'www': 4664, 'divin': 4665, 'resum': 4666, 'fishburn': 4667, 'ritchi': 4668, 'bachelor': 4669, 'off': 4670, 'bitten': 4671, 'aborigin': 4672, 'hara': 4673, 'loretta': 4674, 'biblic': 4675, 'carlo': 4676, 'prophet': 4677, 'pixar': 4678, 'neill': 4679, 'miracul': 4680, 'fragil': 4681, 'hapless': 4682, 'cb': 4683, 'frontier': 4684, 'colin': 4685, 'luka': 4686, 'senior': 4687, 'banter': 4688, 'dim': 4689, 'dame': 4690, 'cycl': 4691, 'casino': 4692, 'parson': 4693, 'vibrant': 4694, 'hilar': 4695, 'hug': 4696, 'cliffhang': 4697, 'anton': 4698, 'traffic': 4699, 'pickford': 4700, 'jade': 4701, 'heartwarm': 4702, 'rot': 4703, 'submit': 4704, 'artwork': 4705, 'axe': 4706, 'earnest': 4707, 'helm': 4708, 'dylan': 4709, 'proclaim': 4710, 'cher': 4711, 'pacif': 4712, 'harrison': 4713, 'wendigo': 4714, 'kathryn': 4715, 'ish': 4716, 'clad': 4717, 'recit': 4718, 'bate': 4719, 'mobster': 4720, 'undermin': 4721, 'melissa': 4722, 'europa': 4723, 'timberlak': 4724, 'legitim': 4725, 'seedi': 4726, 'illus': 4727, 'choke': 4728, 'isra': 4729, 'jordan': 4730, 'milo': 4731, 'redneck': 4732, 'breakfast': 4733, 'alexandr': 4734, 'vanessa': 4735, 'winchest': 4736, 'cerebr': 4737, 'sicken': 4738, 'feast': 4739, 'estrang': 4740, 'blatantli': 4741, 'akin': 4742, 'foil': 4743, 'shepherd': 4744, 'jo': 4745, 'northern': 4746, 'articl': 4747, 'pc': 4748, 'razor': 4749, 'aris': 4750, 'misfortun': 4751, 'bondag': 4752, 'electron': 4753, 'orphan': 4754, 'lucil': 4755, 'static': 4756, 'rooki': 4757, 'wardrob': 4758, 'nope': 4759, 'venom': 4760, 'marlon': 4761, 'token': 4762, 'http': 4763, 'toronto': 4764, 'bikini': 4765, 'holocaust': 4766, 'uma': 4767, 'vile': 4768, 'eli': 4769, 'flavor': 4770, 'antholog': 4771, 'lui': 4772, 'trier': 4773, 'mason': 4774, 'mathieu': 4775, 'psych': 4776, 'cartoonish': 4777, 'nightclub': 4778, 'huston': 4779, 'ideolog': 4780, 'disregard': 4781, 'wrestler': 4782, 'oppon': 4783, 'dudley': 4784, 'knightley': 4785, 'audrey': 4786, 'linear': 4787, 'swept': 4788, 'tack': 4789, 'feminin': 4790, 'fifth': 4791, 'smack': 4792, 'charlton': 4793, 'howl': 4794, 'clinic': 4795, 'comprehend': 4796, 'leather': 4797, 'shorter': 4798, 'outdat': 4799, 'magician': 4800, 'glare': 4801, 'frog': 4802, 'abund': 4803, 'gilbert': 4804, 'ceremoni': 4805, 'turd': 4806, 'styliz': 4807, 'peer': 4808, 'deem': 4809, 'gunga': 4810, 'boyer': 4811, 'highway': 4812, 'affleck': 4813, 'retriev': 4814, 'breakdown': 4815, 'spine': 4816, 'deliver': 4817, 'sleaz': 4818, 'plate': 4819, 'bastard': 4820, '4th': 4821, 'lifeless': 4822, 'tara': 4823, '1991': 4824, 'boo': 4825, 'summar': 4826, 'goldsworthi': 4827, 'toe': 4828, 'spawn': 4829, 'newer': 4830, 'moe': 4831, 'compris': 4832, 'phenomen': 4833, 'uniformli': 4834, 'chip': 4835, 'monument': 4836, 'durat': 4837, 'senat': 4838, 'snatch': 4839, 'bogu': 4840, 'lighter': 4841, 'potter': 4842, 'greet': 4843, 'lavish': 4844, 'whack': 4845, 'braveheart': 4846, 'corn': 4847, 'client': 4848, 'cemeteri': 4849, 'evolut': 4850, 'salman': 4851, 'energet': 4852, 'einstein': 4853, '1994': 4854, 'collector': 4855, 'btw': 4856, 'cuban': 4857, 'conrad': 4858, 'mitch': 4859, 'clara': 4860, 'fluid': 4861, 'bulk': 4862, 'jare': 4863, 'occup': 4864, 'historian': 4865, 'inaccuraci': 4866, '1977': 4867, 'firmli': 4868, 'undead': 4869, 'neatli': 4870, 'alleg': 4871, 'judd': 4872, 'lex': 4873, 'spectacl': 4874, 'jam': 4875, 'ie': 4876, 'outright': 4877, 'embark': 4878, 'randolph': 4879, 'sorrow': 4880, '1974': 4881, 'liu': 4882, 'belli': 4883, 'pronounc': 4884, 'replay': 4885, 'trauma': 4886, 'cecil': 4887, 'evelyn': 4888, 'healthi': 4889, 'undertak': 4890, 'eleven': 4891, 'armstrong': 4892, 'kazan': 4893, 'bori': 4894, 'creek': 4895, 'appl': 4896, 'constitut': 4897, 'mcqueen': 4898, 'jule': 4899, 'wtf': 4900, 'jedi': 4901, 'luxuri': 4902, 'kent': 4903, 'ol': 4904, 'signal': 4905, 'nina': 4906, 'gilliam': 4907, 'capot': 4908, 'miami': 4909, 'paula': 4910, 'inaccur': 4911, 'abound': 4912, 'unsuspect': 4913, 'bait': 4914, 'congratul': 4915, 'aussi': 4916, 'inclus': 4917, 'galaxi': 4918, 'roar': 4919, 'poker': 4920, 'groan': 4921, 'vignett': 4922, 'propheci': 4923, 'cape': 4924, 'blur': 4925, 'id': 4926, 'knee': 4927, 'subtli': 4928, 'ash': 4929, 'sacrif': 4930, 'vain': 4931, 'fruit': 4932, 'palm': 4933, 'goldblum': 4934, 'sidewalk': 4935, 'pioneer': 4936, 'conan': 4937, 'pepper': 4938, 'lanc': 4939, 'kiddi': 4940, 'curtain': 4941, 'tokyo': 4942, 'comb': 4943, 'comprehens': 4944, 'decapit': 4945, 'walt': 4946, 'genet': 4947, 'bsg': 4948, 'forgiven': 4949, 'spray': 4950, '1985': 4951, 'unattract': 4952, 'lauren': 4953, 'meal': 4954, 'basket': 4955, 'rosario': 4956, 'relentless': 4957, 'truman': 4958, 'mum': 4959, 'miniseri': 4960, 'antonio': 4961, 'porter': 4962, 'carmen': 4963, 'growth': 4964, 'playboy': 4965, 'hostil': 4966, 'bach': 4967, 'modest': 4968, 'frontal': 4969, 'scariest': 4970, 'epitom': 4971, 'victorian': 4972, 'rapidli': 4973, 'dubiou': 4974, 'casper': 4975, 'optimist': 4976, 'assort': 4977, 'verg': 4978, 'motorcycl': 4979, 'evan': 4980, 'jill': 4981, 'orchestr': 4982, 'substanti': 4983, 'weari': 4984, 'sparkl': 4985, 'mice': 4986, 'cypher': 4987, 'handicap': 4988, '21st': 4989, 'omin': 4990, 'vastli': 4991, 'sophi': 4992, 'incorrect': 4993, 'spill': 4994, 'profil': 4995, 'macabr': 4996, 'ingrid': 4997, 'turtl': 4998, 'asset': 4999}\n"
     ]
    }
   ],
   "source": [
    "word_dict = build_dict(train_X)\n",
    "print(word_dict)"
   ]
  },
  {
   "cell_type": "markdown",
   "metadata": {},
   "source": [
    "**Question:** What are the five most frequently appearing (tokenized) words in the training set? Does it makes sense that these words appear frequently in the training set?"
   ]
  },
  {
   "cell_type": "markdown",
   "metadata": {},
   "source": [
    "**Answer:**\n",
    "* Five most frequently appearing (tokenized) words in the training set: movi, film, one, like, time\n",
    "* Based on given training data, it does make sense "
   ]
  },
  {
   "cell_type": "code",
   "execution_count": 14,
   "metadata": {},
   "outputs": [
    {
     "data": {
      "text/plain": [
       "['movi', 'film', 'one', 'like', 'time']"
      ]
     },
     "execution_count": 14,
     "metadata": {},
     "output_type": "execute_result"
    }
   ],
   "source": [
    "# TODO: Use this space to determine the five most frequently appearing words in the training set.\n",
    "list(word_dict.keys())[:5]"
   ]
  },
  {
   "cell_type": "markdown",
   "metadata": {},
   "source": [
    "### Save `word_dict`\n",
    "\n",
    "Later on when we construct an endpoint which processes a submitted review we will need to make use of the `word_dict` which we have created. As such, we will save it to a file now for future use."
   ]
  },
  {
   "cell_type": "code",
   "execution_count": 15,
   "metadata": {
    "collapsed": true
   },
   "outputs": [],
   "source": [
    "data_dir = '../data/pytorch' # The folder we will use for storing data\n",
    "if not os.path.exists(data_dir): # Make sure that the folder exists\n",
    "    os.makedirs(data_dir)"
   ]
  },
  {
   "cell_type": "code",
   "execution_count": 16,
   "metadata": {
    "collapsed": true
   },
   "outputs": [],
   "source": [
    "with open(os.path.join(data_dir, 'word_dict.pkl'), \"wb\") as f:\n",
    "    pickle.dump(word_dict, f)"
   ]
  },
  {
   "cell_type": "markdown",
   "metadata": {},
   "source": [
    "### Transform the reviews\n",
    "\n",
    "Now that we have our word dictionary which allows us to transform the words appearing in the reviews into integers, it is time to make use of it and convert our reviews to their integer sequence representation, making sure to pad or truncate to a fixed length, which in our case is `500`."
   ]
  },
  {
   "cell_type": "code",
   "execution_count": 17,
   "metadata": {
    "collapsed": true
   },
   "outputs": [],
   "source": [
    "def convert_and_pad(word_dict, sentence, pad=500):\n",
    "    NOWORD = 0 # We will use 0 to represent the 'no word' category\n",
    "    INFREQ = 1 # and we use 1 to represent the infrequent words, i.e., words not appearing in word_dict\n",
    "    \n",
    "    working_sentence = [NOWORD] * pad\n",
    "    \n",
    "    for word_index, word in enumerate(sentence[:pad]):\n",
    "        if word in word_dict:\n",
    "            working_sentence[word_index] = word_dict[word]\n",
    "        else:\n",
    "            working_sentence[word_index] = INFREQ\n",
    "            \n",
    "    return working_sentence, min(len(sentence), pad)\n",
    "\n",
    "def convert_and_pad_data(word_dict, data, pad=500):\n",
    "    result = []\n",
    "    lengths = []\n",
    "    \n",
    "    for sentence in data:\n",
    "        converted, leng = convert_and_pad(word_dict, sentence, pad)\n",
    "        result.append(converted)\n",
    "        lengths.append(leng)\n",
    "        \n",
    "    return np.array(result), np.array(lengths)"
   ]
  },
  {
   "cell_type": "code",
   "execution_count": 18,
   "metadata": {
    "collapsed": true
   },
   "outputs": [],
   "source": [
    "train_X, train_X_len = convert_and_pad_data(word_dict, train_X)\n",
    "test_X, test_X_len = convert_and_pad_data(word_dict, test_X)"
   ]
  },
  {
   "cell_type": "markdown",
   "metadata": {},
   "source": [
    "As a quick check to make sure that things are working as intended, check to see what one of the reviews in the training set looks like after having been processeed. Does this look reasonable? What is the length of a review in the training set?"
   ]
  },
  {
   "cell_type": "code",
   "execution_count": 19,
   "metadata": {},
   "outputs": [
    {
     "name": "stdout",
     "output_type": "stream",
     "text": [
      "[ 188   11  790 1133  378    3   31  985  391   99  482  114  369   31\n",
      "   18 1707   33   21  381  256 2730  994  766   51  531  230  262  433\n",
      "  329  349   34   14 3311   54    8  196    9   28  145    1 2590  571\n",
      "  353  332  709    1    3 1159   44  904   66 2882    3 2406  114   18\n",
      " 1832  190  256 2491  284  691 4248  763  216    9  389  151  748 1225\n",
      " 2863   13 3312    3 2697  123    3 1159    4  148    1   12    3   29\n",
      "    2    1    1  468  151  868  141  452  256   66   31  445  473   12\n",
      " 1313  455  482 2632   18   18  811 4543  184 2062   16   49    5    3\n",
      "   93   95    0    0    0    0    0    0    0    0    0    0    0    0\n",
      "    0    0    0    0    0    0    0    0    0    0    0    0    0    0\n",
      "    0    0    0    0    0    0    0    0    0    0    0    0    0    0\n",
      "    0    0    0    0    0    0    0    0    0    0    0    0    0    0\n",
      "    0    0    0    0    0    0    0    0    0    0    0    0    0    0\n",
      "    0    0    0    0    0    0    0    0    0    0    0    0    0    0\n",
      "    0    0    0    0    0    0    0    0    0    0    0    0    0    0\n",
      "    0    0    0    0    0    0    0    0    0    0    0    0    0    0\n",
      "    0    0    0    0    0    0    0    0    0    0    0    0    0    0\n",
      "    0    0    0    0    0    0    0    0    0    0    0    0    0    0\n",
      "    0    0    0    0    0    0    0    0    0    0    0    0    0    0\n",
      "    0    0    0    0    0    0    0    0    0    0    0    0    0    0\n",
      "    0    0    0    0    0    0    0    0    0    0    0    0    0    0\n",
      "    0    0    0    0    0    0    0    0    0    0    0    0    0    0\n",
      "    0    0    0    0    0    0    0    0    0    0    0    0    0    0\n",
      "    0    0    0    0    0    0    0    0    0    0    0    0    0    0\n",
      "    0    0    0    0    0    0    0    0    0    0    0    0    0    0\n",
      "    0    0    0    0    0    0    0    0    0    0    0    0    0    0\n",
      "    0    0    0    0    0    0    0    0    0    0    0    0    0    0\n",
      "    0    0    0    0    0    0    0    0    0    0    0    0    0    0\n",
      "    0    0    0    0    0    0    0    0    0    0    0    0    0    0\n",
      "    0    0    0    0    0    0    0    0    0    0    0    0    0    0\n",
      "    0    0    0    0    0    0    0    0    0    0    0    0    0    0\n",
      "    0    0    0    0    0    0    0    0    0    0    0    0    0    0\n",
      "    0    0    0    0    0    0    0    0    0    0    0    0    0    0\n",
      "    0    0    0    0    0    0    0    0    0    0    0    0    0    0\n",
      "    0    0    0    0    0    0    0    0    0    0    0    0    0    0\n",
      "    0    0    0    0    0    0    0    0    0    0] 500\n"
     ]
    }
   ],
   "source": [
    "# Use this cell to examine one of the processed reviews to make sure everything is working as intended.\n",
    "print(train_X[0], len(train_X[0]))"
   ]
  },
  {
   "cell_type": "markdown",
   "metadata": {},
   "source": [
    "**Question:** In the cells above we use the `preprocess_data` and `convert_and_pad_data` methods to process both the training and testing set. Why or why not might this be a problem?"
   ]
  },
  {
   "cell_type": "markdown",
   "metadata": {},
   "source": [
    "**Answer:**\n",
    "All the vectors in both testing and training set are of same length. Padding helps in having input vectors same size"
   ]
  },
  {
   "cell_type": "markdown",
   "metadata": {},
   "source": [
    "## Step 3: Upload the data to S3\n",
    "\n",
    "As in the XGBoost notebook, we will need to upload the training dataset to S3 in order for our training code to access it. For now we will save it locally and we will upload to S3 later on.\n",
    "\n",
    "### Save the processed training dataset locally\n",
    "\n",
    "It is important to note the format of the data that we are saving as we will need to know it when we write the training code. In our case, each row of the dataset has the form `label`, `length`, `review[500]` where `review[500]` is a sequence of `500` integers representing the words in the review."
   ]
  },
  {
   "cell_type": "code",
   "execution_count": 20,
   "metadata": {
    "collapsed": true
   },
   "outputs": [],
   "source": [
    "import pandas as pd\n",
    "    \n",
    "pd.concat([pd.DataFrame(train_y), pd.DataFrame(train_X_len), pd.DataFrame(train_X)], axis=1) \\\n",
    "        .to_csv(os.path.join(data_dir, 'train.csv'), header=False, index=False)"
   ]
  },
  {
   "cell_type": "markdown",
   "metadata": {},
   "source": [
    "### Uploading the training data\n",
    "\n",
    "\n",
    "Next, we need to upload the training data to the SageMaker default S3 bucket so that we can provide access to it while training our model."
   ]
  },
  {
   "cell_type": "code",
   "execution_count": 21,
   "metadata": {
    "collapsed": true
   },
   "outputs": [],
   "source": [
    "import sagemaker\n",
    "\n",
    "sagemaker_session = sagemaker.Session()\n",
    "\n",
    "bucket = sagemaker_session.default_bucket()\n",
    "prefix = 'sagemaker/sentiment_rnn'\n",
    "\n",
    "role = sagemaker.get_execution_role()"
   ]
  },
  {
   "cell_type": "code",
   "execution_count": 22,
   "metadata": {
    "collapsed": true
   },
   "outputs": [],
   "source": [
    "input_data = sagemaker_session.upload_data(path=data_dir, bucket=bucket, key_prefix=prefix)"
   ]
  },
  {
   "cell_type": "markdown",
   "metadata": {},
   "source": [
    "**NOTE:** The cell above uploads the entire contents of our data directory. This includes the `word_dict.pkl` file. This is fortunate as we will need this later on when we create an endpoint that accepts an arbitrary review. For now, we will just take note of the fact that it resides in the data directory (and so also in the S3 training bucket) and that we will need to make sure it gets saved in the model directory."
   ]
  },
  {
   "cell_type": "markdown",
   "metadata": {},
   "source": [
    "## Step 4: Build and Train the PyTorch Model\n",
    "\n",
    "In the XGBoost notebook we discussed what a model is in the SageMaker framework. In particular, a model comprises three objects\n",
    "\n",
    " - Model Artifacts,\n",
    " - Training Code, and\n",
    " - Inference Code,\n",
    " \n",
    "each of which interact with one another. In the XGBoost example we used training and inference code that was provided by Amazon. Here we will still be using containers provided by Amazon with the added benefit of being able to include our own custom code.\n",
    "\n",
    "We will start by implementing our own neural network in PyTorch along with a training script. For the purposes of this project we have provided the necessary model object in the `model.py` file, inside of the `train` folder. You can see the provided implementation by running the cell below."
   ]
  },
  {
   "cell_type": "code",
   "execution_count": 23,
   "metadata": {},
   "outputs": [
    {
     "name": "stdout",
     "output_type": "stream",
     "text": [
      "\u001b[34mimport\u001b[39;49;00m \u001b[04m\u001b[36mtorch.nn\u001b[39;49;00m \u001b[34mas\u001b[39;49;00m \u001b[04m\u001b[36mnn\u001b[39;49;00m\r\n",
      "\r\n",
      "\u001b[34mclass\u001b[39;49;00m \u001b[04m\u001b[32mLSTMClassifier\u001b[39;49;00m(nn.Module):\r\n",
      "    \u001b[33m\"\"\"\u001b[39;49;00m\r\n",
      "\u001b[33m    This is the simple RNN model we will be using to perform Sentiment Analysis.\u001b[39;49;00m\r\n",
      "\u001b[33m    \"\"\"\u001b[39;49;00m\r\n",
      "\r\n",
      "    \u001b[34mdef\u001b[39;49;00m \u001b[32m__init__\u001b[39;49;00m(\u001b[36mself\u001b[39;49;00m, embedding_dim, hidden_dim, vocab_size):\r\n",
      "        \u001b[33m\"\"\"\u001b[39;49;00m\r\n",
      "\u001b[33m        Initialize the model by settingg up the various layers.\u001b[39;49;00m\r\n",
      "\u001b[33m        \"\"\"\u001b[39;49;00m\r\n",
      "        \u001b[36msuper\u001b[39;49;00m(LSTMClassifier, \u001b[36mself\u001b[39;49;00m).\u001b[32m__init__\u001b[39;49;00m()\r\n",
      "\r\n",
      "        \u001b[36mself\u001b[39;49;00m.embedding = nn.Embedding(vocab_size, embedding_dim, padding_idx=\u001b[34m0\u001b[39;49;00m)\r\n",
      "        \u001b[36mself\u001b[39;49;00m.lstm = nn.LSTM(embedding_dim, hidden_dim)\r\n",
      "        \u001b[36mself\u001b[39;49;00m.dense = nn.Linear(in_features=hidden_dim, out_features=\u001b[34m1\u001b[39;49;00m)\r\n",
      "        \u001b[36mself\u001b[39;49;00m.sig = nn.Sigmoid()\r\n",
      "        \r\n",
      "        \u001b[36mself\u001b[39;49;00m.word_dict = \u001b[36mNone\u001b[39;49;00m\r\n",
      "\r\n",
      "    \u001b[34mdef\u001b[39;49;00m \u001b[32mforward\u001b[39;49;00m(\u001b[36mself\u001b[39;49;00m, x):\r\n",
      "        \u001b[33m\"\"\"\u001b[39;49;00m\r\n",
      "\u001b[33m        Perform a forward pass of our model on some input.\u001b[39;49;00m\r\n",
      "\u001b[33m        \"\"\"\u001b[39;49;00m\r\n",
      "        x = x.t()\r\n",
      "        lengths = x[\u001b[34m0\u001b[39;49;00m,:]\r\n",
      "        reviews = x[\u001b[34m1\u001b[39;49;00m:,:]\r\n",
      "        embeds = \u001b[36mself\u001b[39;49;00m.embedding(reviews)\r\n",
      "        lstm_out, _ = \u001b[36mself\u001b[39;49;00m.lstm(embeds)\r\n",
      "        out = \u001b[36mself\u001b[39;49;00m.dense(lstm_out)\r\n",
      "        out = out[lengths - \u001b[34m1\u001b[39;49;00m, \u001b[36mrange\u001b[39;49;00m(\u001b[36mlen\u001b[39;49;00m(lengths))]\r\n",
      "        \u001b[34mreturn\u001b[39;49;00m \u001b[36mself\u001b[39;49;00m.sig(out.squeeze())\r\n"
     ]
    }
   ],
   "source": [
    "!pygmentize train/model.py"
   ]
  },
  {
   "cell_type": "markdown",
   "metadata": {},
   "source": [
    "The important takeaway from the implementation provided is that there are three parameters that we may wish to tweak to improve the performance of our model. These are the embedding dimension, the hidden dimension and the size of the vocabulary. We will likely want to make these parameters configurable in the training script so that if we wish to modify them we do not need to modify the script itself. We will see how to do this later on. To start we will write some of the training code in the notebook so that we can more easily diagnose any issues that arise.\n",
    "\n",
    "First we will load a small portion of the training data set to use as a sample. It would be very time consuming to try and train the model completely in the notebook as we do not have access to a gpu and the compute instance that we are using is not particularly powerful. However, we can work on a small bit of the data to get a feel for how our training script is behaving."
   ]
  },
  {
   "cell_type": "code",
   "execution_count": 24,
   "metadata": {
    "collapsed": true
   },
   "outputs": [],
   "source": [
    "import torch\n",
    "import torch.utils.data\n",
    "\n",
    "# Read in only the first 250 rows\n",
    "train_sample = pd.read_csv(os.path.join(data_dir, 'train.csv'), header=None, names=None, nrows=250)\n",
    "\n",
    "# Turn the input pandas dataframe into tensors\n",
    "train_sample_y = torch.from_numpy(train_sample[[0]].values).float().squeeze()\n",
    "train_sample_X = torch.from_numpy(train_sample.drop([0], axis=1).values).long()\n",
    "\n",
    "# Build the dataset\n",
    "train_sample_ds = torch.utils.data.TensorDataset(train_sample_X, train_sample_y)\n",
    "# Build the dataloader\n",
    "train_sample_dl = torch.utils.data.DataLoader(train_sample_ds, batch_size=50)"
   ]
  },
  {
   "cell_type": "markdown",
   "metadata": {},
   "source": [
    "### (TODO) Writing the training method\n",
    "\n",
    "Next we need to write the training code itself. This should be very similar to training methods that you have written before to train PyTorch models. We will leave any difficult aspects such as model saving / loading and parameter loading until a little later."
   ]
  },
  {
   "cell_type": "code",
   "execution_count": 25,
   "metadata": {
    "collapsed": true
   },
   "outputs": [],
   "source": [
    "def train(model, train_loader, epochs, optimizer, loss_fn, device):\n",
    "    for epoch in range(1, epochs + 1):\n",
    "        model.train()\n",
    "        total_loss = 0\n",
    "        for batch in train_loader:         \n",
    "            batch_X, batch_y = batch\n",
    "            \n",
    "            batch_X = batch_X.to(device)\n",
    "            batch_y = batch_y.to(device)\n",
    "            \n",
    "            # TODO: Complete this train method to train the model provided.\n",
    "            optimizer.zero_grad()         # zero accumulated gradients\n",
    "            out = model.forward(batch_X)  # get the output from the model\n",
    "            loss = loss_fn(out, batch_y)  # calculate the loss\n",
    "            loss.backward()               # perform backprop\n",
    "            optimizer.step()              # optimization\n",
    "            total_loss += loss.data.item()# total loss\n",
    "        print(\"Epoch: {}, BCELoss: {}\".format(epoch, total_loss / len(train_loader)))"
   ]
  },
  {
   "cell_type": "markdown",
   "metadata": {},
   "source": [
    "Supposing we have the training method above, we will test that it is working by writing a bit of code in the notebook that executes our training method on the small sample training set that we loaded earlier. The reason for doing this in the notebook is so that we have an opportunity to fix any errors that arise early when they are easier to diagnose."
   ]
  },
  {
   "cell_type": "code",
   "execution_count": 26,
   "metadata": {},
   "outputs": [
    {
     "name": "stdout",
     "output_type": "stream",
     "text": [
      "Epoch: 1, BCELoss: 0.6899735927581787\n",
      "Epoch: 2, BCELoss: 0.680046808719635\n",
      "Epoch: 3, BCELoss: 0.6712074637413025\n",
      "Epoch: 4, BCELoss: 0.661453127861023\n",
      "Epoch: 5, BCELoss: 0.6495843529701233\n"
     ]
    }
   ],
   "source": [
    "import torch.optim as optim\n",
    "from train.model import LSTMClassifier\n",
    "\n",
    "device = torch.device(\"cuda\" if torch.cuda.is_available() else \"cpu\")\n",
    "model = LSTMClassifier(32, 100, 5000).to(device)\n",
    "optimizer = optim.Adam(model.parameters())\n",
    "loss_fn = torch.nn.BCELoss()\n",
    "\n",
    "train(model, train_sample_dl, 5, optimizer, loss_fn, device)"
   ]
  },
  {
   "cell_type": "markdown",
   "metadata": {},
   "source": [
    "In order to construct a PyTorch model using SageMaker we must provide SageMaker with a training script. We may optionally include a directory which will be copied to the container and from which our training code will be run. When the training container is executed it will check the uploaded directory (if there is one) for a `requirements.txt` file and install any required Python libraries, after which the training script will be run."
   ]
  },
  {
   "cell_type": "markdown",
   "metadata": {},
   "source": [
    "### (TODO) Training the model\n",
    "\n",
    "When a PyTorch model is constructed in SageMaker, an entry point must be specified. This is the Python file which will be executed when the model is trained. Inside of the `train` directory is a file called `train.py` which has been provided and which contains most of the necessary code to train our model. The only thing that is missing is the implementation of the `train()` method which you wrote earlier in this notebook.\n",
    "\n",
    "**TODO**: Copy the `train()` method written above and paste it into the `train/train.py` file where required.\n",
    "\n",
    "The way that SageMaker passes hyperparameters to the training script is by way of arguments. These arguments can then be parsed and used in the training script. To see how this is done take a look at the provided `train/train.py` file."
   ]
  },
  {
   "cell_type": "code",
   "execution_count": 36,
   "metadata": {
    "collapsed": true
   },
   "outputs": [],
   "source": [
    "from sagemaker.pytorch import PyTorch\n",
    "\n",
    "estimator = PyTorch(entry_point=\"train.py\",\n",
    "                    source_dir=\"train\",\n",
    "                    role=role,\n",
    "                    framework_version='0.4.0',\n",
    "                    train_instance_count=1,\n",
    "                    train_instance_type='ml.m4.xlarge',\n",
    "                    hyperparameters={\n",
    "                        'epochs': 10,\n",
    "                        'hidden_dim': 200,\n",
    "                    })"
   ]
  },
  {
   "cell_type": "code",
   "execution_count": 37,
   "metadata": {},
   "outputs": [
    {
     "name": "stderr",
     "output_type": "stream",
     "text": [
      "INFO:sagemaker:Creating training-job with name: sagemaker-pytorch-2019-01-29-00-30-12-333\n"
     ]
    },
    {
     "name": "stdout",
     "output_type": "stream",
     "text": [
      "2019-01-29 00:30:12 Starting - Starting the training job...\n",
      "2019-01-29 00:30:17 Starting - Launching requested ML instances......\n",
      "2019-01-29 00:31:17 Starting - Preparing the instances for training...\n",
      "2019-01-29 00:32:11 Downloading - Downloading input data...\n",
      "2019-01-29 00:32:41 Training - Training image download completed. Training in progress..\n",
      "\u001b[31mbash: cannot set terminal process group (-1): Inappropriate ioctl for device\u001b[0m\n",
      "\u001b[31mbash: no job control in this shell\u001b[0m\n",
      "\u001b[31m2019-01-29 00:32:41,870 sagemaker-containers INFO     Imported framework sagemaker_pytorch_container.training\u001b[0m\n",
      "\u001b[31m2019-01-29 00:32:41,873 sagemaker-containers INFO     No GPUs detected (normal if no gpus installed)\u001b[0m\n",
      "\u001b[31m2019-01-29 00:32:41,886 sagemaker_pytorch_container.training INFO     Block until all host DNS lookups succeed.\u001b[0m\n",
      "\u001b[31m2019-01-29 00:32:41,892 sagemaker_pytorch_container.training INFO     Invoking user training script.\u001b[0m\n",
      "\u001b[31m2019-01-29 00:32:42,145 sagemaker-containers INFO     Module train does not provide a setup.py. \u001b[0m\n",
      "\u001b[31mGenerating setup.py\u001b[0m\n",
      "\u001b[31m2019-01-29 00:32:42,145 sagemaker-containers INFO     Generating setup.cfg\u001b[0m\n",
      "\u001b[31m2019-01-29 00:32:42,145 sagemaker-containers INFO     Generating MANIFEST.in\u001b[0m\n",
      "\u001b[31m2019-01-29 00:32:42,145 sagemaker-containers INFO     Installing module with the following command:\u001b[0m\n",
      "\u001b[31m/usr/bin/python -m pip install -U . -r requirements.txt\u001b[0m\n",
      "\u001b[31mProcessing /opt/ml/code\u001b[0m\n",
      "\u001b[31mCollecting pandas (from -r requirements.txt (line 1))\n",
      "  Downloading https://files.pythonhosted.org/packages/cb/59/0c68a171af1eb67690f4ca5daf808c798123c7ec94ec83c78780b4a52a18/pandas-0.24.0-cp35-cp35m-manylinux1_x86_64.whl (10.0MB)\u001b[0m\n",
      "\u001b[31mCollecting numpy (from -r requirements.txt (line 2))\n",
      "  Downloading https://files.pythonhosted.org/packages/64/24/2e9c72f44cec8c872000d78c54230e40550c494647e352d1d06724cdaee6/numpy-1.16.0-cp35-cp35m-manylinux1_x86_64.whl (17.2MB)\u001b[0m\n",
      "\u001b[31mCollecting nltk (from -r requirements.txt (line 3))\n",
      "  Downloading https://files.pythonhosted.org/packages/6f/ed/9c755d357d33bc1931e157f537721efb5b88d2c583fe593cc09603076cc3/nltk-3.4.zip (1.4MB)\u001b[0m\n",
      "\u001b[31mCollecting beautifulsoup4 (from -r requirements.txt (line 4))\n",
      "  Downloading https://files.pythonhosted.org/packages/1d/5d/3260694a59df0ec52f8b4883f5d23b130bc237602a1411fa670eae12351e/beautifulsoup4-4.7.1-py3-none-any.whl (94kB)\u001b[0m\n",
      "\u001b[31mCollecting html5lib (from -r requirements.txt (line 5))\n",
      "  Downloading https://files.pythonhosted.org/packages/a5/62/bbd2be0e7943ec8504b517e62bab011b4946e1258842bc159e5dfde15b96/html5lib-1.0.1-py2.py3-none-any.whl (117kB)\u001b[0m\n",
      "\u001b[31mRequirement already satisfied, skipping upgrade: python-dateutil>=2.5.0 in /usr/local/lib/python3.5/dist-packages (from pandas->-r requirements.txt (line 1)) (2.7.5)\u001b[0m\n",
      "\u001b[31mCollecting pytz>=2011k (from pandas->-r requirements.txt (line 1))\n",
      "  Downloading https://files.pythonhosted.org/packages/61/28/1d3920e4d1d50b19bc5d24398a7cd85cc7b9a75a490570d5a30c57622d34/pytz-2018.9-py2.py3-none-any.whl (510kB)\u001b[0m\n",
      "\u001b[31mRequirement already satisfied, skipping upgrade: six in /usr/local/lib/python3.5/dist-packages (from nltk->-r requirements.txt (line 3)) (1.11.0)\u001b[0m\n",
      "\u001b[31mCollecting singledispatch (from nltk->-r requirements.txt (line 3))\n",
      "  Downloading https://files.pythonhosted.org/packages/c5/10/369f50bcd4621b263927b0a1519987a04383d4a98fb10438042ad410cf88/singledispatch-3.4.0.3-py2.py3-none-any.whl\u001b[0m\n",
      "\u001b[31mCollecting soupsieve>=1.2 (from beautifulsoup4->-r requirements.txt (line 4))\n",
      "  Downloading https://files.pythonhosted.org/packages/bf/b3/2473abf05c4950c6a829ed5dcbc40d8b56d4351d15d6939c8ffb7c6b1a14/soupsieve-1.7.3-py2.py3-none-any.whl\u001b[0m\n",
      "\u001b[31mCollecting webencodings (from html5lib->-r requirements.txt (line 5))\n",
      "  Downloading https://files.pythonhosted.org/packages/f4/24/2a3e3df732393fed8b3ebf2ec078f05546de641fe1b667ee316ec1dcf3b7/webencodings-0.5.1-py2.py3-none-any.whl\u001b[0m\n",
      "\u001b[31mBuilding wheels for collected packages: nltk, train\n",
      "  Running setup.py bdist_wheel for nltk: started\u001b[0m\n",
      "\u001b[31m  Running setup.py bdist_wheel for nltk: finished with status 'done'\n",
      "  Stored in directory: /root/.cache/pip/wheels/4b/c8/24/b2343664bcceb7147efeb21c0b23703a05b23fcfeaceaa2a1e\n",
      "  Running setup.py bdist_wheel for train: started\n",
      "  Running setup.py bdist_wheel for train: finished with status 'done'\n",
      "  Stored in directory: /tmp/pip-ephem-wheel-cache-ikdf0cy0/wheels/35/24/16/37574d11bf9bde50616c67372a334f94fa8356bc7164af8ca3\u001b[0m\n",
      "\u001b[31mSuccessfully built nltk train\u001b[0m\n",
      "\u001b[31mInstalling collected packages: numpy, pytz, pandas, singledispatch, nltk, soupsieve, beautifulsoup4, webencodings, html5lib, train\n",
      "  Found existing installation: numpy 1.15.4\n",
      "    Uninstalling numpy-1.15.4:\n",
      "      Successfully uninstalled numpy-1.15.4\u001b[0m\n",
      "\u001b[31mSuccessfully installed beautifulsoup4-4.7.1 html5lib-1.0.1 nltk-3.4 numpy-1.16.0 pandas-0.24.0 pytz-2018.9 singledispatch-3.4.0.3 soupsieve-1.7.3 train-1.0.0 webencodings-0.5.1\u001b[0m\n",
      "\u001b[31mYou are using pip version 18.1, however version 19.0.1 is available.\u001b[0m\n",
      "\u001b[31mYou should consider upgrading via the 'pip install --upgrade pip' command.\u001b[0m\n",
      "\u001b[31m2019-01-29 00:32:54,027 sagemaker-containers INFO     No GPUs detected (normal if no gpus installed)\u001b[0m\n",
      "\u001b[31m2019-01-29 00:32:54,041 sagemaker-containers INFO     Invoking user script\n",
      "\u001b[0m\n",
      "\u001b[31mTraining Env:\n",
      "\u001b[0m\n",
      "\u001b[31m{\n",
      "    \"resource_config\": {\n",
      "        \"hosts\": [\n",
      "            \"algo-1\"\n",
      "        ],\n",
      "        \"current_host\": \"algo-1\",\n",
      "        \"network_interface_name\": \"ethwe\"\n",
      "    },\n",
      "    \"num_gpus\": 0,\n",
      "    \"additional_framework_parameters\": {},\n",
      "    \"log_level\": 20,\n",
      "    \"current_host\": \"algo-1\",\n",
      "    \"output_data_dir\": \"/opt/ml/output/data\",\n",
      "    \"channel_input_dirs\": {\n",
      "        \"training\": \"/opt/ml/input/data/training\"\n",
      "    },\n",
      "    \"input_data_config\": {\n",
      "        \"training\": {\n",
      "            \"S3DistributionType\": \"FullyReplicated\",\n",
      "            \"TrainingInputMode\": \"File\",\n",
      "            \"RecordWrapperType\": \"None\"\n",
      "        }\n",
      "    },\n",
      "    \"hyperparameters\": {\n",
      "        \"epochs\": 10,\n",
      "        \"hidden_dim\": 200\n",
      "    },\n",
      "    \"output_intermediate_dir\": \"/opt/ml/output/intermediate\",\n",
      "    \"input_config_dir\": \"/opt/ml/input/config\",\n",
      "    \"job_name\": \"sagemaker-pytorch-2019-01-29-00-30-12-333\",\n",
      "    \"framework_module\": \"sagemaker_pytorch_container.training:main\",\n",
      "    \"num_cpus\": 4,\n",
      "    \"hosts\": [\n",
      "        \"algo-1\"\n",
      "    ],\n",
      "    \"module_name\": \"train\",\n",
      "    \"module_dir\": \"s3://sagemaker-us-east-2-637354651523/sagemaker-pytorch-2019-01-29-00-30-12-333/source/sourcedir.tar.gz\",\n",
      "    \"model_dir\": \"/opt/ml/model\",\n",
      "    \"network_interface_name\": \"ethwe\",\n",
      "    \"output_dir\": \"/opt/ml/output\",\n",
      "    \"user_entry_point\": \"train.py\",\n",
      "    \"input_dir\": \"/opt/ml/input\"\u001b[0m\n",
      "\u001b[31m}\n",
      "\u001b[0m\n",
      "\u001b[31mEnvironment variables:\n",
      "\u001b[0m\n",
      "\u001b[31mSM_OUTPUT_DATA_DIR=/opt/ml/output/data\u001b[0m\n",
      "\u001b[31mSM_RESOURCE_CONFIG={\"current_host\":\"algo-1\",\"hosts\":[\"algo-1\"],\"network_interface_name\":\"ethwe\"}\u001b[0m\n",
      "\u001b[31mPYTHONPATH=/usr/local/bin:/usr/lib/python35.zip:/usr/lib/python3.5:/usr/lib/python3.5/plat-x86_64-linux-gnu:/usr/lib/python3.5/lib-dynload:/usr/local/lib/python3.5/dist-packages:/usr/lib/python3/dist-packages\u001b[0m\n",
      "\u001b[31mSM_CURRENT_HOST=algo-1\u001b[0m\n",
      "\u001b[31mSM_INPUT_DIR=/opt/ml/input\u001b[0m\n",
      "\u001b[31mSM_HOSTS=[\"algo-1\"]\u001b[0m\n",
      "\u001b[31mSM_HP_HIDDEN_DIM=200\u001b[0m\n",
      "\u001b[31mSM_TRAINING_ENV={\"additional_framework_parameters\":{},\"channel_input_dirs\":{\"training\":\"/opt/ml/input/data/training\"},\"current_host\":\"algo-1\",\"framework_module\":\"sagemaker_pytorch_container.training:main\",\"hosts\":[\"algo-1\"],\"hyperparameters\":{\"epochs\":10,\"hidden_dim\":200},\"input_config_dir\":\"/opt/ml/input/config\",\"input_data_config\":{\"training\":{\"RecordWrapperType\":\"None\",\"S3DistributionType\":\"FullyReplicated\",\"TrainingInputMode\":\"File\"}},\"input_dir\":\"/opt/ml/input\",\"job_name\":\"sagemaker-pytorch-2019-01-29-00-30-12-333\",\"log_level\":20,\"model_dir\":\"/opt/ml/model\",\"module_dir\":\"s3://sagemaker-us-east-2-637354651523/sagemaker-pytorch-2019-01-29-00-30-12-333/source/sourcedir.tar.gz\",\"module_name\":\"train\",\"network_interface_name\":\"ethwe\",\"num_cpus\":4,\"num_gpus\":0,\"output_data_dir\":\"/opt/ml/output/data\",\"output_dir\":\"/opt/ml/output\",\"output_intermediate_dir\":\"/opt/ml/output/intermediate\",\"resource_config\":{\"current_host\":\"algo-1\",\"hosts\":[\"algo-1\"],\"network_interface_name\":\"ethwe\"},\"user_entry_point\":\"train.py\"}\u001b[0m\n",
      "\u001b[31mSM_INPUT_CONFIG_DIR=/opt/ml/input/config\u001b[0m\n",
      "\u001b[31mSM_OUTPUT_INTERMEDIATE_DIR=/opt/ml/output/intermediate\u001b[0m\n",
      "\u001b[31mSM_OUTPUT_DIR=/opt/ml/output\u001b[0m\n",
      "\u001b[31mSM_CHANNEL_TRAINING=/opt/ml/input/data/training\u001b[0m\n",
      "\u001b[31mSM_HPS={\"epochs\":10,\"hidden_dim\":200}\u001b[0m\n",
      "\u001b[31mSM_FRAMEWORK_PARAMS={}\u001b[0m\n",
      "\u001b[31mSM_MODULE_NAME=train\u001b[0m\n",
      "\u001b[31mSM_NUM_CPUS=4\u001b[0m\n",
      "\u001b[31mSM_LOG_LEVEL=20\u001b[0m\n",
      "\u001b[31mSM_CHANNELS=[\"training\"]\u001b[0m\n",
      "\u001b[31mSM_MODEL_DIR=/opt/ml/model\u001b[0m\n",
      "\u001b[31mSM_NETWORK_INTERFACE_NAME=ethwe\u001b[0m\n",
      "\u001b[31mSM_NUM_GPUS=0\u001b[0m\n",
      "\u001b[31mSM_HP_EPOCHS=10\u001b[0m\n",
      "\u001b[31mSM_USER_ENTRY_POINT=train.py\u001b[0m\n",
      "\u001b[31mSM_USER_ARGS=[\"--epochs\",\"10\",\"--hidden_dim\",\"200\"]\u001b[0m\n",
      "\u001b[31mSM_MODULE_DIR=s3://sagemaker-us-east-2-637354651523/sagemaker-pytorch-2019-01-29-00-30-12-333/source/sourcedir.tar.gz\u001b[0m\n",
      "\u001b[31mSM_FRAMEWORK_MODULE=sagemaker_pytorch_container.training:main\u001b[0m\n",
      "\u001b[31mSM_INPUT_DATA_CONFIG={\"training\":{\"RecordWrapperType\":\"None\",\"S3DistributionType\":\"FullyReplicated\",\"TrainingInputMode\":\"File\"}}\n",
      "\u001b[0m\n",
      "\u001b[31mInvoking script with the following command:\n",
      "\u001b[0m\n",
      "\u001b[31m/usr/bin/python -m train --epochs 10 --hidden_dim 200\n",
      "\n",
      "\u001b[0m\n",
      "\u001b[31mUsing device cpu.\u001b[0m\n",
      "\u001b[31mGet train data loader.\u001b[0m\n",
      "\u001b[31mModel loaded with embedding_dim 32, hidden_dim 200, vocab_size 5000.\u001b[0m\n"
     ]
    },
    {
     "name": "stdout",
     "output_type": "stream",
     "text": [
      "\u001b[31mEpoch: 1, BCELoss: 0.6696684786251613\u001b[0m\n",
      "\u001b[31mEpoch: 2, BCELoss: 0.5828599272942057\u001b[0m\n",
      "\u001b[31mEpoch: 3, BCELoss: 0.5275835954413122\u001b[0m\n",
      "\u001b[31mEpoch: 4, BCELoss: 0.45695699538503376\u001b[0m\n",
      "\u001b[31mEpoch: 5, BCELoss: 0.3886920122467742\u001b[0m\n",
      "\u001b[31mEpoch: 6, BCELoss: 0.3743349563102333\u001b[0m\n",
      "\u001b[31mEpoch: 7, BCELoss: 0.33565294803405293\u001b[0m\n",
      "\u001b[31mEpoch: 8, BCELoss: 0.3072071750553287\u001b[0m\n",
      "\u001b[31mEpoch: 9, BCELoss: 0.2891236054045813\u001b[0m\n",
      "\u001b[31mEpoch: 10, BCELoss: 0.2807503342628479\u001b[0m\n",
      "\u001b[31m2019-01-29 02:14:09,507 sagemaker-containers INFO     Reporting training SUCCESS\u001b[0m\n",
      "\n",
      "2019-01-29 02:14:18 Uploading - Uploading generated training model\n",
      "2019-01-29 02:14:18 Completed - Training job completed\n",
      "Billable seconds: 6127\n"
     ]
    }
   ],
   "source": [
    "estimator.fit({'training': input_data})"
   ]
  },
  {
   "cell_type": "markdown",
   "metadata": {},
   "source": [
    "## Step 5: Testing the model\n",
    "\n",
    "As mentioned at the top of this notebook, we will be testing this model by first deploying it and then sending the testing data to the deployed endpoint. We will do this so that we can make sure that the deployed model is working correctly.\n",
    "\n",
    "## Step 6: Deploy the model for testing\n",
    "\n",
    "Now that we have trained our model, we would like to test it to see how it performs. Currently our model takes input of the form `review_length, review[500]` where `review[500]` is a sequence of `500` integers which describe the words present in the review, encoded using `word_dict`. Fortunately for us, SageMaker provides built-in inference code for models with simple inputs such as this.\n",
    "\n",
    "There is one thing that we need to provide, however, and that is a function which loads the saved model. This function must be called `model_fn()` and takes as its only parameter a path to the directory where the model artifacts are stored. This function must also be present in the python file which we specified as the entry point. In our case the model loading function has been provided and so no changes need to be made.\n",
    "\n",
    "**NOTE**: When the built-in inference code is run it must import the `model_fn()` method from the `train.py` file. This is why the training code is wrapped in a main guard ( ie, `if __name__ == '__main__':` )\n",
    "\n",
    "Since we don't need to change anything in the code that was uploaded during training, we can simply deploy the current model as-is.\n",
    "\n",
    "**NOTE:** When deploying a model you are asking SageMaker to launch an compute instance that will wait for data to be sent to it. As a result, this compute instance will continue to run until *you* shut it down. This is important to know since the cost of a deployed endpoint depends on how long it has been running for.\n",
    "\n",
    "In other words **If you are no longer using a deployed endpoint, shut it down!**\n",
    "\n",
    "**TODO:** Deploy the trained model."
   ]
  },
  {
   "cell_type": "code",
   "execution_count": 38,
   "metadata": {},
   "outputs": [
    {
     "name": "stderr",
     "output_type": "stream",
     "text": [
      "INFO:sagemaker:Creating model with name: sagemaker-pytorch-2019-01-29-00-30-12-333\n",
      "INFO:sagemaker:Creating endpoint with name sagemaker-pytorch-2019-01-29-00-30-12-333\n"
     ]
    },
    {
     "name": "stdout",
     "output_type": "stream",
     "text": [
      "--------------------------------------------------------------------------!"
     ]
    }
   ],
   "source": [
    "# TODO: Deploy the trained model\n",
    "predictor = estimator.deploy(initial_instance_count=1, instance_type='ml.m4.xlarge')"
   ]
  },
  {
   "cell_type": "markdown",
   "metadata": {},
   "source": [
    "## Step 7 - Use the model for testing\n",
    "\n",
    "Once deployed, we can read in the test data and send it off to our deployed model to get some results. Once we collect all of the results we can determine how accurate our model is."
   ]
  },
  {
   "cell_type": "code",
   "execution_count": 39,
   "metadata": {
    "collapsed": true
   },
   "outputs": [],
   "source": [
    "test_X = pd.concat([pd.DataFrame(test_X_len), pd.DataFrame(test_X)], axis=1)"
   ]
  },
  {
   "cell_type": "code",
   "execution_count": 40,
   "metadata": {
    "collapsed": true
   },
   "outputs": [],
   "source": [
    "# We split the data into chunks and send each chunk seperately, accumulating the results.\n",
    "\n",
    "def predict(data, rows=512):\n",
    "    split_array = np.array_split(data, int(data.shape[0] / float(rows) + 1))\n",
    "    predictions = np.array([])\n",
    "    for array in split_array:\n",
    "        predictions = np.append(predictions, predictor.predict(array))\n",
    "    \n",
    "    return predictions"
   ]
  },
  {
   "cell_type": "code",
   "execution_count": 41,
   "metadata": {
    "collapsed": true
   },
   "outputs": [],
   "source": [
    "predictions = predict(test_X.values)\n",
    "predictions = [round(num) for num in predictions]"
   ]
  },
  {
   "cell_type": "code",
   "execution_count": 42,
   "metadata": {},
   "outputs": [
    {
     "data": {
      "text/plain": [
       "0.85132"
      ]
     },
     "execution_count": 42,
     "metadata": {},
     "output_type": "execute_result"
    }
   ],
   "source": [
    "from sklearn.metrics import accuracy_score\n",
    "accuracy_score(test_y, predictions)"
   ]
  },
  {
   "cell_type": "markdown",
   "metadata": {},
   "source": [
    "**Question:** How does this model compare to the XGBoost model you created earlier? Why might these two models perform differently on this dataset? Which do *you* think is better for sentiment analysis?"
   ]
  },
  {
   "cell_type": "markdown",
   "metadata": {},
   "source": [
    "**Answer:**\n",
    "This model is performed similar to XGBoost. XGBoost got slight edge in terms of accuracy. I think it is something to do with the amount of data. Usually Deep Neural networks need large amount of data.\n",
    "\n",
    "* Neural network - 85.1% accuracy\n",
    "* XGBoost - 86.9% accuracy"
   ]
  },
  {
   "cell_type": "markdown",
   "metadata": {},
   "source": [
    "### (TODO) More testing\n",
    "\n",
    "We now have a trained model which has been deployed and which we can send processed reviews to and which returns the predicted sentiment. However, ultimately we would like to be able to send our model an unprocessed review. That is, we would like to send the review itself as a string. For example, suppose we wish to send the following review to our model."
   ]
  },
  {
   "cell_type": "code",
   "execution_count": 43,
   "metadata": {
    "collapsed": true
   },
   "outputs": [],
   "source": [
    "test_review = 'The simplest pleasures in life are the best, and this film is one of them. Combining a rather basic storyline of love and adventure this movie transcends the usual weekend fair with wit and unmitigated charm.'"
   ]
  },
  {
   "cell_type": "markdown",
   "metadata": {},
   "source": [
    "The question we now need to answer is, how do we send this review to our model?\n",
    "\n",
    "Recall in the first section of this notebook we did a bunch of data processing to the IMDb dataset. In particular, we did two specific things to the provided reviews.\n",
    " - Removed any html tags and stemmed the input\n",
    " - Encoded the review as a sequence of integers using `word_dict`\n",
    " \n",
    "In order process the review we will need to repeat these two steps.\n",
    "\n",
    "**TODO**: Using the `review_to_words` and `convert_and_pad` methods from section one, convert `test_review` into a numpy array `test_data` suitable to send to our model. Remember that our model expects input of the form `review_length, review[500]`."
   ]
  },
  {
   "cell_type": "code",
   "execution_count": 44,
   "metadata": {
    "collapsed": true
   },
   "outputs": [],
   "source": [
    "# TODO: Convert test_review into a form usable by the model and save the results in test_data\n",
    "test_data_review_to_words = review_to_words(test_review)\n",
    "test_data = [np.array(convert_and_pad(word_dict, test_data_review_to_words)[0])]"
   ]
  },
  {
   "cell_type": "markdown",
   "metadata": {},
   "source": [
    "Now that we have processed the review, we can send the resulting array to our model to predict the sentiment of the review."
   ]
  },
  {
   "cell_type": "code",
   "execution_count": 45,
   "metadata": {},
   "outputs": [
    {
     "data": {
      "text/plain": [
       "array(0.61020625, dtype=float32)"
      ]
     },
     "execution_count": 45,
     "metadata": {},
     "output_type": "execute_result"
    }
   ],
   "source": [
    "predictor.predict(test_data)"
   ]
  },
  {
   "cell_type": "markdown",
   "metadata": {},
   "source": [
    "Since the return value of our model is close to `1`, we can be certain that the review we submitted is positive."
   ]
  },
  {
   "cell_type": "markdown",
   "metadata": {},
   "source": [
    "### Delete the endpoint\n",
    "\n",
    "Of course, just like in the XGBoost notebook, once we've deployed an endpoint it continues to run until we tell it to shut down. Since we are done using our endpoint for now, we can delete it."
   ]
  },
  {
   "cell_type": "code",
   "execution_count": 46,
   "metadata": {},
   "outputs": [
    {
     "name": "stderr",
     "output_type": "stream",
     "text": [
      "INFO:sagemaker:Deleting endpoint with name: sagemaker-pytorch-2019-01-29-00-30-12-333\n"
     ]
    }
   ],
   "source": [
    "estimator.delete_endpoint()"
   ]
  },
  {
   "cell_type": "markdown",
   "metadata": {},
   "source": [
    "## Step 6 (again) - Deploy the model for the web app\n",
    "\n",
    "Now that we know that our model is working, it's time to create some custom inference code so that we can send the model a review which has not been processed and have it determine the sentiment of the review.\n",
    "\n",
    "As we saw above, by default the estimator which we created, when deployed, will use the entry script and directory which we provided when creating the model. However, since we now wish to accept a string as input and our model expects a processed review, we need to write some custom inference code.\n",
    "\n",
    "We will store the code that we write in the `serve` directory. Provided in this directory is the `model.py` file that we used to construct our model, a `utils.py` file which contains the `review_to_words` and `convert_and_pad` pre-processing functions which we used during the initial data processing, and `predict.py`, the file which will contain our custom inference code. Note also that `requirements.txt` is present which will tell SageMaker what Python libraries are required by our custom inference code.\n",
    "\n",
    "When deploying a PyTorch model in SageMaker, you are expected to provide four functions which the SageMaker inference container will use.\n",
    " - `model_fn`: This function is the same function that we used in the training script and it tells SageMaker how to load our model.\n",
    " - `input_fn`: This function receives the raw serialized input that has been sent to the model's endpoint and its job is to de-serialize and make the input available for the inference code.\n",
    " - `output_fn`: This function takes the output of the inference code and its job is to serialize this output and return it to the caller of the model's endpoint.\n",
    " - `predict_fn`: The heart of the inference script, this is where the actual prediction is done and is the function which you will need to complete.\n",
    "\n",
    "For the simple website that we are constructing during this project, the `input_fn` and `output_fn` methods are relatively straightforward. We only require being able to accept a string as input and we expect to return a single value as output. You might imagine though that in a more complex application the input or output may be image data or some other binary data which would require some effort to serialize.\n",
    "\n",
    "### (TODO) Writing inference code\n",
    "\n",
    "Before writing our custom inference code, we will begin by taking a look at the code which has been provided."
   ]
  },
  {
   "cell_type": "code",
   "execution_count": 47,
   "metadata": {},
   "outputs": [
    {
     "name": "stdout",
     "output_type": "stream",
     "text": [
      "\u001b[34mimport\u001b[39;49;00m \u001b[04m\u001b[36margparse\u001b[39;49;00m\r\n",
      "\u001b[34mimport\u001b[39;49;00m \u001b[04m\u001b[36mjson\u001b[39;49;00m\r\n",
      "\u001b[34mimport\u001b[39;49;00m \u001b[04m\u001b[36mos\u001b[39;49;00m\r\n",
      "\u001b[34mimport\u001b[39;49;00m \u001b[04m\u001b[36mpickle\u001b[39;49;00m\r\n",
      "\u001b[34mimport\u001b[39;49;00m \u001b[04m\u001b[36msys\u001b[39;49;00m\r\n",
      "\u001b[34mimport\u001b[39;49;00m \u001b[04m\u001b[36msagemaker_containers\u001b[39;49;00m\r\n",
      "\u001b[34mimport\u001b[39;49;00m \u001b[04m\u001b[36mpandas\u001b[39;49;00m \u001b[34mas\u001b[39;49;00m \u001b[04m\u001b[36mpd\u001b[39;49;00m\r\n",
      "\u001b[34mimport\u001b[39;49;00m \u001b[04m\u001b[36mnumpy\u001b[39;49;00m \u001b[34mas\u001b[39;49;00m \u001b[04m\u001b[36mnp\u001b[39;49;00m\r\n",
      "\u001b[34mimport\u001b[39;49;00m \u001b[04m\u001b[36mtorch\u001b[39;49;00m\r\n",
      "\u001b[34mimport\u001b[39;49;00m \u001b[04m\u001b[36mtorch.nn\u001b[39;49;00m \u001b[34mas\u001b[39;49;00m \u001b[04m\u001b[36mnn\u001b[39;49;00m\r\n",
      "\u001b[34mimport\u001b[39;49;00m \u001b[04m\u001b[36mtorch.optim\u001b[39;49;00m \u001b[34mas\u001b[39;49;00m \u001b[04m\u001b[36moptim\u001b[39;49;00m\r\n",
      "\u001b[34mimport\u001b[39;49;00m \u001b[04m\u001b[36mtorch.utils.data\u001b[39;49;00m\r\n",
      "\r\n",
      "\u001b[34mfrom\u001b[39;49;00m \u001b[04m\u001b[36mmodel\u001b[39;49;00m \u001b[34mimport\u001b[39;49;00m LSTMClassifier\r\n",
      "\r\n",
      "\u001b[34mfrom\u001b[39;49;00m \u001b[04m\u001b[36mutils\u001b[39;49;00m \u001b[34mimport\u001b[39;49;00m review_to_words, convert_and_pad\r\n",
      "\r\n",
      "\u001b[34mdef\u001b[39;49;00m \u001b[32mmodel_fn\u001b[39;49;00m(model_dir):\r\n",
      "    \u001b[33m\"\"\"Load the PyTorch model from the `model_dir` directory.\"\"\"\u001b[39;49;00m\r\n",
      "    \u001b[34mprint\u001b[39;49;00m(\u001b[33m\"\u001b[39;49;00m\u001b[33mLoading model.\u001b[39;49;00m\u001b[33m\"\u001b[39;49;00m)\r\n",
      "\r\n",
      "    \u001b[37m# First, load the parameters used to create the model.\u001b[39;49;00m\r\n",
      "    model_info = {}\r\n",
      "    model_info_path = os.path.join(model_dir, \u001b[33m'\u001b[39;49;00m\u001b[33mmodel_info.pth\u001b[39;49;00m\u001b[33m'\u001b[39;49;00m)\r\n",
      "    \u001b[34mwith\u001b[39;49;00m \u001b[36mopen\u001b[39;49;00m(model_info_path, \u001b[33m'\u001b[39;49;00m\u001b[33mrb\u001b[39;49;00m\u001b[33m'\u001b[39;49;00m) \u001b[34mas\u001b[39;49;00m f:\r\n",
      "        model_info = torch.load(f)\r\n",
      "\r\n",
      "    \u001b[34mprint\u001b[39;49;00m(\u001b[33m\"\u001b[39;49;00m\u001b[33mmodel_info: {}\u001b[39;49;00m\u001b[33m\"\u001b[39;49;00m.format(model_info))\r\n",
      "\r\n",
      "    \u001b[37m# Determine the device and construct the model.\u001b[39;49;00m\r\n",
      "    device = torch.device(\u001b[33m\"\u001b[39;49;00m\u001b[33mcuda\u001b[39;49;00m\u001b[33m\"\u001b[39;49;00m \u001b[34mif\u001b[39;49;00m torch.cuda.is_available() \u001b[34melse\u001b[39;49;00m \u001b[33m\"\u001b[39;49;00m\u001b[33mcpu\u001b[39;49;00m\u001b[33m\"\u001b[39;49;00m)\r\n",
      "    model = LSTMClassifier(model_info[\u001b[33m'\u001b[39;49;00m\u001b[33membedding_dim\u001b[39;49;00m\u001b[33m'\u001b[39;49;00m], model_info[\u001b[33m'\u001b[39;49;00m\u001b[33mhidden_dim\u001b[39;49;00m\u001b[33m'\u001b[39;49;00m], model_info[\u001b[33m'\u001b[39;49;00m\u001b[33mvocab_size\u001b[39;49;00m\u001b[33m'\u001b[39;49;00m])\r\n",
      "\r\n",
      "    \u001b[37m# Load the store model parameters.\u001b[39;49;00m\r\n",
      "    model_path = os.path.join(model_dir, \u001b[33m'\u001b[39;49;00m\u001b[33mmodel.pth\u001b[39;49;00m\u001b[33m'\u001b[39;49;00m)\r\n",
      "    \u001b[34mwith\u001b[39;49;00m \u001b[36mopen\u001b[39;49;00m(model_path, \u001b[33m'\u001b[39;49;00m\u001b[33mrb\u001b[39;49;00m\u001b[33m'\u001b[39;49;00m) \u001b[34mas\u001b[39;49;00m f:\r\n",
      "        model.load_state_dict(torch.load(f))\r\n",
      "\r\n",
      "    \u001b[37m# Load the saved word_dict.\u001b[39;49;00m\r\n",
      "    word_dict_path = os.path.join(model_dir, \u001b[33m'\u001b[39;49;00m\u001b[33mword_dict.pkl\u001b[39;49;00m\u001b[33m'\u001b[39;49;00m)\r\n",
      "    \u001b[34mwith\u001b[39;49;00m \u001b[36mopen\u001b[39;49;00m(word_dict_path, \u001b[33m'\u001b[39;49;00m\u001b[33mrb\u001b[39;49;00m\u001b[33m'\u001b[39;49;00m) \u001b[34mas\u001b[39;49;00m f:\r\n",
      "        model.word_dict = pickle.load(f)\r\n",
      "\r\n",
      "    model.to(device).eval()\r\n",
      "\r\n",
      "    \u001b[34mprint\u001b[39;49;00m(\u001b[33m\"\u001b[39;49;00m\u001b[33mDone loading model.\u001b[39;49;00m\u001b[33m\"\u001b[39;49;00m)\r\n",
      "    \u001b[34mreturn\u001b[39;49;00m model\r\n",
      "\r\n",
      "\u001b[34mdef\u001b[39;49;00m \u001b[32minput_fn\u001b[39;49;00m(serialized_input_data, content_type):\r\n",
      "    \u001b[34mprint\u001b[39;49;00m(\u001b[33m'\u001b[39;49;00m\u001b[33mDeserializing the input data.\u001b[39;49;00m\u001b[33m'\u001b[39;49;00m)\r\n",
      "    \u001b[34mif\u001b[39;49;00m content_type == \u001b[33m'\u001b[39;49;00m\u001b[33mtext/plain\u001b[39;49;00m\u001b[33m'\u001b[39;49;00m:\r\n",
      "        data = serialized_input_data.decode(\u001b[33m'\u001b[39;49;00m\u001b[33mutf-8\u001b[39;49;00m\u001b[33m'\u001b[39;49;00m)\r\n",
      "        \u001b[34mreturn\u001b[39;49;00m data\r\n",
      "    \u001b[34mraise\u001b[39;49;00m \u001b[36mException\u001b[39;49;00m(\u001b[33m'\u001b[39;49;00m\u001b[33mRequested unsupported ContentType in content_type: \u001b[39;49;00m\u001b[33m'\u001b[39;49;00m + content_type)\r\n",
      "\r\n",
      "\u001b[34mdef\u001b[39;49;00m \u001b[32moutput_fn\u001b[39;49;00m(prediction_output, accept):\r\n",
      "    \u001b[34mprint\u001b[39;49;00m(\u001b[33m'\u001b[39;49;00m\u001b[33mSerializing the generated output.\u001b[39;49;00m\u001b[33m'\u001b[39;49;00m)\r\n",
      "    \u001b[34mreturn\u001b[39;49;00m \u001b[36mstr\u001b[39;49;00m(prediction_output)\r\n",
      "\r\n",
      "\u001b[34mdef\u001b[39;49;00m \u001b[32mpredict_fn\u001b[39;49;00m(input_data, model):\r\n",
      "    \u001b[34mprint\u001b[39;49;00m(\u001b[33m'\u001b[39;49;00m\u001b[33mInferring sentiment of input data.\u001b[39;49;00m\u001b[33m'\u001b[39;49;00m)\r\n",
      "\r\n",
      "    device = torch.device(\u001b[33m\"\u001b[39;49;00m\u001b[33mcuda\u001b[39;49;00m\u001b[33m\"\u001b[39;49;00m \u001b[34mif\u001b[39;49;00m torch.cuda.is_available() \u001b[34melse\u001b[39;49;00m \u001b[33m\"\u001b[39;49;00m\u001b[33mcpu\u001b[39;49;00m\u001b[33m\"\u001b[39;49;00m)\r\n",
      "    \r\n",
      "    \u001b[34mif\u001b[39;49;00m model.word_dict \u001b[35mis\u001b[39;49;00m \u001b[36mNone\u001b[39;49;00m:\r\n",
      "        \u001b[34mraise\u001b[39;49;00m \u001b[36mException\u001b[39;49;00m(\u001b[33m'\u001b[39;49;00m\u001b[33mModel has not been loaded properly, no word_dict.\u001b[39;49;00m\u001b[33m'\u001b[39;49;00m)\r\n",
      "    \r\n",
      "    \u001b[37m# TODO: Process input_data so that it is ready to be sent to our model.\u001b[39;49;00m\r\n",
      "    \u001b[37m#       You should produce two variables:\u001b[39;49;00m\r\n",
      "    \u001b[37m#         data_X   - A sequence of length 500 which represents the converted review\u001b[39;49;00m\r\n",
      "    \u001b[37m#         data_len - The length of the review\u001b[39;49;00m\r\n",
      "\r\n",
      "    words = review_to_words(input_data)\r\n",
      "    data_X, data_len = convert_and_pad(model.word_dict, words)\r\n",
      "\r\n",
      "    \u001b[37m# Using data_X and data_len we construct an appropriate input tensor. Remember\u001b[39;49;00m\r\n",
      "    \u001b[37m# that our model expects input data of the form 'len, review[500]'.\u001b[39;49;00m\r\n",
      "    data_pack = np.hstack((data_len, data_X))\r\n",
      "    data_pack = data_pack.reshape(\u001b[34m1\u001b[39;49;00m, -\u001b[34m1\u001b[39;49;00m)\r\n",
      "    \r\n",
      "    data = torch.from_numpy(data_pack)\r\n",
      "    data = data.to(device)\r\n",
      "\r\n",
      "    \u001b[37m# Make sure to put the model into evaluation mode\u001b[39;49;00m\r\n",
      "    model.eval()\r\n",
      "\r\n",
      "    \u001b[37m# TODO: Compute the result of applying the model to the input data. The variable `result` should\u001b[39;49;00m\r\n",
      "    \u001b[37m#       be a numpy array which contains a single integer which is either 1 or 0\u001b[39;49;00m\r\n",
      "    \u001b[34mwith\u001b[39;49;00m torch.no_grad():\r\n",
      "        output = model.forward(data)\r\n",
      "        \r\n",
      "    result = np.round(output.numpy())\r\n",
      "\r\n",
      "    \u001b[34mreturn\u001b[39;49;00m result\r\n"
     ]
    }
   ],
   "source": [
    "!pygmentize serve/predict.py"
   ]
  },
  {
   "cell_type": "markdown",
   "metadata": {},
   "source": [
    "As mentioned earlier, the `model_fn` method is the same as the one provided in the training code and the `input_fn` and `output_fn` methods are very simple and your task will be to complete the `predict_fn` method. Make sure that you save the completed file as `predict.py` in the `serve` directory.\n",
    "\n",
    "**TODO**: Complete the `predict_fn()` method in the `serve/predict.py` file."
   ]
  },
  {
   "cell_type": "markdown",
   "metadata": {},
   "source": [
    "### Deploying the model\n",
    "\n",
    "Now that the custom inference code has been written, we will create and deploy our model. To begin with, we need to construct a new PyTorchModel object which points to the model artifacts created during training and also points to the inference code that we wish to use. Then we can call the deploy method to launch the deployment container.\n",
    "\n",
    "**NOTE**: The default behaviour for a deployed PyTorch model is to assume that any input passed to the predictor is a `numpy` array. In our case we want to send a string so we need to construct a simple wrapper around the `RealTimePredictor` class to accomodate simple strings. In a more complicated situation you may want to provide a serialization object, for example if you wanted to sent image data."
   ]
  },
  {
   "cell_type": "code",
   "execution_count": 48,
   "metadata": {},
   "outputs": [
    {
     "name": "stderr",
     "output_type": "stream",
     "text": [
      "INFO:sagemaker:Creating model with name: sagemaker-pytorch-2019-01-29-02-32-27-537\n",
      "INFO:sagemaker:Creating endpoint with name sagemaker-pytorch-2019-01-29-02-32-27-537\n"
     ]
    },
    {
     "name": "stdout",
     "output_type": "stream",
     "text": [
      "--------------------------------------------------------------------------!"
     ]
    }
   ],
   "source": [
    "from sagemaker.predictor import RealTimePredictor\n",
    "from sagemaker.pytorch import PyTorchModel\n",
    "\n",
    "class StringPredictor(RealTimePredictor):\n",
    "    def __init__(self, endpoint_name, sagemaker_session):\n",
    "        super(StringPredictor, self).__init__(endpoint_name, sagemaker_session, content_type='text/plain')\n",
    "\n",
    "model = PyTorchModel(model_data=estimator.model_data,\n",
    "                     role = role,\n",
    "                     framework_version='0.4.0',\n",
    "                     entry_point='predict.py',\n",
    "                     source_dir='serve',\n",
    "                     predictor_cls=StringPredictor)\n",
    "predictor = model.deploy(initial_instance_count=1, instance_type='ml.m4.xlarge')"
   ]
  },
  {
   "cell_type": "markdown",
   "metadata": {},
   "source": [
    "### Testing the model\n",
    "\n",
    "Now that we have deployed our model with the custom inference code, we should test to see if everything is working. Here we test our model by loading the first `250` positive and negative reviews and send them to the endpoint, then collect the results. The reason for only sending some of the data is that the amount of time it takes for our model to process the input and then perform inference is quite long and so testing the entire data set would be prohibitive."
   ]
  },
  {
   "cell_type": "code",
   "execution_count": 55,
   "metadata": {
    "collapsed": true
   },
   "outputs": [],
   "source": [
    "import glob\n",
    "\n",
    "def test_reviews(data_dir='../data/aclImdb', stop=250):\n",
    "    \n",
    "    results = []\n",
    "    ground = []\n",
    "    \n",
    "    # We make sure to test both positive and negative reviews    \n",
    "    for sentiment in ['pos', 'neg']:\n",
    "        \n",
    "        path = os.path.join(data_dir, 'test', sentiment, '*.txt')\n",
    "        files = glob.glob(path)\n",
    "        \n",
    "        files_read = 0\n",
    "        \n",
    "        print('Starting ', sentiment, ' files')\n",
    "        \n",
    "        # Iterate through the files and send them to the predictor\n",
    "        for f in files:\n",
    "            with open(f) as review:\n",
    "                # First, we store the ground truth (was the review positive or negative)\n",
    "                if sentiment == 'pos':\n",
    "                    ground.append(1)\n",
    "                else:\n",
    "                    ground.append(0)\n",
    "                # Read in the review and convert to 'utf-8' for transmission via HTTP\n",
    "                review_input = review.read().encode('utf-8')\n",
    "                # Send the review to the predictor and store the results\n",
    "                results.append(float(predictor.predict(review_input)))\n",
    "                \n",
    "            # Sending reviews to our endpoint one at a time takes a while so we\n",
    "            # only send a small number of reviews\n",
    "            files_read += 1\n",
    "            if files_read == stop:\n",
    "                break\n",
    "            \n",
    "    return ground, results"
   ]
  },
  {
   "cell_type": "code",
   "execution_count": 56,
   "metadata": {},
   "outputs": [
    {
     "name": "stdout",
     "output_type": "stream",
     "text": [
      "Starting  pos  files\n",
      "Starting  neg  files\n"
     ]
    }
   ],
   "source": [
    "ground, results = test_reviews()"
   ]
  },
  {
   "cell_type": "code",
   "execution_count": 57,
   "metadata": {},
   "outputs": [
    {
     "data": {
      "text/plain": [
       "0.852"
      ]
     },
     "execution_count": 57,
     "metadata": {},
     "output_type": "execute_result"
    }
   ],
   "source": [
    "from sklearn.metrics import accuracy_score\n",
    "accuracy_score(ground, results)"
   ]
  },
  {
   "cell_type": "markdown",
   "metadata": {},
   "source": [
    "As an additional test, we can try sending the `test_review` that we looked at earlier."
   ]
  },
  {
   "cell_type": "code",
   "execution_count": 58,
   "metadata": {},
   "outputs": [
    {
     "data": {
      "text/plain": [
       "b'1.0'"
      ]
     },
     "execution_count": 58,
     "metadata": {},
     "output_type": "execute_result"
    }
   ],
   "source": [
    "predictor.predict(test_review)"
   ]
  },
  {
   "cell_type": "markdown",
   "metadata": {},
   "source": [
    "Now that we know our endpoint is working as expected, we can set up the web page that will interact with it. If you don't have time to finish the project now, make sure to skip down to the end of this notebook and shut down your endpoint. You can deploy it again when you come back."
   ]
  },
  {
   "cell_type": "markdown",
   "metadata": {},
   "source": [
    "## Step 7 (again): Use the model for the web app\n",
    "\n",
    "> **TODO:** This entire section and the next contain tasks for you to complete, mostly using the AWS console.\n",
    "\n",
    "So far we have been accessing our model endpoint by constructing a predictor object which uses the endpoint and then just using the predictor object to perform inference. What if we wanted to create a web app which accessed our model? The way things are set up currently makes that not possible since in order to access a SageMaker endpoint the app would first have to authenticate with AWS using an IAM role which included access to SageMaker endpoints. However, there is an easier way! We just need to use some additional AWS services.\n",
    "\n",
    "<img src=\"Web App Diagram.svg\">\n",
    "\n",
    "The diagram above gives an overview of how the various services will work together. On the far right is the model which we trained above and which is deployed using SageMaker. On the far left is our web app that collects a user's movie review, sends it off and expects a positive or negative sentiment in return.\n",
    "\n",
    "In the middle is where some of the magic happens. We will construct a Lambda function, which you can think of as a straightforward Python function that can be executed whenever a specified event occurs. We will give this function permission to send and recieve data from a SageMaker endpoint.\n",
    "\n",
    "Lastly, the method we will use to execute the Lambda function is a new endpoint that we will create using API Gateway. This endpoint will be a url that listens for data to be sent to it. Once it gets some data it will pass that data on to the Lambda function and then return whatever the Lambda function returns. Essentially it will act as an interface that lets our web app communicate with the Lambda function.\n",
    "\n",
    "### Setting up a Lambda function\n",
    "\n",
    "The first thing we are going to do is set up a Lambda function. This Lambda function will be executed whenever our public API has data sent to it. When it is executed it will receive the data, perform any sort of processing that is required, send the data (the review) to the SageMaker endpoint we've created and then return the result.\n",
    "\n",
    "#### Part A: Create an IAM Role for the Lambda function\n",
    "\n",
    "Since we want the Lambda function to call a SageMaker endpoint, we need to make sure that it has permission to do so. To do this, we will construct a role that we can later give the Lambda function.\n",
    "\n",
    "Using the AWS Console, navigate to the **IAM** page and click on **Roles**. Then, click on **Create role**. Make sure that the **AWS service** is the type of trusted entity selected and choose **Lambda** as the service that will use this role, then click **Next: Permissions**.\n",
    "\n",
    "In the search box type `sagemaker` and select the check box next to the **AmazonSageMakerFullAccess** policy. Then, click on **Next: Review**.\n",
    "\n",
    "Lastly, give this role a name. Make sure you use a name that you will remember later on, for example `LambdaSageMakerRole`. Then, click on **Create role**.\n",
    "\n",
    "#### Part B: Create a Lambda function\n",
    "\n",
    "Now it is time to actually create the Lambda function.\n",
    "\n",
    "Using the AWS Console, navigate to the AWS Lambda page and click on **Create a function**. When you get to the next page, make sure that **Author from scratch** is selected. Now, name your Lambda function, using a name that you will remember later on, for example `sentiment_analysis_func`. Make sure that the **Python 3.6** runtime is selected and then choose the role that you created in the previous part. Then, click on **Create Function**.\n",
    "\n",
    "On the next page you will see some information about the Lambda function you've just created. If you scroll down you should see an editor in which you can write the code that will be executed when your Lambda function is triggered. In our example, we will use the code below. \n",
    "\n",
    "```python\n",
    "# We need to use the low-level library to interact with SageMaker since the SageMaker API\n",
    "# is not available natively through Lambda.\n",
    "import boto3\n",
    "\n",
    "def lambda_handler(event, context):\n",
    "\n",
    "    # The SageMaker runtime is what allows us to invoke the endpoint that we've created.\n",
    "    runtime = boto3.Session().client('sagemaker-runtime')\n",
    "\n",
    "    # Now we use the SageMaker runtime to invoke our endpoint, sending the review we were given\n",
    "    response = runtime.invoke_endpoint(EndpointName = '**ENDPOINT NAME HERE**',    # The name of the endpoint we created\n",
    "                                       ContentType = 'text/plain',                 # The data format that is expected\n",
    "                                       Body = event['body'])                       # The actual review\n",
    "\n",
    "    # The response is an HTTP response whose body contains the result of our inference\n",
    "    result = response['Body'].read().decode('utf-8')\n",
    "\n",
    "    return {\n",
    "        'statusCode' : 200,\n",
    "        'headers' : { 'Content-Type' : 'text/plain', 'Access-Control-Allow-Origin' : '*' },\n",
    "        'body' : result\n",
    "    }\n",
    "```\n",
    "\n",
    "Once you have copy and pasted the code above into the Lambda code editor, replace the `**ENDPOINT NAME HERE**` portion with the name of the endpoint that we deployed earlier. You can determine the name of the endpoint using the code cell below."
   ]
  },
  {
   "cell_type": "code",
   "execution_count": 59,
   "metadata": {},
   "outputs": [
    {
     "data": {
      "text/plain": [
       "'sagemaker-pytorch-2019-01-29-02-32-27-537'"
      ]
     },
     "execution_count": 59,
     "metadata": {},
     "output_type": "execute_result"
    }
   ],
   "source": [
    "predictor.endpoint"
   ]
  },
  {
   "cell_type": "markdown",
   "metadata": {},
   "source": [
    "Once you have added the endpoint name to the Lambda function, click on **Save**. Your Lambda function is now up and running. Next we need to create a way for our web app to execute the Lambda function.\n",
    "\n",
    "### Setting up API Gateway\n",
    "\n",
    "Now that our Lambda function is set up, it is time to create a new API using API Gateway that will trigger the Lambda function we have just created.\n",
    "\n",
    "Using AWS Console, navigate to **Amazon API Gateway** and then click on **Get started**.\n",
    "\n",
    "On the next page, make sure that **New API** is selected and give the new api a name, for example, `sentiment_analysis_api`. Then, click on **Create API**.\n",
    "\n",
    "Now we have created an API, however it doesn't currently do anything. What we want it to do is to trigger the Lambda function that we created earlier.\n",
    "\n",
    "Select the **Actions** dropdown menu and click **Create Method**. A new blank method will be created, select its dropdown menu and select **POST**, then click on the check mark beside it.\n",
    "\n",
    "For the integration point, make sure that **Lambda Function** is selected and click on the **Use Lambda Proxy integration**. This option makes sure that the data that is sent to the API is then sent directly to the Lambda function with no processing. It also means that the return value must be a proper response object as it will also not be processed by API Gateway.\n",
    "\n",
    "Type the name of the Lambda function you created earlier into the **Lambda Function** text entry box and then click on **Save**. Click on **OK** in the pop-up box that then appears, giving permission to API Gateway to invoke the Lambda function you created.\n",
    "\n",
    "The last step in creating the API Gateway is to select the **Actions** dropdown and click on **Deploy API**. You will need to create a new Deployment stage and name it anything you like, for example `prod`.\n",
    "\n",
    "You have now successfully set up a public API to access your SageMaker model. Make sure to copy or write down the URL provided to invoke your newly created public API as this will be needed in the next step. This URL can be found at the top of the page, highlighted in blue next to the text **Invoke URL**."
   ]
  },
  {
   "cell_type": "markdown",
   "metadata": {},
   "source": [
    "## Step 4: Deploying our web app\n",
    "\n",
    "Now that we have a publicly available API, we can start using it in a web app. For our purposes, we have provided a simple static html file which can make use of the public api you created earlier.\n",
    "\n",
    "In the `website` folder there should be a file called `index.html`. Download the file to your computer and open that file up in a text editor of your choice. There should be a line which contains **\\*\\*REPLACE WITH PUBLIC API URL\\*\\***. Replace this string with the url that you wrote down in the last step and then save the file.\n",
    "\n",
    "Now, if you open `index.html` on your local computer, your browser will behave as a local web server and you can use the provided site to interact with your SageMaker model.\n",
    "\n",
    "If you'd like to go further, you can host this html file anywhere you'd like, for example using github or hosting a static site on Amazon's S3. Once you have done this you can share the link with anyone you'd like and have them play with it too!\n",
    "\n",
    "> **Important Note** In order for the web app to communicate with the SageMaker endpoint, the endpoint has to actually be deployed and running. This means that you are paying for it. Make sure that the endpoint is running when you want to use the web app but that you shut it down when you don't need it, otherwise you will end up with a surprisingly large AWS bill.\n",
    "\n",
    "**TODO:** Make sure that you include the edited `index.html` file in your project submission."
   ]
  },
  {
   "cell_type": "markdown",
   "metadata": {},
   "source": [
    "Now that your web app is working, trying playing around with it and see how well it works.\n",
    "\n",
    "**Question**: Give an example of a review that you entered into your web app. What was the predicted sentiment of your example review?"
   ]
  },
  {
   "cell_type": "markdown",
   "metadata": {},
   "source": [
    "**Answer:**\n",
    "\n",
    "**Review1:**\n",
    "If you're looking for a typical biopic, this is not for you. This film is a meditation on growing old after living a very public life. It's anchored by an exceptional performance by Meryl Strep. The film is apolitical -- it really doesn't take sides but simply portrays some of the events of Margaret Thatcher's life more to illustrate her character than to support or denigrate her politics. Essentially, it's a film about a politician without much interest in her politics. If your expectation is to see Margaret Thatcher portrayed as a heroine or a monster, you're probably going to hate this film. Don't watch it for the politics - watch it for the performance of a lifetime by one of the great actresses of the 20th and 21st centuries.\n",
    "\n",
    "**Review1 Predicted sentiment:** Your review was POSITIVE!\n",
    "\n",
    "\n",
    "**Review2:**\n",
    "It's like a really bad 1980s prime time soap opera, except most of the characters are black. Every scene features music which is supposed to heighten the drama but instead proves annoying. The characters are stick figures with little depth or interest - the star basketball player, his perfect MBA wife, their perfect children, the MBA wife's brother who's recently out of prison, his adorable son, etc. You will need a scorecard to keep track of the vast cast. The visuals are gorgeous but bear little relationship to the plot. I know I'm supposed to like this because it was created and executive produced by Oprah and Ava DuVernay (the director of Selma). I don't. If you're looking for a new TV show with a black cast, try the far superior Atlanta on FX.\n",
    "\n",
    "**Review2 Predicted sentiment:** Your review was NEGATIVE!"
   ]
  },
  {
   "cell_type": "markdown",
   "metadata": {},
   "source": [
    "### Delete the endpoint\n",
    "\n",
    "Remember to always shut down your endpoint if you are no longer using it. You are charged for the length of time that the endpoint is running so if you forget and leave it on you could end up with an unexpectedly large bill."
   ]
  },
  {
   "cell_type": "code",
   "execution_count": 60,
   "metadata": {},
   "outputs": [
    {
     "name": "stderr",
     "output_type": "stream",
     "text": [
      "INFO:sagemaker:Deleting endpoint with name: sagemaker-pytorch-2019-01-29-02-32-27-537\n"
     ]
    }
   ],
   "source": [
    "predictor.delete_endpoint()"
   ]
  },
  {
   "cell_type": "code",
   "execution_count": null,
   "metadata": {
    "collapsed": true
   },
   "outputs": [],
   "source": []
  }
 ],
 "metadata": {
  "kernelspec": {
   "display_name": "Python 3",
   "language": "python",
   "name": "python3"
  },
  "language_info": {
   "codemirror_mode": {
    "name": "ipython",
    "version": 3
   },
   "file_extension": ".py",
   "mimetype": "text/x-python",
   "name": "python",
   "nbconvert_exporter": "python",
   "pygments_lexer": "ipython3",
   "version": "3.6.7"
  }
 },
 "nbformat": 4,
 "nbformat_minor": 2
}
